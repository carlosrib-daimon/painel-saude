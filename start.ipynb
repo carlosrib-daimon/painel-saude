{
 "cells": [
  {
   "cell_type": "code",
   "execution_count": 1,
   "metadata": {},
   "outputs": [],
   "source": [
    "import pandas as pd"
   ]
  },
  {
   "cell_type": "markdown",
   "metadata": {},
   "source": [
    "### Regiões de Saúde"
   ]
  },
  {
   "cell_type": "code",
   "execution_count": 2,
   "metadata": {},
   "outputs": [
    {
     "ename": "FileNotFoundError",
     "evalue": "[Errno 2] No such file or directory: 'C:\\\\Users\\\\Carlos\\\\PainelSaude\\\\base\\\\regioesSaude.csv'",
     "output_type": "error",
     "traceback": [
      "\u001b[31m---------------------------------------------------------------------------\u001b[39m",
      "\u001b[31mFileNotFoundError\u001b[39m                         Traceback (most recent call last)",
      "\u001b[36mCell\u001b[39m\u001b[36m \u001b[39m\u001b[32mIn[2]\u001b[39m\u001b[32m, line 1\u001b[39m\n\u001b[32m----> \u001b[39m\u001b[32m1\u001b[39m df_regioes = \u001b[43mpd\u001b[49m\u001b[43m.\u001b[49m\u001b[43mread_csv\u001b[49m\u001b[43m(\u001b[49m\u001b[33;43mr\u001b[39;49m\u001b[33;43m\"\u001b[39;49m\u001b[33;43mC:\u001b[39;49m\u001b[33;43m\\\u001b[39;49m\u001b[33;43mUsers\u001b[39;49m\u001b[33;43m\\\u001b[39;49m\u001b[33;43mCarlos\u001b[39;49m\u001b[33;43m\\\u001b[39;49m\u001b[33;43mPainelSaude\u001b[39;49m\u001b[33;43m\\\u001b[39;49m\u001b[33;43mbase\u001b[39;49m\u001b[33;43m\\\u001b[39;49m\u001b[33;43mregioesSaude.csv\u001b[39;49m\u001b[33;43m\"\u001b[39;49m\u001b[43m)\u001b[49m\n\u001b[32m      3\u001b[39m df_regioes.head()\n",
      "\u001b[36mFile \u001b[39m\u001b[32mc:\\Users\\Carlos\\PainelSaude\\venv\\Lib\\site-packages\\pandas\\io\\parsers\\readers.py:1026\u001b[39m, in \u001b[36mread_csv\u001b[39m\u001b[34m(filepath_or_buffer, sep, delimiter, header, names, index_col, usecols, dtype, engine, converters, true_values, false_values, skipinitialspace, skiprows, skipfooter, nrows, na_values, keep_default_na, na_filter, verbose, skip_blank_lines, parse_dates, infer_datetime_format, keep_date_col, date_parser, date_format, dayfirst, cache_dates, iterator, chunksize, compression, thousands, decimal, lineterminator, quotechar, quoting, doublequote, escapechar, comment, encoding, encoding_errors, dialect, on_bad_lines, delim_whitespace, low_memory, memory_map, float_precision, storage_options, dtype_backend)\u001b[39m\n\u001b[32m   1013\u001b[39m kwds_defaults = _refine_defaults_read(\n\u001b[32m   1014\u001b[39m     dialect,\n\u001b[32m   1015\u001b[39m     delimiter,\n\u001b[32m   (...)\u001b[39m\u001b[32m   1022\u001b[39m     dtype_backend=dtype_backend,\n\u001b[32m   1023\u001b[39m )\n\u001b[32m   1024\u001b[39m kwds.update(kwds_defaults)\n\u001b[32m-> \u001b[39m\u001b[32m1026\u001b[39m \u001b[38;5;28;01mreturn\u001b[39;00m \u001b[43m_read\u001b[49m\u001b[43m(\u001b[49m\u001b[43mfilepath_or_buffer\u001b[49m\u001b[43m,\u001b[49m\u001b[43m \u001b[49m\u001b[43mkwds\u001b[49m\u001b[43m)\u001b[49m\n",
      "\u001b[36mFile \u001b[39m\u001b[32mc:\\Users\\Carlos\\PainelSaude\\venv\\Lib\\site-packages\\pandas\\io\\parsers\\readers.py:620\u001b[39m, in \u001b[36m_read\u001b[39m\u001b[34m(filepath_or_buffer, kwds)\u001b[39m\n\u001b[32m    617\u001b[39m _validate_names(kwds.get(\u001b[33m\"\u001b[39m\u001b[33mnames\u001b[39m\u001b[33m\"\u001b[39m, \u001b[38;5;28;01mNone\u001b[39;00m))\n\u001b[32m    619\u001b[39m \u001b[38;5;66;03m# Create the parser.\u001b[39;00m\n\u001b[32m--> \u001b[39m\u001b[32m620\u001b[39m parser = \u001b[43mTextFileReader\u001b[49m\u001b[43m(\u001b[49m\u001b[43mfilepath_or_buffer\u001b[49m\u001b[43m,\u001b[49m\u001b[43m \u001b[49m\u001b[43m*\u001b[49m\u001b[43m*\u001b[49m\u001b[43mkwds\u001b[49m\u001b[43m)\u001b[49m\n\u001b[32m    622\u001b[39m \u001b[38;5;28;01mif\u001b[39;00m chunksize \u001b[38;5;129;01mor\u001b[39;00m iterator:\n\u001b[32m    623\u001b[39m     \u001b[38;5;28;01mreturn\u001b[39;00m parser\n",
      "\u001b[36mFile \u001b[39m\u001b[32mc:\\Users\\Carlos\\PainelSaude\\venv\\Lib\\site-packages\\pandas\\io\\parsers\\readers.py:1620\u001b[39m, in \u001b[36mTextFileReader.__init__\u001b[39m\u001b[34m(self, f, engine, **kwds)\u001b[39m\n\u001b[32m   1617\u001b[39m     \u001b[38;5;28mself\u001b[39m.options[\u001b[33m\"\u001b[39m\u001b[33mhas_index_names\u001b[39m\u001b[33m\"\u001b[39m] = kwds[\u001b[33m\"\u001b[39m\u001b[33mhas_index_names\u001b[39m\u001b[33m\"\u001b[39m]\n\u001b[32m   1619\u001b[39m \u001b[38;5;28mself\u001b[39m.handles: IOHandles | \u001b[38;5;28;01mNone\u001b[39;00m = \u001b[38;5;28;01mNone\u001b[39;00m\n\u001b[32m-> \u001b[39m\u001b[32m1620\u001b[39m \u001b[38;5;28mself\u001b[39m._engine = \u001b[38;5;28;43mself\u001b[39;49m\u001b[43m.\u001b[49m\u001b[43m_make_engine\u001b[49m\u001b[43m(\u001b[49m\u001b[43mf\u001b[49m\u001b[43m,\u001b[49m\u001b[43m \u001b[49m\u001b[38;5;28;43mself\u001b[39;49m\u001b[43m.\u001b[49m\u001b[43mengine\u001b[49m\u001b[43m)\u001b[49m\n",
      "\u001b[36mFile \u001b[39m\u001b[32mc:\\Users\\Carlos\\PainelSaude\\venv\\Lib\\site-packages\\pandas\\io\\parsers\\readers.py:1880\u001b[39m, in \u001b[36mTextFileReader._make_engine\u001b[39m\u001b[34m(self, f, engine)\u001b[39m\n\u001b[32m   1878\u001b[39m     \u001b[38;5;28;01mif\u001b[39;00m \u001b[33m\"\u001b[39m\u001b[33mb\u001b[39m\u001b[33m\"\u001b[39m \u001b[38;5;129;01mnot\u001b[39;00m \u001b[38;5;129;01min\u001b[39;00m mode:\n\u001b[32m   1879\u001b[39m         mode += \u001b[33m\"\u001b[39m\u001b[33mb\u001b[39m\u001b[33m\"\u001b[39m\n\u001b[32m-> \u001b[39m\u001b[32m1880\u001b[39m \u001b[38;5;28mself\u001b[39m.handles = \u001b[43mget_handle\u001b[49m\u001b[43m(\u001b[49m\n\u001b[32m   1881\u001b[39m \u001b[43m    \u001b[49m\u001b[43mf\u001b[49m\u001b[43m,\u001b[49m\n\u001b[32m   1882\u001b[39m \u001b[43m    \u001b[49m\u001b[43mmode\u001b[49m\u001b[43m,\u001b[49m\n\u001b[32m   1883\u001b[39m \u001b[43m    \u001b[49m\u001b[43mencoding\u001b[49m\u001b[43m=\u001b[49m\u001b[38;5;28;43mself\u001b[39;49m\u001b[43m.\u001b[49m\u001b[43moptions\u001b[49m\u001b[43m.\u001b[49m\u001b[43mget\u001b[49m\u001b[43m(\u001b[49m\u001b[33;43m\"\u001b[39;49m\u001b[33;43mencoding\u001b[39;49m\u001b[33;43m\"\u001b[39;49m\u001b[43m,\u001b[49m\u001b[43m \u001b[49m\u001b[38;5;28;43;01mNone\u001b[39;49;00m\u001b[43m)\u001b[49m\u001b[43m,\u001b[49m\n\u001b[32m   1884\u001b[39m \u001b[43m    \u001b[49m\u001b[43mcompression\u001b[49m\u001b[43m=\u001b[49m\u001b[38;5;28;43mself\u001b[39;49m\u001b[43m.\u001b[49m\u001b[43moptions\u001b[49m\u001b[43m.\u001b[49m\u001b[43mget\u001b[49m\u001b[43m(\u001b[49m\u001b[33;43m\"\u001b[39;49m\u001b[33;43mcompression\u001b[39;49m\u001b[33;43m\"\u001b[39;49m\u001b[43m,\u001b[49m\u001b[43m \u001b[49m\u001b[38;5;28;43;01mNone\u001b[39;49;00m\u001b[43m)\u001b[49m\u001b[43m,\u001b[49m\n\u001b[32m   1885\u001b[39m \u001b[43m    \u001b[49m\u001b[43mmemory_map\u001b[49m\u001b[43m=\u001b[49m\u001b[38;5;28;43mself\u001b[39;49m\u001b[43m.\u001b[49m\u001b[43moptions\u001b[49m\u001b[43m.\u001b[49m\u001b[43mget\u001b[49m\u001b[43m(\u001b[49m\u001b[33;43m\"\u001b[39;49m\u001b[33;43mmemory_map\u001b[39;49m\u001b[33;43m\"\u001b[39;49m\u001b[43m,\u001b[49m\u001b[43m \u001b[49m\u001b[38;5;28;43;01mFalse\u001b[39;49;00m\u001b[43m)\u001b[49m\u001b[43m,\u001b[49m\n\u001b[32m   1886\u001b[39m \u001b[43m    \u001b[49m\u001b[43mis_text\u001b[49m\u001b[43m=\u001b[49m\u001b[43mis_text\u001b[49m\u001b[43m,\u001b[49m\n\u001b[32m   1887\u001b[39m \u001b[43m    \u001b[49m\u001b[43merrors\u001b[49m\u001b[43m=\u001b[49m\u001b[38;5;28;43mself\u001b[39;49m\u001b[43m.\u001b[49m\u001b[43moptions\u001b[49m\u001b[43m.\u001b[49m\u001b[43mget\u001b[49m\u001b[43m(\u001b[49m\u001b[33;43m\"\u001b[39;49m\u001b[33;43mencoding_errors\u001b[39;49m\u001b[33;43m\"\u001b[39;49m\u001b[43m,\u001b[49m\u001b[43m \u001b[49m\u001b[33;43m\"\u001b[39;49m\u001b[33;43mstrict\u001b[39;49m\u001b[33;43m\"\u001b[39;49m\u001b[43m)\u001b[49m\u001b[43m,\u001b[49m\n\u001b[32m   1888\u001b[39m \u001b[43m    \u001b[49m\u001b[43mstorage_options\u001b[49m\u001b[43m=\u001b[49m\u001b[38;5;28;43mself\u001b[39;49m\u001b[43m.\u001b[49m\u001b[43moptions\u001b[49m\u001b[43m.\u001b[49m\u001b[43mget\u001b[49m\u001b[43m(\u001b[49m\u001b[33;43m\"\u001b[39;49m\u001b[33;43mstorage_options\u001b[39;49m\u001b[33;43m\"\u001b[39;49m\u001b[43m,\u001b[49m\u001b[43m \u001b[49m\u001b[38;5;28;43;01mNone\u001b[39;49;00m\u001b[43m)\u001b[49m\u001b[43m,\u001b[49m\n\u001b[32m   1889\u001b[39m \u001b[43m\u001b[49m\u001b[43m)\u001b[49m\n\u001b[32m   1890\u001b[39m \u001b[38;5;28;01massert\u001b[39;00m \u001b[38;5;28mself\u001b[39m.handles \u001b[38;5;129;01mis\u001b[39;00m \u001b[38;5;129;01mnot\u001b[39;00m \u001b[38;5;28;01mNone\u001b[39;00m\n\u001b[32m   1891\u001b[39m f = \u001b[38;5;28mself\u001b[39m.handles.handle\n",
      "\u001b[36mFile \u001b[39m\u001b[32mc:\\Users\\Carlos\\PainelSaude\\venv\\Lib\\site-packages\\pandas\\io\\common.py:873\u001b[39m, in \u001b[36mget_handle\u001b[39m\u001b[34m(path_or_buf, mode, encoding, compression, memory_map, is_text, errors, storage_options)\u001b[39m\n\u001b[32m    868\u001b[39m \u001b[38;5;28;01melif\u001b[39;00m \u001b[38;5;28misinstance\u001b[39m(handle, \u001b[38;5;28mstr\u001b[39m):\n\u001b[32m    869\u001b[39m     \u001b[38;5;66;03m# Check whether the filename is to be opened in binary mode.\u001b[39;00m\n\u001b[32m    870\u001b[39m     \u001b[38;5;66;03m# Binary mode does not support 'encoding' and 'newline'.\u001b[39;00m\n\u001b[32m    871\u001b[39m     \u001b[38;5;28;01mif\u001b[39;00m ioargs.encoding \u001b[38;5;129;01mand\u001b[39;00m \u001b[33m\"\u001b[39m\u001b[33mb\u001b[39m\u001b[33m\"\u001b[39m \u001b[38;5;129;01mnot\u001b[39;00m \u001b[38;5;129;01min\u001b[39;00m ioargs.mode:\n\u001b[32m    872\u001b[39m         \u001b[38;5;66;03m# Encoding\u001b[39;00m\n\u001b[32m--> \u001b[39m\u001b[32m873\u001b[39m         handle = \u001b[38;5;28;43mopen\u001b[39;49m\u001b[43m(\u001b[49m\n\u001b[32m    874\u001b[39m \u001b[43m            \u001b[49m\u001b[43mhandle\u001b[49m\u001b[43m,\u001b[49m\n\u001b[32m    875\u001b[39m \u001b[43m            \u001b[49m\u001b[43mioargs\u001b[49m\u001b[43m.\u001b[49m\u001b[43mmode\u001b[49m\u001b[43m,\u001b[49m\n\u001b[32m    876\u001b[39m \u001b[43m            \u001b[49m\u001b[43mencoding\u001b[49m\u001b[43m=\u001b[49m\u001b[43mioargs\u001b[49m\u001b[43m.\u001b[49m\u001b[43mencoding\u001b[49m\u001b[43m,\u001b[49m\n\u001b[32m    877\u001b[39m \u001b[43m            \u001b[49m\u001b[43merrors\u001b[49m\u001b[43m=\u001b[49m\u001b[43merrors\u001b[49m\u001b[43m,\u001b[49m\n\u001b[32m    878\u001b[39m \u001b[43m            \u001b[49m\u001b[43mnewline\u001b[49m\u001b[43m=\u001b[49m\u001b[33;43m\"\u001b[39;49m\u001b[33;43m\"\u001b[39;49m\u001b[43m,\u001b[49m\n\u001b[32m    879\u001b[39m \u001b[43m        \u001b[49m\u001b[43m)\u001b[49m\n\u001b[32m    880\u001b[39m     \u001b[38;5;28;01melse\u001b[39;00m:\n\u001b[32m    881\u001b[39m         \u001b[38;5;66;03m# Binary mode\u001b[39;00m\n\u001b[32m    882\u001b[39m         handle = \u001b[38;5;28mopen\u001b[39m(handle, ioargs.mode)\n",
      "\u001b[31mFileNotFoundError\u001b[39m: [Errno 2] No such file or directory: 'C:\\\\Users\\\\Carlos\\\\PainelSaude\\\\base\\\\regioesSaude.csv'"
     ]
    }
   ],
   "source": [
    "df_regioes = pd.read_csv(r\"C:\\Users\\Carlos\\PainelSaude\\base\\regioesSaude.csv\")\n",
    "\n",
    "df_regioes.head()"
   ]
  },
  {
   "cell_type": "markdown",
   "metadata": {},
   "source": [
    "### Estabelecimentos de Saúde"
   ]
  },
  {
   "cell_type": "code",
   "execution_count": 3,
   "metadata": {},
   "outputs": [
    {
     "name": "stderr",
     "output_type": "stream",
     "text": [
      "C:\\Users\\Carlos\\AppData\\Local\\Temp\\ipykernel_71520\\426208020.py:1: DtypeWarning: Columns (0,14,15,36,45) have mixed types. Specify dtype option on import or set low_memory=False.\n",
      "  df_unid = pd.read_csv(r'C:\\Users\\Carlos\\PainelSaude\\base\\tbEstabelecimento202502.csv', encoding='latin1', sep=';')\n"
     ]
    },
    {
     "data": {
      "text/html": [
       "<div>\n",
       "<style scoped>\n",
       "    .dataframe tbody tr th:only-of-type {\n",
       "        vertical-align: middle;\n",
       "    }\n",
       "\n",
       "    .dataframe tbody tr th {\n",
       "        vertical-align: top;\n",
       "    }\n",
       "\n",
       "    .dataframe thead th {\n",
       "        text-align: right;\n",
       "    }\n",
       "</style>\n",
       "<table border=\"1\" class=\"dataframe\">\n",
       "  <thead>\n",
       "    <tr style=\"text-align: right;\">\n",
       "      <th></th>\n",
       "      <th>CO_UNIDADE</th>\n",
       "      <th>CO_CNES</th>\n",
       "      <th>NU_CNPJ_MANTENEDORA</th>\n",
       "      <th>TP_PFPJ</th>\n",
       "      <th>NIVEL_DEP</th>\n",
       "      <th>NO_RAZAO_SOCIAL</th>\n",
       "      <th>NO_FANTASIA</th>\n",
       "      <th>NO_LOGRADOURO</th>\n",
       "      <th>NU_ENDERECO</th>\n",
       "      <th>NO_COMPLEMENTO</th>\n",
       "      <th>...</th>\n",
       "      <th>ST_CONEXAO_INTERNET</th>\n",
       "      <th>CO_TIPO_UNIDADE</th>\n",
       "      <th>NO_FANTASIA_ABREV</th>\n",
       "      <th>TP_GESTAO</th>\n",
       "      <th>TO_CHAR(DT_ATUALIZACAO_ORIGEM,'DD/MM/YYYY')</th>\n",
       "      <th>CO_TIPO_ESTABELECIMENTO</th>\n",
       "      <th>CO_ATIVIDADE_PRINCIPAL</th>\n",
       "      <th>ST_CONTRATO_FORMALIZADO</th>\n",
       "      <th>CO_TIPO_ABRANGENCIA</th>\n",
       "      <th>ST_COWORKING</th>\n",
       "    </tr>\n",
       "  </thead>\n",
       "  <tbody>\n",
       "    <tr>\n",
       "      <th>0</th>\n",
       "      <td>2609602569302</td>\n",
       "      <td>2569302</td>\n",
       "      <td>1.040418e+13</td>\n",
       "      <td>3</td>\n",
       "      <td>3</td>\n",
       "      <td>PREFEITURA MUNICIPAL DE OLINDA</td>\n",
       "      <td>USF BULTRINS MONTE II</td>\n",
       "      <td>RUA PREFEITO MANOEL REGUEIRA</td>\n",
       "      <td>540</td>\n",
       "      <td>NaN</td>\n",
       "      <td>...</td>\n",
       "      <td>S</td>\n",
       "      <td>NaN</td>\n",
       "      <td>NaN</td>\n",
       "      <td>M</td>\n",
       "      <td>18/06/2003</td>\n",
       "      <td>NaN</td>\n",
       "      <td>NaN</td>\n",
       "      <td>NaN</td>\n",
       "      <td>NaN</td>\n",
       "      <td>NaN</td>\n",
       "    </tr>\n",
       "    <tr>\n",
       "      <th>1</th>\n",
       "      <td>2609602571943</td>\n",
       "      <td>2571943</td>\n",
       "      <td>1.040418e+13</td>\n",
       "      <td>3</td>\n",
       "      <td>3</td>\n",
       "      <td>PREFEITURA MUNICIPAL DE OLINDA</td>\n",
       "      <td>UNIDADE MOVEL</td>\n",
       "      <td>RUA DO SOL</td>\n",
       "      <td>311</td>\n",
       "      <td>NaN</td>\n",
       "      <td>...</td>\n",
       "      <td>N</td>\n",
       "      <td>NaN</td>\n",
       "      <td>NaN</td>\n",
       "      <td>M</td>\n",
       "      <td>18/06/2003</td>\n",
       "      <td>16.0</td>\n",
       "      <td>1.0</td>\n",
       "      <td>NaN</td>\n",
       "      <td>NaN</td>\n",
       "      <td>N</td>\n",
       "    </tr>\n",
       "    <tr>\n",
       "      <th>2</th>\n",
       "      <td>2609602344637</td>\n",
       "      <td>2344637</td>\n",
       "      <td>1.040418e+13</td>\n",
       "      <td>3</td>\n",
       "      <td>3</td>\n",
       "      <td>PREFEITURA MUNICIPAL DE OLINDA</td>\n",
       "      <td>USF ALTO DA MINA</td>\n",
       "      <td>RUA AVENCA</td>\n",
       "      <td>49</td>\n",
       "      <td>NaN</td>\n",
       "      <td>...</td>\n",
       "      <td>S</td>\n",
       "      <td>NaN</td>\n",
       "      <td>NaN</td>\n",
       "      <td>M</td>\n",
       "      <td>30/10/2001</td>\n",
       "      <td>1.0</td>\n",
       "      <td>12.0</td>\n",
       "      <td>NaN</td>\n",
       "      <td>NaN</td>\n",
       "      <td>N</td>\n",
       "    </tr>\n",
       "    <tr>\n",
       "      <th>3</th>\n",
       "      <td>2609602344696</td>\n",
       "      <td>2344696</td>\n",
       "      <td>1.040418e+13</td>\n",
       "      <td>3</td>\n",
       "      <td>3</td>\n",
       "      <td>PREFEITURA MUNICIPAL DE OLINDA</td>\n",
       "      <td>USF ILHA DE SANTANA I E II</td>\n",
       "      <td>RUA DA INTEGRACAO</td>\n",
       "      <td>S/N</td>\n",
       "      <td>NaN</td>\n",
       "      <td>...</td>\n",
       "      <td>S</td>\n",
       "      <td>NaN</td>\n",
       "      <td>NaN</td>\n",
       "      <td>M</td>\n",
       "      <td>30/10/2001</td>\n",
       "      <td>1.0</td>\n",
       "      <td>12.0</td>\n",
       "      <td>NaN</td>\n",
       "      <td>NaN</td>\n",
       "      <td>N</td>\n",
       "    </tr>\n",
       "    <tr>\n",
       "      <th>4</th>\n",
       "      <td>3112002142295</td>\n",
       "      <td>2142295</td>\n",
       "      <td>NaN</td>\n",
       "      <td>3</td>\n",
       "      <td>1</td>\n",
       "      <td>FUNDACAO COMUNITARIA DE SAUDE DE CANDEIAS</td>\n",
       "      <td>HOSPITAL CARLOS CHAGAS</td>\n",
       "      <td>AVENIDA PEDRO VIEIRA DE AZEVEDO</td>\n",
       "      <td>687</td>\n",
       "      <td>NaN</td>\n",
       "      <td>...</td>\n",
       "      <td>S</td>\n",
       "      <td>NaN</td>\n",
       "      <td>NaN</td>\n",
       "      <td>M</td>\n",
       "      <td>21/03/2002</td>\n",
       "      <td>6.0</td>\n",
       "      <td>9.0</td>\n",
       "      <td>S</td>\n",
       "      <td>NaN</td>\n",
       "      <td>N</td>\n",
       "    </tr>\n",
       "  </tbody>\n",
       "</table>\n",
       "<p>5 rows × 56 columns</p>\n",
       "</div>"
      ],
      "text/plain": [
       "      CO_UNIDADE  CO_CNES  NU_CNPJ_MANTENEDORA  TP_PFPJ  NIVEL_DEP  \\\n",
       "0  2609602569302  2569302         1.040418e+13        3          3   \n",
       "1  2609602571943  2571943         1.040418e+13        3          3   \n",
       "2  2609602344637  2344637         1.040418e+13        3          3   \n",
       "3  2609602344696  2344696         1.040418e+13        3          3   \n",
       "4  3112002142295  2142295                  NaN        3          1   \n",
       "\n",
       "                             NO_RAZAO_SOCIAL                 NO_FANTASIA  \\\n",
       "0             PREFEITURA MUNICIPAL DE OLINDA       USF BULTRINS MONTE II   \n",
       "1             PREFEITURA MUNICIPAL DE OLINDA               UNIDADE MOVEL   \n",
       "2             PREFEITURA MUNICIPAL DE OLINDA            USF ALTO DA MINA   \n",
       "3             PREFEITURA MUNICIPAL DE OLINDA  USF ILHA DE SANTANA I E II   \n",
       "4  FUNDACAO COMUNITARIA DE SAUDE DE CANDEIAS      HOSPITAL CARLOS CHAGAS   \n",
       "\n",
       "                     NO_LOGRADOURO NU_ENDERECO NO_COMPLEMENTO  ...  \\\n",
       "0     RUA PREFEITO MANOEL REGUEIRA         540            NaN  ...   \n",
       "1                       RUA DO SOL         311            NaN  ...   \n",
       "2                       RUA AVENCA          49            NaN  ...   \n",
       "3                RUA DA INTEGRACAO         S/N            NaN  ...   \n",
       "4  AVENIDA PEDRO VIEIRA DE AZEVEDO         687            NaN  ...   \n",
       "\n",
       "  ST_CONEXAO_INTERNET  CO_TIPO_UNIDADE NO_FANTASIA_ABREV  TP_GESTAO  \\\n",
       "0                   S              NaN               NaN          M   \n",
       "1                   N              NaN               NaN          M   \n",
       "2                   S              NaN               NaN          M   \n",
       "3                   S              NaN               NaN          M   \n",
       "4                   S              NaN               NaN          M   \n",
       "\n",
       "  TO_CHAR(DT_ATUALIZACAO_ORIGEM,'DD/MM/YYYY') CO_TIPO_ESTABELECIMENTO  \\\n",
       "0                                  18/06/2003                     NaN   \n",
       "1                                  18/06/2003                    16.0   \n",
       "2                                  30/10/2001                     1.0   \n",
       "3                                  30/10/2001                     1.0   \n",
       "4                                  21/03/2002                     6.0   \n",
       "\n",
       "  CO_ATIVIDADE_PRINCIPAL  ST_CONTRATO_FORMALIZADO CO_TIPO_ABRANGENCIA  \\\n",
       "0                    NaN                      NaN                 NaN   \n",
       "1                    1.0                      NaN                 NaN   \n",
       "2                   12.0                      NaN                 NaN   \n",
       "3                   12.0                      NaN                 NaN   \n",
       "4                    9.0                        S                 NaN   \n",
       "\n",
       "   ST_COWORKING  \n",
       "0           NaN  \n",
       "1             N  \n",
       "2             N  \n",
       "3             N  \n",
       "4             N  \n",
       "\n",
       "[5 rows x 56 columns]"
      ]
     },
     "execution_count": 3,
     "metadata": {},
     "output_type": "execute_result"
    }
   ],
   "source": [
    "df_unid = pd.read_csv(r'C:\\Users\\Carlos\\PainelSaude\\base\\tbEstabelecimento202502.csv', encoding='latin1', sep=';')\n",
    "\n",
    "df_unid.head()"
   ]
  },
  {
   "cell_type": "code",
   "execution_count": 5,
   "metadata": {},
   "outputs": [
    {
     "data": {
      "text/plain": [
       "CO_NATUREZA_JUR\n",
       "2062.0    183411\n",
       "4000.0    161004\n",
       "1244.0     93380\n",
       "2240.0     35653\n",
       "2135.0     27750\n",
       "           ...  \n",
       "3034.0         1\n",
       "2097.0         1\n",
       "8885.0         1\n",
       "3204.0         1\n",
       "2348.0         1\n",
       "Name: count, Length: 63, dtype: int64"
      ]
     },
     "execution_count": 5,
     "metadata": {},
     "output_type": "execute_result"
    }
   ],
   "source": [
    "df_unid[\"CO_NATUREZA_JUR\"].value_counts(dropna=False)"
   ]
  },
  {
   "cell_type": "code",
   "execution_count": 6,
   "metadata": {},
   "outputs": [
    {
     "data": {
      "text/plain": [
       "Index(['CO_UNIDADE', 'CO_CNES', 'NU_CNPJ_MANTENEDORA', 'TP_PFPJ', 'NIVEL_DEP',\n",
       "       'NO_RAZAO_SOCIAL', 'NO_FANTASIA', 'NO_LOGRADOURO', 'NU_ENDERECO',\n",
       "       'NO_COMPLEMENTO', 'NO_BAIRRO', 'CO_CEP', 'CO_REGIAO_SAUDE',\n",
       "       'CO_MICRO_REGIAO', 'CO_DISTRITO_SANITARIO',\n",
       "       'CO_DISTRITO_ADMINISTRATIVO', 'NU_TELEFONE', 'NU_FAX', 'NO_EMAIL',\n",
       "       'NU_CPF', 'NU_CNPJ', 'CO_ATIVIDADE', 'CO_CLIENTELA', 'NU_ALVARA',\n",
       "       'DT_EXPEDICAO', 'TP_ORGAO_EXPEDIDOR', 'DT_VAL_LIC_SANI', 'TP_LIC_SANI',\n",
       "       'TP_UNIDADE', 'CO_TURNO_ATENDIMENTO', 'CO_ESTADO_GESTOR',\n",
       "       'CO_MUNICIPIO_GESTOR', 'TO_CHAR(DT_ATUALIZACAO,'DD/MM/YYYY')',\n",
       "       'CO_USUARIO', 'CO_CPFDIRETORCLN', 'REG_DIRETORCLN',\n",
       "       'ST_ADESAO_FILANTROP', 'CO_MOTIVO_DESAB', 'NO_URL', 'NU_LATITUDE',\n",
       "       'NU_LONGITUDE', 'TO_CHAR(DT_ATU_GEO,'DD/MM/YYYY')', 'NO_USUARIO_GEO',\n",
       "       'CO_NATUREZA_JUR', 'TP_ESTAB_SEMPRE_ABERTO',\n",
       "       'ST_GERACREDITO_GERENTE_SGIF', 'ST_CONEXAO_INTERNET', 'CO_TIPO_UNIDADE',\n",
       "       'NO_FANTASIA_ABREV', 'TP_GESTAO',\n",
       "       'TO_CHAR(DT_ATUALIZACAO_ORIGEM,'DD/MM/YYYY')',\n",
       "       'CO_TIPO_ESTABELECIMENTO', 'CO_ATIVIDADE_PRINCIPAL',\n",
       "       'ST_CONTRATO_FORMALIZADO', 'CO_TIPO_ABRANGENCIA', 'ST_COWORKING'],\n",
       "      dtype='object')"
      ]
     },
     "execution_count": 6,
     "metadata": {},
     "output_type": "execute_result"
    }
   ],
   "source": [
    "df_unid.columns"
   ]
  },
  {
   "cell_type": "code",
   "execution_count": 7,
   "metadata": {},
   "outputs": [
    {
     "data": {
      "text/plain": [
       "CO_MOTIVO_DESAB\n",
       "NaN     449526\n",
       "8.0      41631\n",
       "4.0      31116\n",
       "10.0     20832\n",
       "6.0      13384\n",
       "11.0      2880\n",
       "7.0       1889\n",
       "1.0        815\n",
       "3.0        670\n",
       "13.0       316\n",
       "9.0         87\n",
       "14.0        78\n",
       "2.0         59\n",
       "5.0         39\n",
       "12.0        24\n",
       "Name: count, dtype: int64"
      ]
     },
     "execution_count": 7,
     "metadata": {},
     "output_type": "execute_result"
    }
   ],
   "source": [
    "df_unid[\"CO_MOTIVO_DESAB\"].value_counts(dropna=False)"
   ]
  },
  {
   "cell_type": "code",
   "execution_count": 8,
   "metadata": {},
   "outputs": [
    {
     "data": {
      "text/html": [
       "<div>\n",
       "<style scoped>\n",
       "    .dataframe tbody tr th:only-of-type {\n",
       "        vertical-align: middle;\n",
       "    }\n",
       "\n",
       "    .dataframe tbody tr th {\n",
       "        vertical-align: top;\n",
       "    }\n",
       "\n",
       "    .dataframe thead th {\n",
       "        text-align: right;\n",
       "    }\n",
       "</style>\n",
       "<table border=\"1\" class=\"dataframe\">\n",
       "  <thead>\n",
       "    <tr style=\"text-align: right;\">\n",
       "      <th></th>\n",
       "      <th>CO_UNIDADE</th>\n",
       "      <th>CO_CNES</th>\n",
       "      <th>NU_CNPJ_MANTENEDORA</th>\n",
       "      <th>TP_PFPJ</th>\n",
       "      <th>NIVEL_DEP</th>\n",
       "      <th>NO_RAZAO_SOCIAL</th>\n",
       "      <th>NO_FANTASIA</th>\n",
       "      <th>NO_LOGRADOURO</th>\n",
       "      <th>NU_ENDERECO</th>\n",
       "      <th>NO_COMPLEMENTO</th>\n",
       "      <th>...</th>\n",
       "      <th>ST_CONEXAO_INTERNET</th>\n",
       "      <th>CO_TIPO_UNIDADE</th>\n",
       "      <th>NO_FANTASIA_ABREV</th>\n",
       "      <th>TP_GESTAO</th>\n",
       "      <th>TO_CHAR(DT_ATUALIZACAO_ORIGEM,'DD/MM/YYYY')</th>\n",
       "      <th>CO_TIPO_ESTABELECIMENTO</th>\n",
       "      <th>CO_ATIVIDADE_PRINCIPAL</th>\n",
       "      <th>ST_CONTRATO_FORMALIZADO</th>\n",
       "      <th>CO_TIPO_ABRANGENCIA</th>\n",
       "      <th>ST_COWORKING</th>\n",
       "    </tr>\n",
       "  </thead>\n",
       "  <tbody>\n",
       "    <tr>\n",
       "      <th>1</th>\n",
       "      <td>2609602571943</td>\n",
       "      <td>2571943</td>\n",
       "      <td>1.040418e+13</td>\n",
       "      <td>3</td>\n",
       "      <td>3</td>\n",
       "      <td>PREFEITURA MUNICIPAL DE OLINDA</td>\n",
       "      <td>UNIDADE MOVEL</td>\n",
       "      <td>RUA DO SOL</td>\n",
       "      <td>311</td>\n",
       "      <td>NaN</td>\n",
       "      <td>...</td>\n",
       "      <td>N</td>\n",
       "      <td>NaN</td>\n",
       "      <td>NaN</td>\n",
       "      <td>M</td>\n",
       "      <td>18/06/2003</td>\n",
       "      <td>16.0</td>\n",
       "      <td>1.0</td>\n",
       "      <td>NaN</td>\n",
       "      <td>NaN</td>\n",
       "      <td>N</td>\n",
       "    </tr>\n",
       "    <tr>\n",
       "      <th>2</th>\n",
       "      <td>2609602344637</td>\n",
       "      <td>2344637</td>\n",
       "      <td>1.040418e+13</td>\n",
       "      <td>3</td>\n",
       "      <td>3</td>\n",
       "      <td>PREFEITURA MUNICIPAL DE OLINDA</td>\n",
       "      <td>USF ALTO DA MINA</td>\n",
       "      <td>RUA AVENCA</td>\n",
       "      <td>49</td>\n",
       "      <td>NaN</td>\n",
       "      <td>...</td>\n",
       "      <td>S</td>\n",
       "      <td>NaN</td>\n",
       "      <td>NaN</td>\n",
       "      <td>M</td>\n",
       "      <td>30/10/2001</td>\n",
       "      <td>1.0</td>\n",
       "      <td>12.0</td>\n",
       "      <td>NaN</td>\n",
       "      <td>NaN</td>\n",
       "      <td>N</td>\n",
       "    </tr>\n",
       "    <tr>\n",
       "      <th>3</th>\n",
       "      <td>2609602344696</td>\n",
       "      <td>2344696</td>\n",
       "      <td>1.040418e+13</td>\n",
       "      <td>3</td>\n",
       "      <td>3</td>\n",
       "      <td>PREFEITURA MUNICIPAL DE OLINDA</td>\n",
       "      <td>USF ILHA DE SANTANA I E II</td>\n",
       "      <td>RUA DA INTEGRACAO</td>\n",
       "      <td>S/N</td>\n",
       "      <td>NaN</td>\n",
       "      <td>...</td>\n",
       "      <td>S</td>\n",
       "      <td>NaN</td>\n",
       "      <td>NaN</td>\n",
       "      <td>M</td>\n",
       "      <td>30/10/2001</td>\n",
       "      <td>1.0</td>\n",
       "      <td>12.0</td>\n",
       "      <td>NaN</td>\n",
       "      <td>NaN</td>\n",
       "      <td>N</td>\n",
       "    </tr>\n",
       "    <tr>\n",
       "      <th>4</th>\n",
       "      <td>3112002142295</td>\n",
       "      <td>2142295</td>\n",
       "      <td>NaN</td>\n",
       "      <td>3</td>\n",
       "      <td>1</td>\n",
       "      <td>FUNDACAO COMUNITARIA DE SAUDE DE CANDEIAS</td>\n",
       "      <td>HOSPITAL CARLOS CHAGAS</td>\n",
       "      <td>AVENIDA PEDRO VIEIRA DE AZEVEDO</td>\n",
       "      <td>687</td>\n",
       "      <td>NaN</td>\n",
       "      <td>...</td>\n",
       "      <td>S</td>\n",
       "      <td>NaN</td>\n",
       "      <td>NaN</td>\n",
       "      <td>M</td>\n",
       "      <td>21/03/2002</td>\n",
       "      <td>6.0</td>\n",
       "      <td>9.0</td>\n",
       "      <td>S</td>\n",
       "      <td>NaN</td>\n",
       "      <td>N</td>\n",
       "    </tr>\n",
       "    <tr>\n",
       "      <th>6</th>\n",
       "      <td>3112902759861</td>\n",
       "      <td>2759861</td>\n",
       "      <td>NaN</td>\n",
       "      <td>3</td>\n",
       "      <td>1</td>\n",
       "      <td>LABORATORIO SANTA HELENA LTDA</td>\n",
       "      <td>LABORATORIO SANTA HELENA</td>\n",
       "      <td>AV MANOEL FRANCISCO DE FREITAS</td>\n",
       "      <td>57</td>\n",
       "      <td>NaN</td>\n",
       "      <td>...</td>\n",
       "      <td>S</td>\n",
       "      <td>NaN</td>\n",
       "      <td>NaN</td>\n",
       "      <td>M</td>\n",
       "      <td>12/09/2003</td>\n",
       "      <td>18.0</td>\n",
       "      <td>2.0</td>\n",
       "      <td>NaN</td>\n",
       "      <td>NaN</td>\n",
       "      <td>N</td>\n",
       "    </tr>\n",
       "  </tbody>\n",
       "</table>\n",
       "<p>5 rows × 56 columns</p>\n",
       "</div>"
      ],
      "text/plain": [
       "      CO_UNIDADE  CO_CNES  NU_CNPJ_MANTENEDORA  TP_PFPJ  NIVEL_DEP  \\\n",
       "1  2609602571943  2571943         1.040418e+13        3          3   \n",
       "2  2609602344637  2344637         1.040418e+13        3          3   \n",
       "3  2609602344696  2344696         1.040418e+13        3          3   \n",
       "4  3112002142295  2142295                  NaN        3          1   \n",
       "6  3112902759861  2759861                  NaN        3          1   \n",
       "\n",
       "                             NO_RAZAO_SOCIAL                 NO_FANTASIA  \\\n",
       "1             PREFEITURA MUNICIPAL DE OLINDA               UNIDADE MOVEL   \n",
       "2             PREFEITURA MUNICIPAL DE OLINDA            USF ALTO DA MINA   \n",
       "3             PREFEITURA MUNICIPAL DE OLINDA  USF ILHA DE SANTANA I E II   \n",
       "4  FUNDACAO COMUNITARIA DE SAUDE DE CANDEIAS      HOSPITAL CARLOS CHAGAS   \n",
       "6              LABORATORIO SANTA HELENA LTDA    LABORATORIO SANTA HELENA   \n",
       "\n",
       "                     NO_LOGRADOURO NU_ENDERECO NO_COMPLEMENTO  ...  \\\n",
       "1                       RUA DO SOL         311            NaN  ...   \n",
       "2                       RUA AVENCA          49            NaN  ...   \n",
       "3                RUA DA INTEGRACAO         S/N            NaN  ...   \n",
       "4  AVENIDA PEDRO VIEIRA DE AZEVEDO         687            NaN  ...   \n",
       "6   AV MANOEL FRANCISCO DE FREITAS          57            NaN  ...   \n",
       "\n",
       "  ST_CONEXAO_INTERNET  CO_TIPO_UNIDADE NO_FANTASIA_ABREV  TP_GESTAO  \\\n",
       "1                   N              NaN               NaN          M   \n",
       "2                   S              NaN               NaN          M   \n",
       "3                   S              NaN               NaN          M   \n",
       "4                   S              NaN               NaN          M   \n",
       "6                   S              NaN               NaN          M   \n",
       "\n",
       "  TO_CHAR(DT_ATUALIZACAO_ORIGEM,'DD/MM/YYYY') CO_TIPO_ESTABELECIMENTO  \\\n",
       "1                                  18/06/2003                    16.0   \n",
       "2                                  30/10/2001                     1.0   \n",
       "3                                  30/10/2001                     1.0   \n",
       "4                                  21/03/2002                     6.0   \n",
       "6                                  12/09/2003                    18.0   \n",
       "\n",
       "  CO_ATIVIDADE_PRINCIPAL  ST_CONTRATO_FORMALIZADO CO_TIPO_ABRANGENCIA  \\\n",
       "1                    1.0                      NaN                 NaN   \n",
       "2                   12.0                      NaN                 NaN   \n",
       "3                   12.0                      NaN                 NaN   \n",
       "4                    9.0                        S                 NaN   \n",
       "6                    2.0                      NaN                 NaN   \n",
       "\n",
       "   ST_COWORKING  \n",
       "1             N  \n",
       "2             N  \n",
       "3             N  \n",
       "4             N  \n",
       "6             N  \n",
       "\n",
       "[5 rows x 56 columns]"
      ]
     },
     "execution_count": 8,
     "metadata": {},
     "output_type": "execute_result"
    }
   ],
   "source": [
    "df_unid_filter = df_unid[df_unid['CO_MOTIVO_DESAB'].isna()]\n",
    "\n",
    "df_unid_filter.head()"
   ]
  },
  {
   "cell_type": "code",
   "execution_count": 30,
   "metadata": {},
   "outputs": [
    {
     "data": {
      "text/html": [
       "<div>\n",
       "<style scoped>\n",
       "    .dataframe tbody tr th:only-of-type {\n",
       "        vertical-align: middle;\n",
       "    }\n",
       "\n",
       "    .dataframe tbody tr th {\n",
       "        vertical-align: top;\n",
       "    }\n",
       "\n",
       "    .dataframe thead th {\n",
       "        text-align: right;\n",
       "    }\n",
       "</style>\n",
       "<table border=\"1\" class=\"dataframe\">\n",
       "  <thead>\n",
       "    <tr style=\"text-align: right;\">\n",
       "      <th></th>\n",
       "      <th>CO_UNIDADE</th>\n",
       "      <th>CO_CNES</th>\n",
       "      <th>NU_CNPJ_MANTENEDORA</th>\n",
       "      <th>TP_PFPJ</th>\n",
       "      <th>NIVEL_DEP</th>\n",
       "      <th>NO_RAZAO_SOCIAL</th>\n",
       "      <th>NO_FANTASIA</th>\n",
       "      <th>NO_LOGRADOURO</th>\n",
       "      <th>NU_ENDERECO</th>\n",
       "      <th>NO_COMPLEMENTO</th>\n",
       "      <th>NO_BAIRRO</th>\n",
       "      <th>CO_CEP</th>\n",
       "      <th>CO_REGIAO_SAUDE</th>\n",
       "      <th>CO_MICRO_REGIAO</th>\n",
       "      <th>CO_DISTRITO_SANITARIO</th>\n",
       "      <th>CO_DISTRITO_ADMINISTRATIVO</th>\n",
       "      <th>NU_TELEFONE</th>\n",
       "      <th>NU_FAX</th>\n",
       "      <th>NO_EMAIL</th>\n",
       "      <th>NU_CPF</th>\n",
       "      <th>NU_CNPJ</th>\n",
       "      <th>CO_ATIVIDADE</th>\n",
       "      <th>CO_CLIENTELA</th>\n",
       "      <th>NU_ALVARA</th>\n",
       "      <th>DT_EXPEDICAO</th>\n",
       "      <th>TP_ORGAO_EXPEDIDOR</th>\n",
       "      <th>DT_VAL_LIC_SANI</th>\n",
       "      <th>TP_LIC_SANI</th>\n",
       "      <th>TP_UNIDADE</th>\n",
       "      <th>CO_TURNO_ATENDIMENTO</th>\n",
       "      <th>CO_ESTADO_GESTOR</th>\n",
       "      <th>CO_MUNICIPIO_GESTOR</th>\n",
       "      <th>TO_CHAR(DT_ATUALIZACAO,'DD/MM/YYYY')</th>\n",
       "      <th>CO_USUARIO</th>\n",
       "      <th>CO_CPFDIRETORCLN</th>\n",
       "      <th>REG_DIRETORCLN</th>\n",
       "      <th>ST_ADESAO_FILANTROP</th>\n",
       "      <th>CO_MOTIVO_DESAB</th>\n",
       "      <th>NO_URL</th>\n",
       "      <th>NU_LATITUDE</th>\n",
       "      <th>NU_LONGITUDE</th>\n",
       "      <th>TO_CHAR(DT_ATU_GEO,'DD/MM/YYYY')</th>\n",
       "      <th>NO_USUARIO_GEO</th>\n",
       "      <th>CO_NATUREZA_JUR</th>\n",
       "      <th>TP_ESTAB_SEMPRE_ABERTO</th>\n",
       "      <th>ST_GERACREDITO_GERENTE_SGIF</th>\n",
       "      <th>ST_CONEXAO_INTERNET</th>\n",
       "      <th>CO_TIPO_UNIDADE</th>\n",
       "      <th>NO_FANTASIA_ABREV</th>\n",
       "      <th>TP_GESTAO</th>\n",
       "      <th>TO_CHAR(DT_ATUALIZACAO_ORIGEM,'DD/MM/YYYY')</th>\n",
       "      <th>CO_TIPO_ESTABELECIMENTO</th>\n",
       "      <th>CO_ATIVIDADE_PRINCIPAL</th>\n",
       "      <th>ST_CONTRATO_FORMALIZADO</th>\n",
       "      <th>CO_TIPO_ABRANGENCIA</th>\n",
       "      <th>ST_COWORKING</th>\n",
       "    </tr>\n",
       "  </thead>\n",
       "  <tbody>\n",
       "    <tr>\n",
       "      <th>10489</th>\n",
       "      <td>3549909743014</td>\n",
       "      <td>9743014</td>\n",
       "      <td>4.664347e+13</td>\n",
       "      <td>3</td>\n",
       "      <td>3</td>\n",
       "      <td>MUNICIPIO DE SAO JOSE DOS CAMPOS</td>\n",
       "      <td>ALMOXARIFADO DA SAUDE DA PREFEITURA DE SAO JOS...</td>\n",
       "      <td>RUA FELICIO SAVASTANO</td>\n",
       "      <td>401</td>\n",
       "      <td>NaN</td>\n",
       "      <td>VILA INDUSTRIAL</td>\n",
       "      <td>12220270</td>\n",
       "      <td>0217</td>\n",
       "      <td>NaN</td>\n",
       "      <td>NaN</td>\n",
       "      <td>NaN</td>\n",
       "      <td>12 39014142</td>\n",
       "      <td>NaN</td>\n",
       "      <td>saudefarma2@sjc.sp.gov.br</td>\n",
       "      <td>NaN</td>\n",
       "      <td>NaN</td>\n",
       "      <td>4</td>\n",
       "      <td>3.0</td>\n",
       "      <td>NaN</td>\n",
       "      <td>NaN</td>\n",
       "      <td>NaN</td>\n",
       "      <td>NaN</td>\n",
       "      <td>NaN</td>\n",
       "      <td>84</td>\n",
       "      <td>3.0</td>\n",
       "      <td>35</td>\n",
       "      <td>354990</td>\n",
       "      <td>11/05/2023</td>\n",
       "      <td>MARCELO</td>\n",
       "      <td>1.098601e+10</td>\n",
       "      <td>NaN</td>\n",
       "      <td>NaN</td>\n",
       "      <td>NaN</td>\n",
       "      <td>NaN</td>\n",
       "      <td>-23.1836796</td>\n",
       "      <td>-45.8586557</td>\n",
       "      <td>11/05/2023</td>\n",
       "      <td>MARCELO</td>\n",
       "      <td>1244.0</td>\n",
       "      <td>N</td>\n",
       "      <td>NaN</td>\n",
       "      <td>S</td>\n",
       "      <td>NaN</td>\n",
       "      <td>NaN</td>\n",
       "      <td>M</td>\n",
       "      <td>10/04/2019</td>\n",
       "      <td>4.0</td>\n",
       "      <td>24.0</td>\n",
       "      <td>S</td>\n",
       "      <td>NaN</td>\n",
       "      <td>NaN</td>\n",
       "    </tr>\n",
       "    <tr>\n",
       "      <th>443070</th>\n",
       "      <td>3549903901297</td>\n",
       "      <td>3901297</td>\n",
       "      <td>NaN</td>\n",
       "      <td>3</td>\n",
       "      <td>1</td>\n",
       "      <td>ASSOCIACAO DE APOIO AO FISSURADO L PALATAIS SJ...</td>\n",
       "      <td>AAFLAP ATENDIMENTO DE ODONTOLOGIA</td>\n",
       "      <td>TERTULIANO MORAES DELFIM</td>\n",
       "      <td>64</td>\n",
       "      <td>NaN</td>\n",
       "      <td>JARDIM MARGARETH</td>\n",
       "      <td>12243530</td>\n",
       "      <td>0217</td>\n",
       "      <td>NaN</td>\n",
       "      <td>NaN</td>\n",
       "      <td>NaN</td>\n",
       "      <td>(12)3942-6533</td>\n",
       "      <td>NaN</td>\n",
       "      <td>ADM1@AAFLAP.ORG.BR; ADM@AAFLAP.ORG.BR</td>\n",
       "      <td>NaN</td>\n",
       "      <td>5.332582e+13</td>\n",
       "      <td>4</td>\n",
       "      <td>3.0</td>\n",
       "      <td>35499040186300015512</td>\n",
       "      <td>13-set-2024 00:00:00</td>\n",
       "      <td>2.0</td>\n",
       "      <td>13-set-2025 00:00:00</td>\n",
       "      <td>1.0</td>\n",
       "      <td>36</td>\n",
       "      <td>3.0</td>\n",
       "      <td>35</td>\n",
       "      <td>354990</td>\n",
       "      <td>22/10/2024</td>\n",
       "      <td>ANA CAROLINA</td>\n",
       "      <td>1.991813e+10</td>\n",
       "      <td>NaN</td>\n",
       "      <td>NaN</td>\n",
       "      <td>NaN</td>\n",
       "      <td>NaN</td>\n",
       "      <td>-23.2070977</td>\n",
       "      <td>-45.8959895</td>\n",
       "      <td>03/05/2023</td>\n",
       "      <td>MARCELO</td>\n",
       "      <td>3999.0</td>\n",
       "      <td>N</td>\n",
       "      <td>NaN</td>\n",
       "      <td>S</td>\n",
       "      <td>NaN</td>\n",
       "      <td>NaN</td>\n",
       "      <td>M</td>\n",
       "      <td>06/05/2006</td>\n",
       "      <td>16.0</td>\n",
       "      <td>1.0</td>\n",
       "      <td>S</td>\n",
       "      <td>NaN</td>\n",
       "      <td>N</td>\n",
       "    </tr>\n",
       "  </tbody>\n",
       "</table>\n",
       "</div>"
      ],
      "text/plain": [
       "           CO_UNIDADE  CO_CNES  NU_CNPJ_MANTENEDORA  TP_PFPJ  NIVEL_DEP  \\\n",
       "10489   3549909743014  9743014         4.664347e+13        3          3   \n",
       "443070  3549903901297  3901297                  NaN        3          1   \n",
       "\n",
       "                                          NO_RAZAO_SOCIAL  \\\n",
       "10489                    MUNICIPIO DE SAO JOSE DOS CAMPOS   \n",
       "443070  ASSOCIACAO DE APOIO AO FISSURADO L PALATAIS SJ...   \n",
       "\n",
       "                                              NO_FANTASIA  \\\n",
       "10489   ALMOXARIFADO DA SAUDE DA PREFEITURA DE SAO JOS...   \n",
       "443070                  AAFLAP ATENDIMENTO DE ODONTOLOGIA   \n",
       "\n",
       "                   NO_LOGRADOURO NU_ENDERECO NO_COMPLEMENTO         NO_BAIRRO  \\\n",
       "10489      RUA FELICIO SAVASTANO         401            NaN   VILA INDUSTRIAL   \n",
       "443070  TERTULIANO MORAES DELFIM          64            NaN  JARDIM MARGARETH   \n",
       "\n",
       "          CO_CEP CO_REGIAO_SAUDE  CO_MICRO_REGIAO CO_DISTRITO_SANITARIO  \\\n",
       "10489   12220270            0217              NaN                   NaN   \n",
       "443070  12243530            0217              NaN                   NaN   \n",
       "\n",
       "       CO_DISTRITO_ADMINISTRATIVO    NU_TELEFONE  NU_FAX  \\\n",
       "10489                         NaN    12 39014142     NaN   \n",
       "443070                        NaN  (12)3942-6533     NaN   \n",
       "\n",
       "                                     NO_EMAIL  NU_CPF       NU_CNPJ  \\\n",
       "10489               saudefarma2@sjc.sp.gov.br     NaN           NaN   \n",
       "443070  ADM1@AAFLAP.ORG.BR; ADM@AAFLAP.ORG.BR     NaN  5.332582e+13   \n",
       "\n",
       "        CO_ATIVIDADE  CO_CLIENTELA             NU_ALVARA  \\\n",
       "10489              4           3.0                   NaN   \n",
       "443070             4           3.0  35499040186300015512   \n",
       "\n",
       "                DT_EXPEDICAO  TP_ORGAO_EXPEDIDOR       DT_VAL_LIC_SANI  \\\n",
       "10489                    NaN                 NaN                   NaN   \n",
       "443070  13-set-2024 00:00:00                 2.0  13-set-2025 00:00:00   \n",
       "\n",
       "        TP_LIC_SANI  TP_UNIDADE  CO_TURNO_ATENDIMENTO  CO_ESTADO_GESTOR  \\\n",
       "10489           NaN          84                   3.0                35   \n",
       "443070          1.0          36                   3.0                35   \n",
       "\n",
       "        CO_MUNICIPIO_GESTOR TO_CHAR(DT_ATUALIZACAO,'DD/MM/YYYY')  \\\n",
       "10489                354990                           11/05/2023   \n",
       "443070               354990                           22/10/2024   \n",
       "\n",
       "          CO_USUARIO  CO_CPFDIRETORCLN REG_DIRETORCLN ST_ADESAO_FILANTROP  \\\n",
       "10489        MARCELO      1.098601e+10            NaN                 NaN   \n",
       "443070  ANA CAROLINA      1.991813e+10            NaN                 NaN   \n",
       "\n",
       "        CO_MOTIVO_DESAB NO_URL  NU_LATITUDE NU_LONGITUDE  \\\n",
       "10489               NaN    NaN  -23.1836796  -45.8586557   \n",
       "443070              NaN    NaN  -23.2070977  -45.8959895   \n",
       "\n",
       "       TO_CHAR(DT_ATU_GEO,'DD/MM/YYYY') NO_USUARIO_GEO  CO_NATUREZA_JUR  \\\n",
       "10489                        11/05/2023        MARCELO           1244.0   \n",
       "443070                       03/05/2023        MARCELO           3999.0   \n",
       "\n",
       "       TP_ESTAB_SEMPRE_ABERTO ST_GERACREDITO_GERENTE_SGIF ST_CONEXAO_INTERNET  \\\n",
       "10489                       N                         NaN                   S   \n",
       "443070                      N                         NaN                   S   \n",
       "\n",
       "        CO_TIPO_UNIDADE  NO_FANTASIA_ABREV TP_GESTAO  \\\n",
       "10489               NaN                NaN         M   \n",
       "443070              NaN                NaN         M   \n",
       "\n",
       "       TO_CHAR(DT_ATUALIZACAO_ORIGEM,'DD/MM/YYYY')  CO_TIPO_ESTABELECIMENTO  \\\n",
       "10489                                   10/04/2019                      4.0   \n",
       "443070                                  06/05/2006                     16.0   \n",
       "\n",
       "        CO_ATIVIDADE_PRINCIPAL ST_CONTRATO_FORMALIZADO  CO_TIPO_ABRANGENCIA  \\\n",
       "10489                     24.0                       S                  NaN   \n",
       "443070                     1.0                       S                  NaN   \n",
       "\n",
       "       ST_COWORKING  \n",
       "10489           NaN  \n",
       "443070            N  "
      ]
     },
     "execution_count": 30,
     "metadata": {},
     "output_type": "execute_result"
    }
   ],
   "source": [
    "pd.set_option('display.max_columns', None)\n",
    "df_unid_filter[df_unid_filter['CO_CNES'].isin([3901297, 9743014])]"
   ]
  },
  {
   "cell_type": "code",
   "execution_count": 35,
   "metadata": {},
   "outputs": [
    {
     "data": {
      "text/html": [
       "<div>\n",
       "<style scoped>\n",
       "    .dataframe tbody tr th:only-of-type {\n",
       "        vertical-align: middle;\n",
       "    }\n",
       "\n",
       "    .dataframe tbody tr th {\n",
       "        vertical-align: top;\n",
       "    }\n",
       "\n",
       "    .dataframe thead th {\n",
       "        text-align: right;\n",
       "    }\n",
       "</style>\n",
       "<table border=\"1\" class=\"dataframe\">\n",
       "  <thead>\n",
       "    <tr style=\"text-align: right;\">\n",
       "      <th></th>\n",
       "      <th>CO_UNIDADE</th>\n",
       "      <th>CO_CNES</th>\n",
       "      <th>NU_CNPJ_MANTENEDORA</th>\n",
       "      <th>TP_PFPJ</th>\n",
       "      <th>NIVEL_DEP</th>\n",
       "      <th>NO_RAZAO_SOCIAL</th>\n",
       "      <th>NO_FANTASIA</th>\n",
       "      <th>NO_LOGRADOURO</th>\n",
       "      <th>NU_ENDERECO</th>\n",
       "      <th>NO_COMPLEMENTO</th>\n",
       "      <th>NO_BAIRRO</th>\n",
       "      <th>CO_CEP</th>\n",
       "      <th>CO_REGIAO_SAUDE</th>\n",
       "      <th>CO_MICRO_REGIAO</th>\n",
       "      <th>CO_DISTRITO_SANITARIO</th>\n",
       "      <th>CO_DISTRITO_ADMINISTRATIVO</th>\n",
       "      <th>NU_TELEFONE</th>\n",
       "      <th>NU_FAX</th>\n",
       "      <th>NO_EMAIL</th>\n",
       "      <th>NU_CPF</th>\n",
       "      <th>NU_CNPJ</th>\n",
       "      <th>CO_ATIVIDADE</th>\n",
       "      <th>CO_CLIENTELA</th>\n",
       "      <th>NU_ALVARA</th>\n",
       "      <th>DT_EXPEDICAO</th>\n",
       "      <th>TP_ORGAO_EXPEDIDOR</th>\n",
       "      <th>DT_VAL_LIC_SANI</th>\n",
       "      <th>TP_LIC_SANI</th>\n",
       "      <th>TP_UNIDADE</th>\n",
       "      <th>CO_TURNO_ATENDIMENTO</th>\n",
       "      <th>CO_ESTADO_GESTOR</th>\n",
       "      <th>CO_MUNICIPIO_GESTOR</th>\n",
       "      <th>TO_CHAR(DT_ATUALIZACAO,'DD/MM/YYYY')</th>\n",
       "      <th>CO_USUARIO</th>\n",
       "      <th>CO_CPFDIRETORCLN</th>\n",
       "      <th>REG_DIRETORCLN</th>\n",
       "      <th>ST_ADESAO_FILANTROP</th>\n",
       "      <th>CO_MOTIVO_DESAB</th>\n",
       "      <th>NO_URL</th>\n",
       "      <th>NU_LATITUDE</th>\n",
       "      <th>NU_LONGITUDE</th>\n",
       "      <th>TO_CHAR(DT_ATU_GEO,'DD/MM/YYYY')</th>\n",
       "      <th>NO_USUARIO_GEO</th>\n",
       "      <th>CO_NATUREZA_JUR</th>\n",
       "      <th>TP_ESTAB_SEMPRE_ABERTO</th>\n",
       "      <th>ST_GERACREDITO_GERENTE_SGIF</th>\n",
       "      <th>ST_CONEXAO_INTERNET</th>\n",
       "      <th>CO_TIPO_UNIDADE</th>\n",
       "      <th>NO_FANTASIA_ABREV</th>\n",
       "      <th>TP_GESTAO</th>\n",
       "      <th>TO_CHAR(DT_ATUALIZACAO_ORIGEM,'DD/MM/YYYY')</th>\n",
       "      <th>CO_TIPO_ESTABELECIMENTO</th>\n",
       "      <th>CO_ATIVIDADE_PRINCIPAL</th>\n",
       "      <th>ST_CONTRATO_FORMALIZADO</th>\n",
       "      <th>CO_TIPO_ABRANGENCIA</th>\n",
       "      <th>ST_COWORKING</th>\n",
       "    </tr>\n",
       "  </thead>\n",
       "  <tbody>\n",
       "    <tr>\n",
       "      <th>149842</th>\n",
       "      <td>3549906685153</td>\n",
       "      <td>6685153</td>\n",
       "      <td>NaN</td>\n",
       "      <td>3</td>\n",
       "      <td>1</td>\n",
       "      <td>A C L P SERVICOS MEDICOS LTDA</td>\n",
       "      <td>A C L P SERVICOS MEDICOS</td>\n",
       "      <td>DR ADHEMAR DE FIGUEIREDO LIRA</td>\n",
       "      <td>75</td>\n",
       "      <td>SALA 4</td>\n",
       "      <td>VILA INDUSTRIAL</td>\n",
       "      <td>12220470</td>\n",
       "      <td>0217</td>\n",
       "      <td>NaN</td>\n",
       "      <td>NaN</td>\n",
       "      <td>NaN</td>\n",
       "      <td>12 33462548</td>\n",
       "      <td>NaN</td>\n",
       "      <td>clinica_fada@yahoo.com.br</td>\n",
       "      <td>NaN</td>\n",
       "      <td>1.289431e+13</td>\n",
       "      <td>4</td>\n",
       "      <td>3.0</td>\n",
       "      <td>6264943</td>\n",
       "      <td>14-jan-2021 00:00:00</td>\n",
       "      <td>2.0</td>\n",
       "      <td>14-jan-2022 00:00:00</td>\n",
       "      <td>1.0</td>\n",
       "      <td>22</td>\n",
       "      <td>3.0</td>\n",
       "      <td>35</td>\n",
       "      <td>354990</td>\n",
       "      <td>27/01/2021</td>\n",
       "      <td>LUIZFER</td>\n",
       "      <td>3.623968e+09</td>\n",
       "      <td>NaN</td>\n",
       "      <td>NaN</td>\n",
       "      <td>NaN</td>\n",
       "      <td>contabilteixeira@terra.com.br</td>\n",
       "      <td>-23.1791012</td>\n",
       "      <td>-45.8571252</td>\n",
       "      <td>27/01/2021</td>\n",
       "      <td>LUIZFER</td>\n",
       "      <td>2240.0</td>\n",
       "      <td>N</td>\n",
       "      <td>NaN</td>\n",
       "      <td>S</td>\n",
       "      <td>NaN</td>\n",
       "      <td>NaN</td>\n",
       "      <td>M</td>\n",
       "      <td>01/02/2011</td>\n",
       "      <td>16.0</td>\n",
       "      <td>1.0</td>\n",
       "      <td>NaN</td>\n",
       "      <td>NaN</td>\n",
       "      <td>NaN</td>\n",
       "    </tr>\n",
       "    <tr>\n",
       "      <th>233471</th>\n",
       "      <td>3549905040310</td>\n",
       "      <td>5040310</td>\n",
       "      <td>NaN</td>\n",
       "      <td>3</td>\n",
       "      <td>1</td>\n",
       "      <td>3MR CLINICA DE PSICOLOGIA LTDA</td>\n",
       "      <td>3MR CLINICA DE PSICOLOGIA</td>\n",
       "      <td>AVENIDA DOUTOR ADHEMAR DE BARROS</td>\n",
       "      <td>566</td>\n",
       "      <td>SALA 502</td>\n",
       "      <td>JARDIM SAO DIMAS</td>\n",
       "      <td>12245010</td>\n",
       "      <td>0217</td>\n",
       "      <td>NaN</td>\n",
       "      <td>NaN</td>\n",
       "      <td>NaN</td>\n",
       "      <td>12 97113510</td>\n",
       "      <td>NaN</td>\n",
       "      <td>3mrclinicadepsicologia@gmail.com</td>\n",
       "      <td>NaN</td>\n",
       "      <td>3.467767e+13</td>\n",
       "      <td>4</td>\n",
       "      <td>3.0</td>\n",
       "      <td>PORTARIA CVS 11 2023</td>\n",
       "      <td>18-abr-2024 00:00:00</td>\n",
       "      <td>1.0</td>\n",
       "      <td>09-set-9999 00:00:00</td>\n",
       "      <td>1.0</td>\n",
       "      <td>22</td>\n",
       "      <td>4.0</td>\n",
       "      <td>35</td>\n",
       "      <td>354990</td>\n",
       "      <td>12/12/2024</td>\n",
       "      <td>MARCELO</td>\n",
       "      <td>9.479672e+10</td>\n",
       "      <td>25926</td>\n",
       "      <td>NaN</td>\n",
       "      <td>NaN</td>\n",
       "      <td>NaN</td>\n",
       "      <td>-23.20245969</td>\n",
       "      <td>-45.89317560</td>\n",
       "      <td>12/12/2024</td>\n",
       "      <td>MARCELO</td>\n",
       "      <td>2062.0</td>\n",
       "      <td>N</td>\n",
       "      <td>NaN</td>\n",
       "      <td>S</td>\n",
       "      <td>NaN</td>\n",
       "      <td>NaN</td>\n",
       "      <td>M</td>\n",
       "      <td>08/09/2006</td>\n",
       "      <td>16.0</td>\n",
       "      <td>1.0</td>\n",
       "      <td>N</td>\n",
       "      <td>NaN</td>\n",
       "      <td>N</td>\n",
       "    </tr>\n",
       "    <tr>\n",
       "      <th>251324</th>\n",
       "      <td>3549906657753</td>\n",
       "      <td>6657753</td>\n",
       "      <td>NaN</td>\n",
       "      <td>3</td>\n",
       "      <td>1</td>\n",
       "      <td>A M SERVICOS MEDICOS LTDA</td>\n",
       "      <td>A M SERVICOS MEDICOS</td>\n",
       "      <td>RUA DAS ARRAIAS</td>\n",
       "      <td>50</td>\n",
       "      <td>SALA 1001</td>\n",
       "      <td>JARDIM ESPLANADA</td>\n",
       "      <td>12246330</td>\n",
       "      <td>0217</td>\n",
       "      <td>NaN</td>\n",
       "      <td>NaN</td>\n",
       "      <td>NaN</td>\n",
       "      <td>(12)3942-9795</td>\n",
       "      <td>NaN</td>\n",
       "      <td>ADRIANA.MONTANO@UOL.COM.BR; ANA@UNILINECONTABI...</td>\n",
       "      <td>NaN</td>\n",
       "      <td>3.799219e+12</td>\n",
       "      <td>4</td>\n",
       "      <td>3.0</td>\n",
       "      <td>10960736 / 8630-5/03</td>\n",
       "      <td>03-abr-2023 00:00:00</td>\n",
       "      <td>2.0</td>\n",
       "      <td>03-abr-2024 00:00:00</td>\n",
       "      <td>1.0</td>\n",
       "      <td>22</td>\n",
       "      <td>4.0</td>\n",
       "      <td>35</td>\n",
       "      <td>354990</td>\n",
       "      <td>01/08/2023</td>\n",
       "      <td>LAURA</td>\n",
       "      <td>1.918323e+10</td>\n",
       "      <td>NaN</td>\n",
       "      <td>NaN</td>\n",
       "      <td>NaN</td>\n",
       "      <td>NaN</td>\n",
       "      <td>-23.2191775</td>\n",
       "      <td>-45.9077419</td>\n",
       "      <td>01/08/2023</td>\n",
       "      <td>REGISTRO SEM USUARIO</td>\n",
       "      <td>2240.0</td>\n",
       "      <td>N</td>\n",
       "      <td>NaN</td>\n",
       "      <td>S</td>\n",
       "      <td>NaN</td>\n",
       "      <td>NaN</td>\n",
       "      <td>M</td>\n",
       "      <td>03/12/2010</td>\n",
       "      <td>16.0</td>\n",
       "      <td>1.0</td>\n",
       "      <td>N</td>\n",
       "      <td>NaN</td>\n",
       "      <td>NaN</td>\n",
       "    </tr>\n",
       "    <tr>\n",
       "      <th>291764</th>\n",
       "      <td>3549905109728</td>\n",
       "      <td>5109728</td>\n",
       "      <td>NaN</td>\n",
       "      <td>1</td>\n",
       "      <td>1</td>\n",
       "      <td>A A PEREIRA RONCONI FONOAUDIOLOGIA</td>\n",
       "      <td>A A PEREIRA RONCONI FONOAUDIOLOGIA</td>\n",
       "      <td>AVENIDA ALFREDO IGNACIO NOGUEIRA PENIDO</td>\n",
       "      <td>300</td>\n",
       "      <td>SALA 63</td>\n",
       "      <td>PARQUE RESIDENCIAL A</td>\n",
       "      <td>12246000</td>\n",
       "      <td>0217</td>\n",
       "      <td>NaN</td>\n",
       "      <td>NaN</td>\n",
       "      <td>NaN</td>\n",
       "      <td>(12)98145-8212</td>\n",
       "      <td>NaN</td>\n",
       "      <td>ANDREIA.ATP@GMAIL.COM</td>\n",
       "      <td>2.245910e+10</td>\n",
       "      <td>NaN</td>\n",
       "      <td>4</td>\n",
       "      <td>3.0</td>\n",
       "      <td>11794176</td>\n",
       "      <td>30-ago-2023 00:00:00</td>\n",
       "      <td>2.0</td>\n",
       "      <td>30-ago-2024 00:00:00</td>\n",
       "      <td>1.0</td>\n",
       "      <td>22</td>\n",
       "      <td>3.0</td>\n",
       "      <td>35</td>\n",
       "      <td>354990</td>\n",
       "      <td>08/03/2024</td>\n",
       "      <td>ANA CAROLINA</td>\n",
       "      <td>2.245910e+10</td>\n",
       "      <td>11194</td>\n",
       "      <td>NaN</td>\n",
       "      <td>NaN</td>\n",
       "      <td>NaN</td>\n",
       "      <td>-23.2156501</td>\n",
       "      <td>-45.9074664</td>\n",
       "      <td>06/03/2024</td>\n",
       "      <td>MARCELO</td>\n",
       "      <td>4000.0</td>\n",
       "      <td>N</td>\n",
       "      <td>NaN</td>\n",
       "      <td>N</td>\n",
       "      <td>NaN</td>\n",
       "      <td>NaN</td>\n",
       "      <td>M</td>\n",
       "      <td>20/10/2006</td>\n",
       "      <td>16.0</td>\n",
       "      <td>1.0</td>\n",
       "      <td>N</td>\n",
       "      <td>NaN</td>\n",
       "      <td>NaN</td>\n",
       "    </tr>\n",
       "    <tr>\n",
       "      <th>520167</th>\n",
       "      <td>3549904688228</td>\n",
       "      <td>4688228</td>\n",
       "      <td>NaN</td>\n",
       "      <td>3</td>\n",
       "      <td>1</td>\n",
       "      <td>A C M MAZZER ACUPUNTURA E FISIOTERAPIA</td>\n",
       "      <td>A C M MAZZER ACUPUNTURA E FISIOTERAPIA</td>\n",
       "      <td>RUA JUREMA VIEIRA MEDRADO</td>\n",
       "      <td>65</td>\n",
       "      <td>SALA 705</td>\n",
       "      <td>PARQUE RESIDENCIAL A</td>\n",
       "      <td>12246180</td>\n",
       "      <td>0217</td>\n",
       "      <td>NaN</td>\n",
       "      <td>NaN</td>\n",
       "      <td>NaN</td>\n",
       "      <td>(11)96703-1508</td>\n",
       "      <td>NaN</td>\n",
       "      <td>CAROLMAHAILLA@YAHOO.COM.BR</td>\n",
       "      <td>NaN</td>\n",
       "      <td>3.971371e+13</td>\n",
       "      <td>4</td>\n",
       "      <td>3.0</td>\n",
       "      <td>13207147</td>\n",
       "      <td>13-mai-2024 00:00:00</td>\n",
       "      <td>1.0</td>\n",
       "      <td>13-mai-2025 00:00:00</td>\n",
       "      <td>1.0</td>\n",
       "      <td>22</td>\n",
       "      <td>4.0</td>\n",
       "      <td>35</td>\n",
       "      <td>354990</td>\n",
       "      <td>16/12/2024</td>\n",
       "      <td>MARCELO</td>\n",
       "      <td>4.179512e+10</td>\n",
       "      <td>3256921</td>\n",
       "      <td>NaN</td>\n",
       "      <td>NaN</td>\n",
       "      <td>NaN</td>\n",
       "      <td>-23.22027</td>\n",
       "      <td>-45.90575</td>\n",
       "      <td>19/06/2024</td>\n",
       "      <td>MARCELO</td>\n",
       "      <td>2135.0</td>\n",
       "      <td>N</td>\n",
       "      <td>NaN</td>\n",
       "      <td>S</td>\n",
       "      <td>NaN</td>\n",
       "      <td>NaN</td>\n",
       "      <td>M</td>\n",
       "      <td>22/06/2024</td>\n",
       "      <td>18.0</td>\n",
       "      <td>2.0</td>\n",
       "      <td>N</td>\n",
       "      <td>NaN</td>\n",
       "      <td>N</td>\n",
       "    </tr>\n",
       "  </tbody>\n",
       "</table>\n",
       "</div>"
      ],
      "text/plain": [
       "           CO_UNIDADE  CO_CNES  NU_CNPJ_MANTENEDORA  TP_PFPJ  NIVEL_DEP  \\\n",
       "149842  3549906685153  6685153                  NaN        3          1   \n",
       "233471  3549905040310  5040310                  NaN        3          1   \n",
       "251324  3549906657753  6657753                  NaN        3          1   \n",
       "291764  3549905109728  5109728                  NaN        1          1   \n",
       "520167  3549904688228  4688228                  NaN        3          1   \n",
       "\n",
       "                               NO_RAZAO_SOCIAL  \\\n",
       "149842           A C L P SERVICOS MEDICOS LTDA   \n",
       "233471          3MR CLINICA DE PSICOLOGIA LTDA   \n",
       "251324               A M SERVICOS MEDICOS LTDA   \n",
       "291764      A A PEREIRA RONCONI FONOAUDIOLOGIA   \n",
       "520167  A C M MAZZER ACUPUNTURA E FISIOTERAPIA   \n",
       "\n",
       "                                   NO_FANTASIA  \\\n",
       "149842                A C L P SERVICOS MEDICOS   \n",
       "233471               3MR CLINICA DE PSICOLOGIA   \n",
       "251324                    A M SERVICOS MEDICOS   \n",
       "291764      A A PEREIRA RONCONI FONOAUDIOLOGIA   \n",
       "520167  A C M MAZZER ACUPUNTURA E FISIOTERAPIA   \n",
       "\n",
       "                                  NO_LOGRADOURO NU_ENDERECO NO_COMPLEMENTO  \\\n",
       "149842            DR ADHEMAR DE FIGUEIREDO LIRA          75         SALA 4   \n",
       "233471         AVENIDA DOUTOR ADHEMAR DE BARROS         566       SALA 502   \n",
       "251324                          RUA DAS ARRAIAS          50      SALA 1001   \n",
       "291764  AVENIDA ALFREDO IGNACIO NOGUEIRA PENIDO         300        SALA 63   \n",
       "520167                RUA JUREMA VIEIRA MEDRADO          65       SALA 705   \n",
       "\n",
       "                   NO_BAIRRO    CO_CEP CO_REGIAO_SAUDE  CO_MICRO_REGIAO  \\\n",
       "149842       VILA INDUSTRIAL  12220470            0217              NaN   \n",
       "233471      JARDIM SAO DIMAS  12245010            0217              NaN   \n",
       "251324      JARDIM ESPLANADA  12246330            0217              NaN   \n",
       "291764  PARQUE RESIDENCIAL A  12246000            0217              NaN   \n",
       "520167  PARQUE RESIDENCIAL A  12246180            0217              NaN   \n",
       "\n",
       "       CO_DISTRITO_SANITARIO CO_DISTRITO_ADMINISTRATIVO     NU_TELEFONE  \\\n",
       "149842                   NaN                        NaN     12 33462548   \n",
       "233471                   NaN                        NaN     12 97113510   \n",
       "251324                   NaN                        NaN   (12)3942-9795   \n",
       "291764                   NaN                        NaN  (12)98145-8212   \n",
       "520167                   NaN                        NaN  (11)96703-1508   \n",
       "\n",
       "        NU_FAX                                           NO_EMAIL  \\\n",
       "149842     NaN                          clinica_fada@yahoo.com.br   \n",
       "233471     NaN                   3mrclinicadepsicologia@gmail.com   \n",
       "251324     NaN  ADRIANA.MONTANO@UOL.COM.BR; ANA@UNILINECONTABI...   \n",
       "291764     NaN                              ANDREIA.ATP@GMAIL.COM   \n",
       "520167     NaN                         CAROLMAHAILLA@YAHOO.COM.BR   \n",
       "\n",
       "              NU_CPF       NU_CNPJ  CO_ATIVIDADE  CO_CLIENTELA  \\\n",
       "149842           NaN  1.289431e+13             4           3.0   \n",
       "233471           NaN  3.467767e+13             4           3.0   \n",
       "251324           NaN  3.799219e+12             4           3.0   \n",
       "291764  2.245910e+10           NaN             4           3.0   \n",
       "520167           NaN  3.971371e+13             4           3.0   \n",
       "\n",
       "                   NU_ALVARA          DT_EXPEDICAO  TP_ORGAO_EXPEDIDOR  \\\n",
       "149842               6264943  14-jan-2021 00:00:00                 2.0   \n",
       "233471  PORTARIA CVS 11 2023  18-abr-2024 00:00:00                 1.0   \n",
       "251324  10960736 / 8630-5/03  03-abr-2023 00:00:00                 2.0   \n",
       "291764              11794176  30-ago-2023 00:00:00                 2.0   \n",
       "520167              13207147  13-mai-2024 00:00:00                 1.0   \n",
       "\n",
       "             DT_VAL_LIC_SANI  TP_LIC_SANI  TP_UNIDADE  CO_TURNO_ATENDIMENTO  \\\n",
       "149842  14-jan-2022 00:00:00          1.0          22                   3.0   \n",
       "233471  09-set-9999 00:00:00          1.0          22                   4.0   \n",
       "251324  03-abr-2024 00:00:00          1.0          22                   4.0   \n",
       "291764  30-ago-2024 00:00:00          1.0          22                   3.0   \n",
       "520167  13-mai-2025 00:00:00          1.0          22                   4.0   \n",
       "\n",
       "        CO_ESTADO_GESTOR  CO_MUNICIPIO_GESTOR  \\\n",
       "149842                35               354990   \n",
       "233471                35               354990   \n",
       "251324                35               354990   \n",
       "291764                35               354990   \n",
       "520167                35               354990   \n",
       "\n",
       "       TO_CHAR(DT_ATUALIZACAO,'DD/MM/YYYY')    CO_USUARIO  CO_CPFDIRETORCLN  \\\n",
       "149842                           27/01/2021       LUIZFER      3.623968e+09   \n",
       "233471                           12/12/2024       MARCELO      9.479672e+10   \n",
       "251324                           01/08/2023         LAURA      1.918323e+10   \n",
       "291764                           08/03/2024  ANA CAROLINA      2.245910e+10   \n",
       "520167                           16/12/2024       MARCELO      4.179512e+10   \n",
       "\n",
       "       REG_DIRETORCLN ST_ADESAO_FILANTROP  CO_MOTIVO_DESAB  \\\n",
       "149842            NaN                 NaN              NaN   \n",
       "233471          25926                 NaN              NaN   \n",
       "251324            NaN                 NaN              NaN   \n",
       "291764          11194                 NaN              NaN   \n",
       "520167        3256921                 NaN              NaN   \n",
       "\n",
       "                               NO_URL   NU_LATITUDE  NU_LONGITUDE  \\\n",
       "149842  contabilteixeira@terra.com.br   -23.1791012   -45.8571252   \n",
       "233471                            NaN  -23.20245969  -45.89317560   \n",
       "251324                            NaN   -23.2191775   -45.9077419   \n",
       "291764                            NaN   -23.2156501   -45.9074664   \n",
       "520167                            NaN     -23.22027     -45.90575   \n",
       "\n",
       "       TO_CHAR(DT_ATU_GEO,'DD/MM/YYYY')        NO_USUARIO_GEO  \\\n",
       "149842                       27/01/2021               LUIZFER   \n",
       "233471                       12/12/2024               MARCELO   \n",
       "251324                       01/08/2023  REGISTRO SEM USUARIO   \n",
       "291764                       06/03/2024               MARCELO   \n",
       "520167                       19/06/2024               MARCELO   \n",
       "\n",
       "        CO_NATUREZA_JUR TP_ESTAB_SEMPRE_ABERTO ST_GERACREDITO_GERENTE_SGIF  \\\n",
       "149842           2240.0                      N                         NaN   \n",
       "233471           2062.0                      N                         NaN   \n",
       "251324           2240.0                      N                         NaN   \n",
       "291764           4000.0                      N                         NaN   \n",
       "520167           2135.0                      N                         NaN   \n",
       "\n",
       "       ST_CONEXAO_INTERNET  CO_TIPO_UNIDADE  NO_FANTASIA_ABREV TP_GESTAO  \\\n",
       "149842                   S              NaN                NaN         M   \n",
       "233471                   S              NaN                NaN         M   \n",
       "251324                   S              NaN                NaN         M   \n",
       "291764                   N              NaN                NaN         M   \n",
       "520167                   S              NaN                NaN         M   \n",
       "\n",
       "       TO_CHAR(DT_ATUALIZACAO_ORIGEM,'DD/MM/YYYY')  CO_TIPO_ESTABELECIMENTO  \\\n",
       "149842                                  01/02/2011                     16.0   \n",
       "233471                                  08/09/2006                     16.0   \n",
       "251324                                  03/12/2010                     16.0   \n",
       "291764                                  20/10/2006                     16.0   \n",
       "520167                                  22/06/2024                     18.0   \n",
       "\n",
       "        CO_ATIVIDADE_PRINCIPAL ST_CONTRATO_FORMALIZADO  CO_TIPO_ABRANGENCIA  \\\n",
       "149842                     1.0                     NaN                  NaN   \n",
       "233471                     1.0                       N                  NaN   \n",
       "251324                     1.0                       N                  NaN   \n",
       "291764                     1.0                       N                  NaN   \n",
       "520167                     2.0                       N                  NaN   \n",
       "\n",
       "       ST_COWORKING  \n",
       "149842          NaN  \n",
       "233471            N  \n",
       "251324          NaN  \n",
       "291764          NaN  \n",
       "520167            N  "
      ]
     },
     "execution_count": 35,
     "metadata": {},
     "output_type": "execute_result"
    }
   ],
   "source": [
    "pd.set_option('display.max_columns', None)\n",
    "df_unid_filter[df_unid_filter['CO_CNES'].isin([5040310, 5109728, 6685153, 4688228, 6657753])]"
   ]
  },
  {
   "cell_type": "markdown",
   "metadata": {},
   "source": [
    "### Tipos de Instalações"
   ]
  },
  {
   "cell_type": "code",
   "execution_count": 9,
   "metadata": {},
   "outputs": [
    {
     "data": {
      "text/html": [
       "<div>\n",
       "<style scoped>\n",
       "    .dataframe tbody tr th:only-of-type {\n",
       "        vertical-align: middle;\n",
       "    }\n",
       "\n",
       "    .dataframe tbody tr th {\n",
       "        vertical-align: top;\n",
       "    }\n",
       "\n",
       "    .dataframe thead th {\n",
       "        text-align: right;\n",
       "    }\n",
       "</style>\n",
       "<table border=\"1\" class=\"dataframe\">\n",
       "  <thead>\n",
       "    <tr style=\"text-align: right;\">\n",
       "      <th></th>\n",
       "      <th>CO_INSTALACAO</th>\n",
       "      <th>CO_SUBTIPO_INSTALACAO</th>\n",
       "      <th>DS_INSTALACAO</th>\n",
       "      <th>TP_INSTALACAO</th>\n",
       "    </tr>\n",
       "  </thead>\n",
       "  <tbody>\n",
       "    <tr>\n",
       "      <th>0</th>\n",
       "      <td>41</td>\n",
       "      <td>99</td>\n",
       "      <td>SALA DE ATENDIMENTO A PACIENTE CRITICO/SALA DE...</td>\n",
       "      <td>0</td>\n",
       "    </tr>\n",
       "    <tr>\n",
       "      <th>1</th>\n",
       "      <td>42</td>\n",
       "      <td>99</td>\n",
       "      <td>SALA DE ACOLHIMENTO COM CLASSIFICACAO DE RISCO</td>\n",
       "      <td>0</td>\n",
       "    </tr>\n",
       "    <tr>\n",
       "      <th>2</th>\n",
       "      <td>44</td>\n",
       "      <td>4</td>\n",
       "      <td>SALA DE RECEPCAO E INSPECAO</td>\n",
       "      <td>3</td>\n",
       "    </tr>\n",
       "    <tr>\n",
       "      <th>3</th>\n",
       "      <td>45</td>\n",
       "      <td>4</td>\n",
       "      <td>SALA DE DISTRIBUICAO</td>\n",
       "      <td>3</td>\n",
       "    </tr>\n",
       "    <tr>\n",
       "      <th>4</th>\n",
       "      <td>46</td>\n",
       "      <td>4</td>\n",
       "      <td>SALA PARA ARMAZENAGEM E CONTROLE</td>\n",
       "      <td>3</td>\n",
       "    </tr>\n",
       "  </tbody>\n",
       "</table>\n",
       "</div>"
      ],
      "text/plain": [
       "   CO_INSTALACAO  CO_SUBTIPO_INSTALACAO  \\\n",
       "0             41                     99   \n",
       "1             42                     99   \n",
       "2             44                      4   \n",
       "3             45                      4   \n",
       "4             46                      4   \n",
       "\n",
       "                                       DS_INSTALACAO  TP_INSTALACAO  \n",
       "0  SALA DE ATENDIMENTO A PACIENTE CRITICO/SALA DE...              0  \n",
       "1     SALA DE ACOLHIMENTO COM CLASSIFICACAO DE RISCO              0  \n",
       "2                        SALA DE RECEPCAO E INSPECAO              3  \n",
       "3                               SALA DE DISTRIBUICAO              3  \n",
       "4                   SALA PARA ARMAZENAGEM E CONTROLE              3  "
      ]
     },
     "execution_count": 9,
     "metadata": {},
     "output_type": "execute_result"
    }
   ],
   "source": [
    "df_inst = pd.read_csv(r'C:\\Users\\Carlos\\PainelSaude\\base\\tbInstalFisicaParaAssist202502.csv', encoding='latin1', sep=';')\n",
    "\n",
    "df_inst.head()"
   ]
  },
  {
   "cell_type": "markdown",
   "metadata": {},
   "source": [
    "### Dados de Leitos"
   ]
  },
  {
   "cell_type": "code",
   "execution_count": 4,
   "metadata": {},
   "outputs": [
    {
     "data": {
      "text/html": [
       "<div>\n",
       "<style scoped>\n",
       "    .dataframe tbody tr th:only-of-type {\n",
       "        vertical-align: middle;\n",
       "    }\n",
       "\n",
       "    .dataframe tbody tr th {\n",
       "        vertical-align: top;\n",
       "    }\n",
       "\n",
       "    .dataframe thead th {\n",
       "        text-align: right;\n",
       "    }\n",
       "</style>\n",
       "<table border=\"1\" class=\"dataframe\">\n",
       "  <thead>\n",
       "    <tr style=\"text-align: right;\">\n",
       "      <th></th>\n",
       "      <th>CO_UNIDADE</th>\n",
       "      <th>CO_INSTALACAO</th>\n",
       "      <th>QT_INSTALACAO</th>\n",
       "      <th>NU_LEITOS</th>\n",
       "      <th>TO_CHAR(DT_ATUALIZACAO,'DD/MM/YYYY')</th>\n",
       "      <th>CO_USUARIO</th>\n",
       "      <th>TO_CHAR(DT_ATUALIZACAO_ORIGEM,'DD/MM/YYYY')</th>\n",
       "    </tr>\n",
       "  </thead>\n",
       "  <tbody>\n",
       "    <tr>\n",
       "      <th>0</th>\n",
       "      <td>5300107592477</td>\n",
       "      <td>1</td>\n",
       "      <td>1.0</td>\n",
       "      <td>0.0</td>\n",
       "      <td>22/01/2025</td>\n",
       "      <td>HRS</td>\n",
       "      <td>NaN</td>\n",
       "    </tr>\n",
       "    <tr>\n",
       "      <th>1</th>\n",
       "      <td>4305107492359</td>\n",
       "      <td>1</td>\n",
       "      <td>1.0</td>\n",
       "      <td>0.0</td>\n",
       "      <td>21/03/2023</td>\n",
       "      <td>CLARA</td>\n",
       "      <td>NaN</td>\n",
       "    </tr>\n",
       "    <tr>\n",
       "      <th>2</th>\n",
       "      <td>2110039261427</td>\n",
       "      <td>1</td>\n",
       "      <td>1.0</td>\n",
       "      <td>2.0</td>\n",
       "      <td>23/05/2024</td>\n",
       "      <td>SMS</td>\n",
       "      <td>NaN</td>\n",
       "    </tr>\n",
       "    <tr>\n",
       "      <th>3</th>\n",
       "      <td>2704309307338</td>\n",
       "      <td>1</td>\n",
       "      <td>1.0</td>\n",
       "      <td>0.0</td>\n",
       "      <td>27/06/2024</td>\n",
       "      <td>BIANCA</td>\n",
       "      <td>NaN</td>\n",
       "    </tr>\n",
       "    <tr>\n",
       "      <th>4</th>\n",
       "      <td>4321607897162</td>\n",
       "      <td>1</td>\n",
       "      <td>1.0</td>\n",
       "      <td>1.0</td>\n",
       "      <td>06/11/2024</td>\n",
       "      <td>ROSICLER</td>\n",
       "      <td>NaN</td>\n",
       "    </tr>\n",
       "  </tbody>\n",
       "</table>\n",
       "</div>"
      ],
      "text/plain": [
       "      CO_UNIDADE  CO_INSTALACAO  QT_INSTALACAO  NU_LEITOS  \\\n",
       "0  5300107592477              1            1.0        0.0   \n",
       "1  4305107492359              1            1.0        0.0   \n",
       "2  2110039261427              1            1.0        2.0   \n",
       "3  2704309307338              1            1.0        0.0   \n",
       "4  4321607897162              1            1.0        1.0   \n",
       "\n",
       "  TO_CHAR(DT_ATUALIZACAO,'DD/MM/YYYY') CO_USUARIO  \\\n",
       "0                           22/01/2025        HRS   \n",
       "1                           21/03/2023      CLARA   \n",
       "2                           23/05/2024        SMS   \n",
       "3                           27/06/2024     BIANCA   \n",
       "4                           06/11/2024   ROSICLER   \n",
       "\n",
       "   TO_CHAR(DT_ATUALIZACAO_ORIGEM,'DD/MM/YYYY')  \n",
       "0                                          NaN  \n",
       "1                                          NaN  \n",
       "2                                          NaN  \n",
       "3                                          NaN  \n",
       "4                                          NaN  "
      ]
     },
     "execution_count": 4,
     "metadata": {},
     "output_type": "execute_result"
    }
   ],
   "source": [
    "df_estab = pd.read_csv(r'C:\\Users\\Carlos\\PainelSaude\\base\\rlEstabInstFisiAssist202502.csv', encoding='latin1', sep=';')\n",
    "\n",
    "df_estab.head()"
   ]
  },
  {
   "cell_type": "code",
   "execution_count": 5,
   "metadata": {},
   "outputs": [
    {
     "data": {
      "text/plain": [
       "np.float64(339130.0)"
      ]
     },
     "execution_count": 5,
     "metadata": {},
     "output_type": "execute_result"
    }
   ],
   "source": [
    "df_estab[\"NU_LEITOS\"].sum()"
   ]
  },
  {
   "cell_type": "code",
   "execution_count": 11,
   "metadata": {},
   "outputs": [
    {
     "data": {
      "text/plain": [
       "520551"
      ]
     },
     "execution_count": 11,
     "metadata": {},
     "output_type": "execute_result"
    }
   ],
   "source": [
    "len(df_estab[\"CO_UNIDADE\"].unique())"
   ]
  },
  {
   "cell_type": "code",
   "execution_count": 9,
   "metadata": {},
   "outputs": [
    {
     "data": {
      "text/plain": [
       "16.94137931034483"
      ]
     },
     "execution_count": 9,
     "metadata": {},
     "output_type": "execute_result"
    }
   ],
   "source": [
    "((339130 - 290000) / 290000) * 100"
   ]
  },
  {
   "cell_type": "code",
   "execution_count": 12,
   "metadata": {},
   "outputs": [
    {
     "name": "stdout",
     "output_type": "stream",
     "text": [
      "Número de CO_UNIDADE em df_estab que não estão em df_unid_filter: 457842\n",
      "Porcentagem de CO_UNIDADE em df_estab que não estão em df_unid_filter: 43.98%\n"
     ]
    }
   ],
   "source": [
    "num_nao_existem = (~df_estab['CO_UNIDADE'].isin(df_unid_filter['CO_UNIDADE'])).sum()\n",
    "total = len(df_estab)\n",
    "\n",
    "print(f\"Número de CO_UNIDADE em df_estab que não estão em df_unid_filter: {num_nao_existem}\")\n",
    "\n",
    "percentual = (num_nao_existem / total) * 100\n",
    "\n",
    "print(f\"Porcentagem de CO_UNIDADE em df_estab que não estão em df_unid_filter: {percentual:.2f}%\")\n"
   ]
  },
  {
   "cell_type": "code",
   "execution_count": 36,
   "metadata": {},
   "outputs": [
    {
     "data": {
      "text/html": [
       "<div>\n",
       "<style scoped>\n",
       "    .dataframe tbody tr th:only-of-type {\n",
       "        vertical-align: middle;\n",
       "    }\n",
       "\n",
       "    .dataframe tbody tr th {\n",
       "        vertical-align: top;\n",
       "    }\n",
       "\n",
       "    .dataframe thead th {\n",
       "        text-align: right;\n",
       "    }\n",
       "</style>\n",
       "<table border=\"1\" class=\"dataframe\">\n",
       "  <thead>\n",
       "    <tr style=\"text-align: right;\">\n",
       "      <th></th>\n",
       "      <th>CO_UNIDADE</th>\n",
       "      <th>NU_LEITOS</th>\n",
       "      <th>CO_INSTALACAO</th>\n",
       "      <th>CO_MUNICIPIO_GESTOR</th>\n",
       "      <th>CO_NATUREZA_JUR</th>\n",
       "      <th>ST_CONTRATO_FORMALIZADO</th>\n",
       "      <th>Codigo Regiao do Pais</th>\n",
       "      <th>Regiao do Pais</th>\n",
       "      <th>Codigo UF</th>\n",
       "      <th>UF</th>\n",
       "      <th>Codigo Macrorregiao de Saude</th>\n",
       "      <th>Macrorregiao de Saude</th>\n",
       "      <th>Codigo Regiao de Saude</th>\n",
       "      <th>Regiao de Saude</th>\n",
       "      <th>Codigo Municipio</th>\n",
       "      <th>Municipio</th>\n",
       "      <th>Populacao Estimada IBGE 2022</th>\n",
       "    </tr>\n",
       "  </thead>\n",
       "  <tbody>\n",
       "    <tr>\n",
       "      <th>0</th>\n",
       "      <td>5300107592477</td>\n",
       "      <td>0.0</td>\n",
       "      <td>1</td>\n",
       "      <td>530010.0</td>\n",
       "      <td>1023.0</td>\n",
       "      <td>S</td>\n",
       "      <td>5.0</td>\n",
       "      <td>Centro-Oeste</td>\n",
       "      <td>53.0</td>\n",
       "      <td>Distrito Federal</td>\n",
       "      <td>5302.0</td>\n",
       "      <td>DISTRITO FEDERAL</td>\n",
       "      <td>53001.0</td>\n",
       "      <td>DISTRITO FEDERAL</td>\n",
       "      <td>530010.0</td>\n",
       "      <td>Brasilia</td>\n",
       "      <td>2.817.381</td>\n",
       "    </tr>\n",
       "    <tr>\n",
       "      <th>1</th>\n",
       "      <td>4305107492359</td>\n",
       "      <td>0.0</td>\n",
       "      <td>1</td>\n",
       "      <td>430510.0</td>\n",
       "      <td>1244.0</td>\n",
       "      <td>S</td>\n",
       "      <td>4.0</td>\n",
       "      <td>Sul</td>\n",
       "      <td>43.0</td>\n",
       "      <td>Rio Grande do Sul</td>\n",
       "      <td>4310.0</td>\n",
       "      <td>SERRA</td>\n",
       "      <td>43023.0</td>\n",
       "      <td>REGIAO 23</td>\n",
       "      <td>430510.0</td>\n",
       "      <td>Caxias do Sul</td>\n",
       "      <td>463.501</td>\n",
       "    </tr>\n",
       "    <tr>\n",
       "      <th>2</th>\n",
       "      <td>2110039261427</td>\n",
       "      <td>2.0</td>\n",
       "      <td>1</td>\n",
       "      <td>NaN</td>\n",
       "      <td>NaN</td>\n",
       "      <td>NaN</td>\n",
       "      <td>NaN</td>\n",
       "      <td>NaN</td>\n",
       "      <td>NaN</td>\n",
       "      <td>NaN</td>\n",
       "      <td>NaN</td>\n",
       "      <td>NaN</td>\n",
       "      <td>NaN</td>\n",
       "      <td>NaN</td>\n",
       "      <td>NaN</td>\n",
       "      <td>NaN</td>\n",
       "      <td>NaN</td>\n",
       "    </tr>\n",
       "    <tr>\n",
       "      <th>3</th>\n",
       "      <td>2704309307338</td>\n",
       "      <td>0.0</td>\n",
       "      <td>1</td>\n",
       "      <td>NaN</td>\n",
       "      <td>NaN</td>\n",
       "      <td>NaN</td>\n",
       "      <td>NaN</td>\n",
       "      <td>NaN</td>\n",
       "      <td>NaN</td>\n",
       "      <td>NaN</td>\n",
       "      <td>NaN</td>\n",
       "      <td>NaN</td>\n",
       "      <td>NaN</td>\n",
       "      <td>NaN</td>\n",
       "      <td>NaN</td>\n",
       "      <td>NaN</td>\n",
       "      <td>NaN</td>\n",
       "    </tr>\n",
       "    <tr>\n",
       "      <th>4</th>\n",
       "      <td>4321607897162</td>\n",
       "      <td>1.0</td>\n",
       "      <td>1</td>\n",
       "      <td>432160.0</td>\n",
       "      <td>1244.0</td>\n",
       "      <td>NaN</td>\n",
       "      <td>4.0</td>\n",
       "      <td>Sul</td>\n",
       "      <td>43.0</td>\n",
       "      <td>Rio Grande do Sul</td>\n",
       "      <td>4313.0</td>\n",
       "      <td>METROPOLITANA</td>\n",
       "      <td>43005.0</td>\n",
       "      <td>REGIAO 05</td>\n",
       "      <td>432160.0</td>\n",
       "      <td>Tramandai</td>\n",
       "      <td>54.387</td>\n",
       "    </tr>\n",
       "  </tbody>\n",
       "</table>\n",
       "</div>"
      ],
      "text/plain": [
       "      CO_UNIDADE  NU_LEITOS  CO_INSTALACAO  CO_MUNICIPIO_GESTOR  \\\n",
       "0  5300107592477        0.0              1             530010.0   \n",
       "1  4305107492359        0.0              1             430510.0   \n",
       "2  2110039261427        2.0              1                  NaN   \n",
       "3  2704309307338        0.0              1                  NaN   \n",
       "4  4321607897162        1.0              1             432160.0   \n",
       "\n",
       "   CO_NATUREZA_JUR ST_CONTRATO_FORMALIZADO  Codigo Regiao do Pais  \\\n",
       "0           1023.0                       S                    5.0   \n",
       "1           1244.0                       S                    4.0   \n",
       "2              NaN                     NaN                    NaN   \n",
       "3              NaN                     NaN                    NaN   \n",
       "4           1244.0                     NaN                    4.0   \n",
       "\n",
       "  Regiao do Pais  Codigo UF                 UF  Codigo Macrorregiao de Saude  \\\n",
       "0   Centro-Oeste       53.0   Distrito Federal                        5302.0   \n",
       "1            Sul       43.0  Rio Grande do Sul                        4310.0   \n",
       "2            NaN        NaN                NaN                           NaN   \n",
       "3            NaN        NaN                NaN                           NaN   \n",
       "4            Sul       43.0  Rio Grande do Sul                        4313.0   \n",
       "\n",
       "  Macrorregiao de Saude  Codigo Regiao de Saude   Regiao de Saude  \\\n",
       "0      DISTRITO FEDERAL                 53001.0  DISTRITO FEDERAL   \n",
       "1                 SERRA                 43023.0         REGIAO 23   \n",
       "2                   NaN                     NaN               NaN   \n",
       "3                   NaN                     NaN               NaN   \n",
       "4         METROPOLITANA                 43005.0         REGIAO 05   \n",
       "\n",
       "   Codigo Municipio      Municipio Populacao Estimada IBGE 2022  \n",
       "0          530010.0       Brasilia                    2.817.381  \n",
       "1          430510.0  Caxias do Sul                      463.501  \n",
       "2               NaN            NaN                          NaN  \n",
       "3               NaN            NaN                          NaN  \n",
       "4          432160.0      Tramandai                       54.387  "
      ]
     },
     "execution_count": 36,
     "metadata": {},
     "output_type": "execute_result"
    }
   ],
   "source": [
    "\n",
    "df_temp = df_estab[['CO_UNIDADE', 'NU_LEITOS', 'CO_INSTALACAO']].merge(\n",
    "    df_unid_filter[['CO_UNIDADE', 'CO_MUNICIPIO_GESTOR','CO_NATUREZA_JUR', 'ST_CONTRATO_FORMALIZADO']],\n",
    "    on='CO_UNIDADE',\n",
    "    how='left'\n",
    ")\n",
    "\n",
    "df_new = df_temp.merge(\n",
    "    df_regioes,\n",
    "    left_on='CO_MUNICIPIO_GESTOR',\n",
    "    right_on='Codigo Municipio',\n",
    "    how='left'\n",
    ")\n",
    "\n",
    "df_new.head()"
   ]
  },
  {
   "cell_type": "code",
   "execution_count": 37,
   "metadata": {},
   "outputs": [
    {
     "data": {
      "text/plain": [
       "np.int64(670)"
      ]
     },
     "execution_count": 37,
     "metadata": {},
     "output_type": "execute_result"
    }
   ],
   "source": [
    "df_new['NU_LEITOS'].isna().sum()"
   ]
  },
  {
   "cell_type": "code",
   "execution_count": 38,
   "metadata": {},
   "outputs": [],
   "source": [
    "df_new_filtered = df_new[df_new['Macrorregiao de Saude'].notna()]"
   ]
  },
  {
   "cell_type": "code",
   "execution_count": 39,
   "metadata": {},
   "outputs": [
    {
     "data": {
      "text/html": [
       "<div>\n",
       "<style scoped>\n",
       "    .dataframe tbody tr th:only-of-type {\n",
       "        vertical-align: middle;\n",
       "    }\n",
       "\n",
       "    .dataframe tbody tr th {\n",
       "        vertical-align: top;\n",
       "    }\n",
       "\n",
       "    .dataframe thead th {\n",
       "        text-align: right;\n",
       "    }\n",
       "</style>\n",
       "<table border=\"1\" class=\"dataframe\">\n",
       "  <thead>\n",
       "    <tr style=\"text-align: right;\">\n",
       "      <th></th>\n",
       "      <th>CO_UNIDADE</th>\n",
       "      <th>NU_LEITOS</th>\n",
       "      <th>CO_INSTALACAO</th>\n",
       "      <th>CO_MUNICIPIO_GESTOR</th>\n",
       "      <th>CO_NATUREZA_JUR</th>\n",
       "      <th>ST_CONTRATO_FORMALIZADO</th>\n",
       "      <th>Codigo Regiao do Pais</th>\n",
       "      <th>Regiao do Pais</th>\n",
       "      <th>Codigo UF</th>\n",
       "      <th>UF</th>\n",
       "      <th>Codigo Macrorregiao de Saude</th>\n",
       "      <th>Macrorregiao de Saude</th>\n",
       "      <th>Codigo Regiao de Saude</th>\n",
       "      <th>Regiao de Saude</th>\n",
       "      <th>Codigo Municipio</th>\n",
       "      <th>Municipio</th>\n",
       "      <th>Populacao Estimada IBGE 2022</th>\n",
       "    </tr>\n",
       "  </thead>\n",
       "  <tbody>\n",
       "    <tr>\n",
       "      <th>0</th>\n",
       "      <td>5300107592477</td>\n",
       "      <td>0.0</td>\n",
       "      <td>1</td>\n",
       "      <td>530010.0</td>\n",
       "      <td>1023.0</td>\n",
       "      <td>S</td>\n",
       "      <td>5.0</td>\n",
       "      <td>Centro-Oeste</td>\n",
       "      <td>53.0</td>\n",
       "      <td>Distrito Federal</td>\n",
       "      <td>5302.0</td>\n",
       "      <td>DISTRITO FEDERAL</td>\n",
       "      <td>53001.0</td>\n",
       "      <td>DISTRITO FEDERAL</td>\n",
       "      <td>530010.0</td>\n",
       "      <td>Brasilia</td>\n",
       "      <td>2.817.381</td>\n",
       "    </tr>\n",
       "    <tr>\n",
       "      <th>1</th>\n",
       "      <td>4305107492359</td>\n",
       "      <td>0.0</td>\n",
       "      <td>1</td>\n",
       "      <td>430510.0</td>\n",
       "      <td>1244.0</td>\n",
       "      <td>S</td>\n",
       "      <td>4.0</td>\n",
       "      <td>Sul</td>\n",
       "      <td>43.0</td>\n",
       "      <td>Rio Grande do Sul</td>\n",
       "      <td>4310.0</td>\n",
       "      <td>SERRA</td>\n",
       "      <td>43023.0</td>\n",
       "      <td>REGIAO 23</td>\n",
       "      <td>430510.0</td>\n",
       "      <td>Caxias do Sul</td>\n",
       "      <td>463.501</td>\n",
       "    </tr>\n",
       "    <tr>\n",
       "      <th>4</th>\n",
       "      <td>4321607897162</td>\n",
       "      <td>1.0</td>\n",
       "      <td>1</td>\n",
       "      <td>432160.0</td>\n",
       "      <td>1244.0</td>\n",
       "      <td>NaN</td>\n",
       "      <td>4.0</td>\n",
       "      <td>Sul</td>\n",
       "      <td>43.0</td>\n",
       "      <td>Rio Grande do Sul</td>\n",
       "      <td>4313.0</td>\n",
       "      <td>METROPOLITANA</td>\n",
       "      <td>43005.0</td>\n",
       "      <td>REGIAO 05</td>\n",
       "      <td>432160.0</td>\n",
       "      <td>Tramandai</td>\n",
       "      <td>54.387</td>\n",
       "    </tr>\n",
       "    <tr>\n",
       "      <th>6</th>\n",
       "      <td>2414402593874</td>\n",
       "      <td>3.0</td>\n",
       "      <td>1</td>\n",
       "      <td>241440.0</td>\n",
       "      <td>1244.0</td>\n",
       "      <td>NaN</td>\n",
       "      <td>2.0</td>\n",
       "      <td>Nordeste</td>\n",
       "      <td>24.0</td>\n",
       "      <td>Rio Grande do Norte</td>\n",
       "      <td>2402.0</td>\n",
       "      <td>MACRORREGIAO I</td>\n",
       "      <td>24003.0</td>\n",
       "      <td>3a REGIAO DE SAUDE - JOAO CAMARA</td>\n",
       "      <td>241440.0</td>\n",
       "      <td>Touros</td>\n",
       "      <td>33.035</td>\n",
       "    </tr>\n",
       "    <tr>\n",
       "      <th>7</th>\n",
       "      <td>2304105456312</td>\n",
       "      <td>0.0</td>\n",
       "      <td>1</td>\n",
       "      <td>230410.0</td>\n",
       "      <td>2143.0</td>\n",
       "      <td>NaN</td>\n",
       "      <td>2.0</td>\n",
       "      <td>Nordeste</td>\n",
       "      <td>23.0</td>\n",
       "      <td>Ceara</td>\n",
       "      <td>2309.0</td>\n",
       "      <td>SOBRAL</td>\n",
       "      <td>23011.0</td>\n",
       "      <td>5a RS SOBRAL</td>\n",
       "      <td>230410.0</td>\n",
       "      <td>Crateus</td>\n",
       "      <td>76.390</td>\n",
       "    </tr>\n",
       "  </tbody>\n",
       "</table>\n",
       "</div>"
      ],
      "text/plain": [
       "      CO_UNIDADE  NU_LEITOS  CO_INSTALACAO  CO_MUNICIPIO_GESTOR  \\\n",
       "0  5300107592477        0.0              1             530010.0   \n",
       "1  4305107492359        0.0              1             430510.0   \n",
       "4  4321607897162        1.0              1             432160.0   \n",
       "6  2414402593874        3.0              1             241440.0   \n",
       "7  2304105456312        0.0              1             230410.0   \n",
       "\n",
       "   CO_NATUREZA_JUR ST_CONTRATO_FORMALIZADO  Codigo Regiao do Pais  \\\n",
       "0           1023.0                       S                    5.0   \n",
       "1           1244.0                       S                    4.0   \n",
       "4           1244.0                     NaN                    4.0   \n",
       "6           1244.0                     NaN                    2.0   \n",
       "7           2143.0                     NaN                    2.0   \n",
       "\n",
       "  Regiao do Pais  Codigo UF                   UF  \\\n",
       "0   Centro-Oeste       53.0     Distrito Federal   \n",
       "1            Sul       43.0    Rio Grande do Sul   \n",
       "4            Sul       43.0    Rio Grande do Sul   \n",
       "6       Nordeste       24.0  Rio Grande do Norte   \n",
       "7       Nordeste       23.0                Ceara   \n",
       "\n",
       "   Codigo Macrorregiao de Saude Macrorregiao de Saude  Codigo Regiao de Saude  \\\n",
       "0                        5302.0      DISTRITO FEDERAL                 53001.0   \n",
       "1                        4310.0                 SERRA                 43023.0   \n",
       "4                        4313.0         METROPOLITANA                 43005.0   \n",
       "6                        2402.0        MACRORREGIAO I                 24003.0   \n",
       "7                        2309.0                SOBRAL                 23011.0   \n",
       "\n",
       "                    Regiao de Saude  Codigo Municipio      Municipio  \\\n",
       "0                  DISTRITO FEDERAL          530010.0       Brasilia   \n",
       "1                         REGIAO 23          430510.0  Caxias do Sul   \n",
       "4                         REGIAO 05          432160.0      Tramandai   \n",
       "6  3a REGIAO DE SAUDE - JOAO CAMARA          241440.0         Touros   \n",
       "7                      5a RS SOBRAL          230410.0        Crateus   \n",
       "\n",
       "  Populacao Estimada IBGE 2022  \n",
       "0                    2.817.381  \n",
       "1                      463.501  \n",
       "4                       54.387  \n",
       "6                       33.035  \n",
       "7                       76.390  "
      ]
     },
     "execution_count": 39,
     "metadata": {},
     "output_type": "execute_result"
    }
   ],
   "source": [
    "df_new_filtered.head()"
   ]
  },
  {
   "cell_type": "code",
   "execution_count": 40,
   "metadata": {},
   "outputs": [
    {
     "data": {
      "text/plain": [
       "Index(['CO_UNIDADE', 'NU_LEITOS', 'CO_INSTALACAO', 'CO_MUNICIPIO_GESTOR',\n",
       "       'CO_NATUREZA_JUR', 'ST_CONTRATO_FORMALIZADO', 'Codigo Regiao do Pais',\n",
       "       'Regiao do Pais', 'Codigo UF', 'UF', 'Codigo Macrorregiao de Saude',\n",
       "       'Macrorregiao de Saude', 'Codigo Regiao de Saude', 'Regiao de Saude',\n",
       "       'Codigo Municipio', 'Municipio', 'Populacao Estimada IBGE 2022'],\n",
       "      dtype='object')"
      ]
     },
     "execution_count": 40,
     "metadata": {},
     "output_type": "execute_result"
    }
   ],
   "source": [
    "df_new_filtered.columns"
   ]
  },
  {
   "cell_type": "code",
   "execution_count": 18,
   "metadata": {},
   "outputs": [
    {
     "data": {
      "text/html": [
       "<div>\n",
       "<style scoped>\n",
       "    .dataframe tbody tr th:only-of-type {\n",
       "        vertical-align: middle;\n",
       "    }\n",
       "\n",
       "    .dataframe tbody tr th {\n",
       "        vertical-align: top;\n",
       "    }\n",
       "\n",
       "    .dataframe thead th {\n",
       "        text-align: right;\n",
       "    }\n",
       "</style>\n",
       "<table border=\"1\" class=\"dataframe\">\n",
       "  <thead>\n",
       "    <tr style=\"text-align: right;\">\n",
       "      <th></th>\n",
       "      <th>CO_UNIDADE</th>\n",
       "      <th>NU_LEITOS</th>\n",
       "      <th>CO_INSTALACAO</th>\n",
       "      <th>CO_MUNICIPIO_GESTOR</th>\n",
       "      <th>CO_NATUREZA_JUR</th>\n",
       "      <th>Codigo Regiao do Pais</th>\n",
       "      <th>Regiao do Pais</th>\n",
       "      <th>Codigo UF</th>\n",
       "      <th>UF</th>\n",
       "      <th>Codigo Macrorregiao de Saude</th>\n",
       "      <th>Macrorregiao de Saude</th>\n",
       "      <th>Codigo Regiao de Saude</th>\n",
       "      <th>Regiao de Saude</th>\n",
       "      <th>Codigo Municipio</th>\n",
       "      <th>Municipio</th>\n",
       "      <th>Populacao Estimada IBGE 2022</th>\n",
       "    </tr>\n",
       "  </thead>\n",
       "  <tbody>\n",
       "  </tbody>\n",
       "</table>\n",
       "</div>"
      ],
      "text/plain": [
       "Empty DataFrame\n",
       "Columns: [CO_UNIDADE, NU_LEITOS, CO_INSTALACAO, CO_MUNICIPIO_GESTOR, CO_NATUREZA_JUR, Codigo Regiao do Pais, Regiao do Pais, Codigo UF, UF, Codigo Macrorregiao de Saude, Macrorregiao de Saude, Codigo Regiao de Saude, Regiao de Saude, Codigo Municipio, Municipio, Populacao Estimada IBGE 2022]\n",
       "Index: []"
      ]
     },
     "execution_count": 18,
     "metadata": {},
     "output_type": "execute_result"
    }
   ],
   "source": [
    "df_new_filtered[df_new_filtered['CO_UNIDADE'] == 9743014]"
   ]
  },
  {
   "cell_type": "code",
   "execution_count": 41,
   "metadata": {},
   "outputs": [],
   "source": [
    "df_new_filtered.to_csv(\"dados.csv\")"
   ]
  },
  {
   "cell_type": "code",
   "execution_count": 19,
   "metadata": {},
   "outputs": [
    {
     "data": {
      "text/plain": [
       "105"
      ]
     },
     "execution_count": 19,
     "metadata": {},
     "output_type": "execute_result"
    }
   ],
   "source": [
    "len(df_new_filtered[\"Macrorregiao de Saude\"].unique())"
   ]
  },
  {
   "cell_type": "code",
   "execution_count": null,
   "metadata": {
    "vscode": {
     "languageId": "ruby"
    }
   },
   "outputs": [
    {
     "name": "stdout",
     "output_type": "stream",
     "text": [
      "18220.0\n"
     ]
    }
   ],
   "source": [
    "df_macrorregiao_leitos = df_new_filtered.groupby('Macrorregiao de Saude')['NU_LEITOS'].sum().reset_index()\n",
    "df_macrorregiao_leitos.rename(columns={'NU_LEITOS': 'Total_NU_LEITOS'}, inplace=True)\n",
    "\n",
    "df_macrorregiao_leitos"
   ]
  },
  {
   "cell_type": "code",
   "execution_count": 24,
   "metadata": {
    "vscode": {
     "languageId": "ruby"
    }
   },
   "outputs": [
    {
     "data": {
      "text/html": [
       "<div>\n",
       "<style scoped>\n",
       "    .dataframe tbody tr th:only-of-type {\n",
       "        vertical-align: middle;\n",
       "    }\n",
       "\n",
       "    .dataframe tbody tr th {\n",
       "        vertical-align: top;\n",
       "    }\n",
       "\n",
       "    .dataframe thead th {\n",
       "        text-align: right;\n",
       "    }\n",
       "</style>\n",
       "<table border=\"1\" class=\"dataframe\">\n",
       "  <thead>\n",
       "    <tr style=\"text-align: right;\">\n",
       "      <th></th>\n",
       "      <th>Macrorregiao de Saude</th>\n",
       "      <th>Populacao Estimada IBGE 2022</th>\n",
       "    </tr>\n",
       "  </thead>\n",
       "  <tbody>\n",
       "    <tr>\n",
       "      <th>0</th>\n",
       "      <td>1a MACRORREGIAO DE SAUDE</td>\n",
       "      <td>2094470</td>\n",
       "    </tr>\n",
       "    <tr>\n",
       "      <th>1</th>\n",
       "      <td>2a MACRORREGIAO DE SAUDE</td>\n",
       "      <td>1033213</td>\n",
       "    </tr>\n",
       "    <tr>\n",
       "      <th>2</th>\n",
       "      <td>AGRESTE</td>\n",
       "      <td>1878035</td>\n",
       "    </tr>\n",
       "    <tr>\n",
       "      <th>3</th>\n",
       "      <td>CARIRI</td>\n",
       "      <td>1447729</td>\n",
       "    </tr>\n",
       "    <tr>\n",
       "      <th>4</th>\n",
       "      <td>CENTRAL</td>\n",
       "      <td>2811299</td>\n",
       "    </tr>\n",
       "  </tbody>\n",
       "</table>\n",
       "</div>"
      ],
      "text/plain": [
       "      Macrorregiao de Saude  Populacao Estimada IBGE 2022\n",
       "0  1a MACRORREGIAO DE SAUDE                       2094470\n",
       "1  2a MACRORREGIAO DE SAUDE                       1033213\n",
       "2                   AGRESTE                       1878035\n",
       "3                    CARIRI                       1447729\n",
       "4                   CENTRAL                       2811299"
      ]
     },
     "execution_count": 24,
     "metadata": {},
     "output_type": "execute_result"
    }
   ],
   "source": [
    "df2 = df_regioes.groupby('Macrorregiao de Saude').agg({\n",
    "    'Populacao Estimada IBGE 2022': lambda x: x.str.replace('.', '').astype(int).sum()\n",
    "}).reset_index()\n",
    "\n",
    "df2.head()"
   ]
  },
  {
   "cell_type": "code",
   "execution_count": 28,
   "metadata": {
    "vscode": {
     "languageId": "ruby"
    }
   },
   "outputs": [
    {
     "data": {
      "text/html": [
       "<div>\n",
       "<style scoped>\n",
       "    .dataframe tbody tr th:only-of-type {\n",
       "        vertical-align: middle;\n",
       "    }\n",
       "\n",
       "    .dataframe tbody tr th {\n",
       "        vertical-align: top;\n",
       "    }\n",
       "\n",
       "    .dataframe thead th {\n",
       "        text-align: right;\n",
       "    }\n",
       "</style>\n",
       "<table border=\"1\" class=\"dataframe\">\n",
       "  <thead>\n",
       "    <tr style=\"text-align: right;\">\n",
       "      <th></th>\n",
       "      <th>Macrorregiao de Saude</th>\n",
       "      <th>Populacao Estimada IBGE 2022</th>\n",
       "    </tr>\n",
       "  </thead>\n",
       "  <tbody>\n",
       "    <tr>\n",
       "      <th>0</th>\n",
       "      <td>1a MACRORREGIAO DE SAUDE</td>\n",
       "      <td>2.094.470</td>\n",
       "    </tr>\n",
       "    <tr>\n",
       "      <th>1</th>\n",
       "      <td>2a MACRORREGIAO DE SAUDE</td>\n",
       "      <td>1.033.213</td>\n",
       "    </tr>\n",
       "    <tr>\n",
       "      <th>2</th>\n",
       "      <td>AGRESTE</td>\n",
       "      <td>1.878.035</td>\n",
       "    </tr>\n",
       "    <tr>\n",
       "      <th>3</th>\n",
       "      <td>CARIRI</td>\n",
       "      <td>1.447.729</td>\n",
       "    </tr>\n",
       "    <tr>\n",
       "      <th>4</th>\n",
       "      <td>CENTRAL</td>\n",
       "      <td>2.811.299</td>\n",
       "    </tr>\n",
       "  </tbody>\n",
       "</table>\n",
       "</div>"
      ],
      "text/plain": [
       "      Macrorregiao de Saude Populacao Estimada IBGE 2022\n",
       "0  1a MACRORREGIAO DE SAUDE                    2.094.470\n",
       "1  2a MACRORREGIAO DE SAUDE                    1.033.213\n",
       "2                   AGRESTE                    1.878.035\n",
       "3                    CARIRI                    1.447.729\n",
       "4                   CENTRAL                    2.811.299"
      ]
     },
     "execution_count": 28,
     "metadata": {},
     "output_type": "execute_result"
    }
   ],
   "source": [
    "df2[\"Populacao Estimada IBGE 2022\"] = df2[\"Populacao Estimada IBGE 2022\"].apply(\n",
    "    lambda x: f\"{x:,.0f}\".replace(\",\", \".\")\n",
    ")\n",
    "\n",
    "df2.head()"
   ]
  },
  {
   "cell_type": "markdown",
   "metadata": {},
   "source": [
    "### Quantidade de leitos por Macrorregião e Região de Saúde"
   ]
  },
  {
   "cell_type": "code",
   "execution_count": 21,
   "metadata": {},
   "outputs": [
    {
     "data": {
      "text/html": [
       "<div>\n",
       "<style scoped>\n",
       "    .dataframe tbody tr th:only-of-type {\n",
       "        vertical-align: middle;\n",
       "    }\n",
       "\n",
       "    .dataframe tbody tr th {\n",
       "        vertical-align: top;\n",
       "    }\n",
       "\n",
       "    .dataframe thead th {\n",
       "        text-align: right;\n",
       "    }\n",
       "</style>\n",
       "<table border=\"1\" class=\"dataframe\">\n",
       "  <thead>\n",
       "    <tr style=\"text-align: right;\">\n",
       "      <th></th>\n",
       "      <th>Macrorregiao de Saude</th>\n",
       "      <th>NU_LEITOS</th>\n",
       "    </tr>\n",
       "  </thead>\n",
       "  <tbody>\n",
       "    <tr>\n",
       "      <th>0</th>\n",
       "      <td>1a MACRORREGIAO DE SAUDE</td>\n",
       "      <td>1638.0</td>\n",
       "    </tr>\n",
       "    <tr>\n",
       "      <th>1</th>\n",
       "      <td>2a MACRORREGIAO DE SAUDE</td>\n",
       "      <td>720.0</td>\n",
       "    </tr>\n",
       "    <tr>\n",
       "      <th>2</th>\n",
       "      <td>AGRESTE</td>\n",
       "      <td>1613.0</td>\n",
       "    </tr>\n",
       "    <tr>\n",
       "      <th>3</th>\n",
       "      <td>CARIRI</td>\n",
       "      <td>1588.0</td>\n",
       "    </tr>\n",
       "    <tr>\n",
       "      <th>4</th>\n",
       "      <td>CENTRAL</td>\n",
       "      <td>2466.0</td>\n",
       "    </tr>\n",
       "    <tr>\n",
       "      <th>...</th>\n",
       "      <td>...</td>\n",
       "      <td>...</td>\n",
       "    </tr>\n",
       "    <tr>\n",
       "      <th>100</th>\n",
       "      <td>TRIANGULO DO SUL</td>\n",
       "      <td>773.0</td>\n",
       "    </tr>\n",
       "    <tr>\n",
       "      <th>101</th>\n",
       "      <td>VALE DO ACO</td>\n",
       "      <td>1035.0</td>\n",
       "    </tr>\n",
       "    <tr>\n",
       "      <th>102</th>\n",
       "      <td>VALE DO ITAJAI</td>\n",
       "      <td>1850.0</td>\n",
       "    </tr>\n",
       "    <tr>\n",
       "      <th>103</th>\n",
       "      <td>VALE DO S.FRANCISCO E ARARIPE</td>\n",
       "      <td>930.0</td>\n",
       "    </tr>\n",
       "    <tr>\n",
       "      <th>104</th>\n",
       "      <td>VALES</td>\n",
       "      <td>1264.0</td>\n",
       "    </tr>\n",
       "  </tbody>\n",
       "</table>\n",
       "<p>105 rows × 2 columns</p>\n",
       "</div>"
      ],
      "text/plain": [
       "             Macrorregiao de Saude  NU_LEITOS\n",
       "0         1a MACRORREGIAO DE SAUDE     1638.0\n",
       "1         2a MACRORREGIAO DE SAUDE      720.0\n",
       "2                          AGRESTE     1613.0\n",
       "3                           CARIRI     1588.0\n",
       "4                          CENTRAL     2466.0\n",
       "..                             ...        ...\n",
       "100               TRIANGULO DO SUL      773.0\n",
       "101                    VALE DO ACO     1035.0\n",
       "102                 VALE DO ITAJAI     1850.0\n",
       "103  VALE DO S.FRANCISCO E ARARIPE      930.0\n",
       "104                          VALES     1264.0\n",
       "\n",
       "[105 rows x 2 columns]"
      ]
     },
     "execution_count": 21,
     "metadata": {},
     "output_type": "execute_result"
    }
   ],
   "source": [
    "df_macro_leitos = df_new_filtered.groupby('Macrorregiao de Saude')['NU_LEITOS'].sum().reset_index()\n",
    "df_macro_leitos\n"
   ]
  },
  {
   "cell_type": "code",
   "execution_count": 39,
   "metadata": {},
   "outputs": [
    {
     "data": {
      "application/vnd.plotly.v1+json": {
       "config": {
        "plotlyServerURL": "https://plot.ly"
       },
       "data": [
        {
         "hovertemplate": "Macrorregião de Saúde=%{x}<br>Número de Leitos=%{y}<extra></extra>",
         "legendgroup": "",
         "marker": {
          "color": "royalblue",
          "pattern": {
           "shape": ""
          }
         },
         "name": "",
         "orientation": "v",
         "showlegend": false,
         "textposition": "auto",
         "type": "bar",
         "x": [
          "1a MACRORREGIAO DE SAUDE",
          "2a MACRORREGIAO DE SAUDE",
          "AGRESTE",
          "CARIRI",
          "CENTRAL",
          "CENTRAL NORTE",
          "CENTRO",
          "CENTRO - NORTE (NRS - JACOBINA)",
          "CENTRO SUL",
          "CENTRO-LESTE (NRS - FEIRA SANTANA)",
          "CENTRO-OESTE",
          "CERRADOS",
          "CONE SUL",
          "COSTA LESTE",
          "DISTRITO FEDERAL",
          "EXTREMO SUL",
          "EXTREMO SUL (NRS - TEIXEIRA FREITAS)",
          "FORTALEZA",
          "FOZ DO RIO ITAJAI",
          "GRANDE FLORIANOPOLIS",
          "GRANDE OESTE",
          "JEQUITINHONHA",
          "LESTE",
          "LESTE - (NRS - SALVADOR)",
          "LESTE DO SUL",
          "LITORAL",
          "LITORAL LESTE JAGUARIBE",
          "MACRO UNICA",
          "MACRO UNICA - AC",
          "MACRO UNICA - AP",
          "MACRO-RORAIMA",
          "MACRORREGIAO CENTRO SUDESTE",
          "MACRORREGIAO CENTRO-NOROESTE",
          "MACRORREGIAO CENTRO-NORTE",
          "MACRORREGIAO CENTRO-OESTE",
          "MACRORREGIAO CENTRO-SUL",
          "MACRORREGIAO DE SAUDE NORTE",
          "MACRORREGIAO I",
          "MACRORREGIAO I - JOAO PESSOA",
          "MACRORREGIAO I - PORTO VELHO",
          "MACRORREGIAO II",
          "MACRORREGIAO II - CAMPINA GRANDE",
          "MACRORREGIAO III - SERTAO ALTO SERTAO",
          "MACRORREGIAO LESTE",
          "MACRORREGIAO NORDESTE",
          "MACRORREGIAO NORTE",
          "MACRORREGIAO OESTE",
          "MACRORREGIAO SUDOESTE",
          "MACRORREGIAO SUL",
          "MACRORREGIONAL I",
          "MACRORREGIONAL II",
          "MACRORREGIONAL II (CACOAL)",
          "MACRORREGIONAL III",
          "MACRORREGIONAL IV",
          "MACRORREGIONAL LESTE",
          "MACRORREGIONAL NOROESTE",
          "MACRORREGIONAL NORTE",
          "MEIO NORTE",
          "MEIO OESTE",
          "METROPOLITANA",
          "MISSIONEIRA",
          "NORDESTE",
          "NORDESTE (NRS - ALAGOINHAS)",
          "NOROESTE",
          "NORTE",
          "NORTE - (NRS - JUAZEIRO)",
          "OESTE",
          "OESTE (NBS - BARREIRAS)",
          "PANTANAL",
          "PLANALTO NORTE E NORDESTE",
          "RRAS 18",
          "RRAS1",
          "RRAS10",
          "RRAS11",
          "RRAS12",
          "RRAS13",
          "RRAS14",
          "RRAS15",
          "RRAS16",
          "RRAS17",
          "RRAS2",
          "RRAS3",
          "RRAS4",
          "RRAS5",
          "RRAS6",
          "RRAS7",
          "RRAS8",
          "RRAS9",
          "SEMI-ARIDO",
          "SERRA",
          "SERRA CATARINENSE",
          "SERTAO",
          "SERTAO CENTRAL",
          "SOBRAL",
          "SUDESTE",
          "SUDOESTE",
          "SUDOESTE (NBS - VITORIA CONQUISTA)",
          "SUL",
          "SUL (NBS - ILHEUS)",
          "TRIANGULO DO NORTE",
          "TRIANGULO DO SUL",
          "VALE DO ACO",
          "VALE DO ITAJAI",
          "VALE DO S.FRANCISCO E ARARIPE",
          "VALES"
         ],
         "xaxis": "x",
         "y": {
          "bdata": "AAAAAACYmUAAAAAAAICGQAAAAAAANJlAAAAAAADQmEAAAAAAAESjQAAAAAAAOI9AAAAAAICZwUAAAAAAAGiMQAAAAAAAWIlAAAAAAAAcpkAAAAAAALiPQAAAAAAA6IlAAAAAAABgikAAAAAAAFB7QAAAAAAA4K1AAAAAAABQjUAAAAAAAESQQAAAAAAALLBAAAAAAADgiUAAAAAAAPiXQAAAAAAArJBAAAAAAAAYg0AAAAAAAHCYQAAAAAAAnq5AAAAAAAA4hkAAAAAAAJiEQAAAAAAAkIJAAAAAAAAyoEAAAAAAANCKQAAAAAAAwIJAAAAAAAAwe0AAAAAAAKiaQAAAAAAA4ItAAAAAAAASo0AAAAAAAKykQAAAAAAAOJJAAAAAAAAIg0AAAAAAAMvRQAAAAAAAMqBAAAAAAACEl0AAAAAAAIiRQAAAAAAAFJhAAAAAAAColkAAAAAAAFCbQAAAAAAAaIlAAAAAAADEsEAAAAAAABClQAAAAAAALJBAAAAAAACqpEAAAAAAAISeQAAAAAAAzJlAAAAAAADok0AAAAAAAESUQAAAAAAAkJpAAAAAAAAWsUAAAAAAACSiQAAAAAAAEKBAAAAAAADQk0AAAAAAABiMQAAAAACA2sdAAAAAAAB4lUAAAAAAALiFQAAAAAAAOI9AAAAAAAAQjEAAAAAAABKuQAAAAAAAGJhAAAAAAAC0nkAAAAAAAHCQQAAAAAAAgFhAAAAAAADAnEAAAAAAAHSTQAAAAAAA0KBAAAAAAADUlkAAAAAAAHCOQAAAAAAATqVAAAAAAAC0o0AAAAAAAPCWQAAAAAAAiK5AAAAAAAC0kEAAAAAAAKyhQAAAAAAASJVAAAAAAACAfkAAAAAAAHCJQAAAAAAAeI5AAAAAAAC3xEAAAAAAAJCbQAAAAAAAnKRAAAAAAABEn0AAAAAAAPCJQAAAAAAAhJxAAAAAAAAAeEAAAAAAALCGQAAAAAAA2IVAAAAAAADwk0AAAAAAACCbQAAAAAAAMI9AAAAAAAB4n0AAAAAAAD2xQAAAAAAARJ5AAAAAAAAYk0AAAAAAACiIQAAAAAAALJBAAAAAAADonEAAAAAAABCNQAAAAAAAwJNA",
          "dtype": "f8"
         },
         "yaxis": "y"
        }
       ],
       "layout": {
        "bargap": 0.2,
        "barmode": "relative",
        "height": 600,
        "legend": {
         "tracegroupgap": 0
        },
        "template": {
         "data": {
          "bar": [
           {
            "error_x": {
             "color": "#2a3f5f"
            },
            "error_y": {
             "color": "#2a3f5f"
            },
            "marker": {
             "line": {
              "color": "#E5ECF6",
              "width": 0.5
             },
             "pattern": {
              "fillmode": "overlay",
              "size": 10,
              "solidity": 0.2
             }
            },
            "type": "bar"
           }
          ],
          "barpolar": [
           {
            "marker": {
             "line": {
              "color": "#E5ECF6",
              "width": 0.5
             },
             "pattern": {
              "fillmode": "overlay",
              "size": 10,
              "solidity": 0.2
             }
            },
            "type": "barpolar"
           }
          ],
          "carpet": [
           {
            "aaxis": {
             "endlinecolor": "#2a3f5f",
             "gridcolor": "white",
             "linecolor": "white",
             "minorgridcolor": "white",
             "startlinecolor": "#2a3f5f"
            },
            "baxis": {
             "endlinecolor": "#2a3f5f",
             "gridcolor": "white",
             "linecolor": "white",
             "minorgridcolor": "white",
             "startlinecolor": "#2a3f5f"
            },
            "type": "carpet"
           }
          ],
          "choropleth": [
           {
            "colorbar": {
             "outlinewidth": 0,
             "ticks": ""
            },
            "type": "choropleth"
           }
          ],
          "contour": [
           {
            "colorbar": {
             "outlinewidth": 0,
             "ticks": ""
            },
            "colorscale": [
             [
              0,
              "#0d0887"
             ],
             [
              0.1111111111111111,
              "#46039f"
             ],
             [
              0.2222222222222222,
              "#7201a8"
             ],
             [
              0.3333333333333333,
              "#9c179e"
             ],
             [
              0.4444444444444444,
              "#bd3786"
             ],
             [
              0.5555555555555556,
              "#d8576b"
             ],
             [
              0.6666666666666666,
              "#ed7953"
             ],
             [
              0.7777777777777778,
              "#fb9f3a"
             ],
             [
              0.8888888888888888,
              "#fdca26"
             ],
             [
              1,
              "#f0f921"
             ]
            ],
            "type": "contour"
           }
          ],
          "contourcarpet": [
           {
            "colorbar": {
             "outlinewidth": 0,
             "ticks": ""
            },
            "type": "contourcarpet"
           }
          ],
          "heatmap": [
           {
            "colorbar": {
             "outlinewidth": 0,
             "ticks": ""
            },
            "colorscale": [
             [
              0,
              "#0d0887"
             ],
             [
              0.1111111111111111,
              "#46039f"
             ],
             [
              0.2222222222222222,
              "#7201a8"
             ],
             [
              0.3333333333333333,
              "#9c179e"
             ],
             [
              0.4444444444444444,
              "#bd3786"
             ],
             [
              0.5555555555555556,
              "#d8576b"
             ],
             [
              0.6666666666666666,
              "#ed7953"
             ],
             [
              0.7777777777777778,
              "#fb9f3a"
             ],
             [
              0.8888888888888888,
              "#fdca26"
             ],
             [
              1,
              "#f0f921"
             ]
            ],
            "type": "heatmap"
           }
          ],
          "histogram": [
           {
            "marker": {
             "pattern": {
              "fillmode": "overlay",
              "size": 10,
              "solidity": 0.2
             }
            },
            "type": "histogram"
           }
          ],
          "histogram2d": [
           {
            "colorbar": {
             "outlinewidth": 0,
             "ticks": ""
            },
            "colorscale": [
             [
              0,
              "#0d0887"
             ],
             [
              0.1111111111111111,
              "#46039f"
             ],
             [
              0.2222222222222222,
              "#7201a8"
             ],
             [
              0.3333333333333333,
              "#9c179e"
             ],
             [
              0.4444444444444444,
              "#bd3786"
             ],
             [
              0.5555555555555556,
              "#d8576b"
             ],
             [
              0.6666666666666666,
              "#ed7953"
             ],
             [
              0.7777777777777778,
              "#fb9f3a"
             ],
             [
              0.8888888888888888,
              "#fdca26"
             ],
             [
              1,
              "#f0f921"
             ]
            ],
            "type": "histogram2d"
           }
          ],
          "histogram2dcontour": [
           {
            "colorbar": {
             "outlinewidth": 0,
             "ticks": ""
            },
            "colorscale": [
             [
              0,
              "#0d0887"
             ],
             [
              0.1111111111111111,
              "#46039f"
             ],
             [
              0.2222222222222222,
              "#7201a8"
             ],
             [
              0.3333333333333333,
              "#9c179e"
             ],
             [
              0.4444444444444444,
              "#bd3786"
             ],
             [
              0.5555555555555556,
              "#d8576b"
             ],
             [
              0.6666666666666666,
              "#ed7953"
             ],
             [
              0.7777777777777778,
              "#fb9f3a"
             ],
             [
              0.8888888888888888,
              "#fdca26"
             ],
             [
              1,
              "#f0f921"
             ]
            ],
            "type": "histogram2dcontour"
           }
          ],
          "mesh3d": [
           {
            "colorbar": {
             "outlinewidth": 0,
             "ticks": ""
            },
            "type": "mesh3d"
           }
          ],
          "parcoords": [
           {
            "line": {
             "colorbar": {
              "outlinewidth": 0,
              "ticks": ""
             }
            },
            "type": "parcoords"
           }
          ],
          "pie": [
           {
            "automargin": true,
            "type": "pie"
           }
          ],
          "scatter": [
           {
            "fillpattern": {
             "fillmode": "overlay",
             "size": 10,
             "solidity": 0.2
            },
            "type": "scatter"
           }
          ],
          "scatter3d": [
           {
            "line": {
             "colorbar": {
              "outlinewidth": 0,
              "ticks": ""
             }
            },
            "marker": {
             "colorbar": {
              "outlinewidth": 0,
              "ticks": ""
             }
            },
            "type": "scatter3d"
           }
          ],
          "scattercarpet": [
           {
            "marker": {
             "colorbar": {
              "outlinewidth": 0,
              "ticks": ""
             }
            },
            "type": "scattercarpet"
           }
          ],
          "scattergeo": [
           {
            "marker": {
             "colorbar": {
              "outlinewidth": 0,
              "ticks": ""
             }
            },
            "type": "scattergeo"
           }
          ],
          "scattergl": [
           {
            "marker": {
             "colorbar": {
              "outlinewidth": 0,
              "ticks": ""
             }
            },
            "type": "scattergl"
           }
          ],
          "scattermap": [
           {
            "marker": {
             "colorbar": {
              "outlinewidth": 0,
              "ticks": ""
             }
            },
            "type": "scattermap"
           }
          ],
          "scattermapbox": [
           {
            "marker": {
             "colorbar": {
              "outlinewidth": 0,
              "ticks": ""
             }
            },
            "type": "scattermapbox"
           }
          ],
          "scatterpolar": [
           {
            "marker": {
             "colorbar": {
              "outlinewidth": 0,
              "ticks": ""
             }
            },
            "type": "scatterpolar"
           }
          ],
          "scatterpolargl": [
           {
            "marker": {
             "colorbar": {
              "outlinewidth": 0,
              "ticks": ""
             }
            },
            "type": "scatterpolargl"
           }
          ],
          "scatterternary": [
           {
            "marker": {
             "colorbar": {
              "outlinewidth": 0,
              "ticks": ""
             }
            },
            "type": "scatterternary"
           }
          ],
          "surface": [
           {
            "colorbar": {
             "outlinewidth": 0,
             "ticks": ""
            },
            "colorscale": [
             [
              0,
              "#0d0887"
             ],
             [
              0.1111111111111111,
              "#46039f"
             ],
             [
              0.2222222222222222,
              "#7201a8"
             ],
             [
              0.3333333333333333,
              "#9c179e"
             ],
             [
              0.4444444444444444,
              "#bd3786"
             ],
             [
              0.5555555555555556,
              "#d8576b"
             ],
             [
              0.6666666666666666,
              "#ed7953"
             ],
             [
              0.7777777777777778,
              "#fb9f3a"
             ],
             [
              0.8888888888888888,
              "#fdca26"
             ],
             [
              1,
              "#f0f921"
             ]
            ],
            "type": "surface"
           }
          ],
          "table": [
           {
            "cells": {
             "fill": {
              "color": "#EBF0F8"
             },
             "line": {
              "color": "white"
             }
            },
            "header": {
             "fill": {
              "color": "#C8D4E3"
             },
             "line": {
              "color": "white"
             }
            },
            "type": "table"
           }
          ]
         },
         "layout": {
          "annotationdefaults": {
           "arrowcolor": "#2a3f5f",
           "arrowhead": 0,
           "arrowwidth": 1
          },
          "autotypenumbers": "strict",
          "coloraxis": {
           "colorbar": {
            "outlinewidth": 0,
            "ticks": ""
           }
          },
          "colorscale": {
           "diverging": [
            [
             0,
             "#8e0152"
            ],
            [
             0.1,
             "#c51b7d"
            ],
            [
             0.2,
             "#de77ae"
            ],
            [
             0.3,
             "#f1b6da"
            ],
            [
             0.4,
             "#fde0ef"
            ],
            [
             0.5,
             "#f7f7f7"
            ],
            [
             0.6,
             "#e6f5d0"
            ],
            [
             0.7,
             "#b8e186"
            ],
            [
             0.8,
             "#7fbc41"
            ],
            [
             0.9,
             "#4d9221"
            ],
            [
             1,
             "#276419"
            ]
           ],
           "sequential": [
            [
             0,
             "#0d0887"
            ],
            [
             0.1111111111111111,
             "#46039f"
            ],
            [
             0.2222222222222222,
             "#7201a8"
            ],
            [
             0.3333333333333333,
             "#9c179e"
            ],
            [
             0.4444444444444444,
             "#bd3786"
            ],
            [
             0.5555555555555556,
             "#d8576b"
            ],
            [
             0.6666666666666666,
             "#ed7953"
            ],
            [
             0.7777777777777778,
             "#fb9f3a"
            ],
            [
             0.8888888888888888,
             "#fdca26"
            ],
            [
             1,
             "#f0f921"
            ]
           ],
           "sequentialminus": [
            [
             0,
             "#0d0887"
            ],
            [
             0.1111111111111111,
             "#46039f"
            ],
            [
             0.2222222222222222,
             "#7201a8"
            ],
            [
             0.3333333333333333,
             "#9c179e"
            ],
            [
             0.4444444444444444,
             "#bd3786"
            ],
            [
             0.5555555555555556,
             "#d8576b"
            ],
            [
             0.6666666666666666,
             "#ed7953"
            ],
            [
             0.7777777777777778,
             "#fb9f3a"
            ],
            [
             0.8888888888888888,
             "#fdca26"
            ],
            [
             1,
             "#f0f921"
            ]
           ]
          },
          "colorway": [
           "#636efa",
           "#EF553B",
           "#00cc96",
           "#ab63fa",
           "#FFA15A",
           "#19d3f3",
           "#FF6692",
           "#B6E880",
           "#FF97FF",
           "#FECB52"
          ],
          "font": {
           "color": "#2a3f5f"
          },
          "geo": {
           "bgcolor": "white",
           "lakecolor": "white",
           "landcolor": "#E5ECF6",
           "showlakes": true,
           "showland": true,
           "subunitcolor": "white"
          },
          "hoverlabel": {
           "align": "left"
          },
          "hovermode": "closest",
          "mapbox": {
           "style": "light"
          },
          "paper_bgcolor": "white",
          "plot_bgcolor": "#E5ECF6",
          "polar": {
           "angularaxis": {
            "gridcolor": "white",
            "linecolor": "white",
            "ticks": ""
           },
           "bgcolor": "#E5ECF6",
           "radialaxis": {
            "gridcolor": "white",
            "linecolor": "white",
            "ticks": ""
           }
          },
          "scene": {
           "xaxis": {
            "backgroundcolor": "#E5ECF6",
            "gridcolor": "white",
            "gridwidth": 2,
            "linecolor": "white",
            "showbackground": true,
            "ticks": "",
            "zerolinecolor": "white"
           },
           "yaxis": {
            "backgroundcolor": "#E5ECF6",
            "gridcolor": "white",
            "gridwidth": 2,
            "linecolor": "white",
            "showbackground": true,
            "ticks": "",
            "zerolinecolor": "white"
           },
           "zaxis": {
            "backgroundcolor": "#E5ECF6",
            "gridcolor": "white",
            "gridwidth": 2,
            "linecolor": "white",
            "showbackground": true,
            "ticks": "",
            "zerolinecolor": "white"
           }
          },
          "shapedefaults": {
           "line": {
            "color": "#2a3f5f"
           }
          },
          "ternary": {
           "aaxis": {
            "gridcolor": "white",
            "linecolor": "white",
            "ticks": ""
           },
           "baxis": {
            "gridcolor": "white",
            "linecolor": "white",
            "ticks": ""
           },
           "bgcolor": "#E5ECF6",
           "caxis": {
            "gridcolor": "white",
            "linecolor": "white",
            "ticks": ""
           }
          },
          "title": {
           "x": 0.05
          },
          "xaxis": {
           "automargin": true,
           "gridcolor": "white",
           "linecolor": "white",
           "ticks": "",
           "title": {
            "standoff": 15
           },
           "zerolinecolor": "white",
           "zerolinewidth": 2
          },
          "yaxis": {
           "automargin": true,
           "gridcolor": "white",
           "linecolor": "white",
           "ticks": "",
           "title": {
            "standoff": 15
           },
           "zerolinecolor": "white",
           "zerolinewidth": 2
          }
         }
        },
        "title": {
         "text": "Número de Leitos por Macrorregião de Saúde"
        },
        "width": 1200,
        "xaxis": {
         "anchor": "y",
         "domain": [
          0,
          1
         ],
         "tickangle": -45,
         "tickfont": {
          "size": 8
         },
         "title": {
          "text": "Macrorregiao de Saúde"
         }
        },
        "yaxis": {
         "anchor": "x",
         "domain": [
          0,
          1
         ],
         "tickformat": ".",
         "title": {
          "text": "Número de Leitos"
         }
        }
       }
      }
     },
     "metadata": {},
     "output_type": "display_data"
    }
   ],
   "source": [
    "import plotly.express as px\n",
    "\n",
    "fig = px.bar(df_macro_leitos, \n",
    "             x='Macrorregiao de Saude', \n",
    "             y='NU_LEITOS', \n",
    "             title='Número de Leitos por Macrorregião de Saúde',\n",
    "             labels={'Macrorregiao de Saude': 'Macrorregião de Saúde', 'NU_LEITOS': 'Número de Leitos'},\n",
    "             color_discrete_sequence=['royalblue'])\n",
    "\n",
    "fig.update_layout(\n",
    "    xaxis_tickangle=-45,  \n",
    "    xaxis=dict(tickfont=dict(size=8)), \n",
    "    yaxis=dict(title_font=dict(size=12), tickformat='.'), \n",
    "    xaxis_title='Macrorregiao de Saúde',\n",
    "    yaxis_title='Número de Leitos',\n",
    "    height=600, \n",
    "    width=1200,\n",
    "    bargap=0.2,\n",
    ")\n",
    "\n",
    "fig.show()\n"
   ]
  },
  {
   "cell_type": "code",
   "execution_count": 34,
   "metadata": {},
   "outputs": [
    {
     "data": {
      "text/html": [
       "<div>\n",
       "<style scoped>\n",
       "    .dataframe tbody tr th:only-of-type {\n",
       "        vertical-align: middle;\n",
       "    }\n",
       "\n",
       "    .dataframe tbody tr th {\n",
       "        vertical-align: top;\n",
       "    }\n",
       "\n",
       "    .dataframe thead th {\n",
       "        text-align: right;\n",
       "    }\n",
       "</style>\n",
       "<table border=\"1\" class=\"dataframe\">\n",
       "  <thead>\n",
       "    <tr style=\"text-align: right;\">\n",
       "      <th></th>\n",
       "      <th>Regiao de Saude</th>\n",
       "      <th>NU_LEITOS</th>\n",
       "    </tr>\n",
       "  </thead>\n",
       "  <tbody>\n",
       "    <tr>\n",
       "      <th>0</th>\n",
       "      <td>10a REGIAO</td>\n",
       "      <td>142.0</td>\n",
       "    </tr>\n",
       "    <tr>\n",
       "      <th>1</th>\n",
       "      <td>10a REGIAO DE SAUDE</td>\n",
       "      <td>70.0</td>\n",
       "    </tr>\n",
       "    <tr>\n",
       "      <th>2</th>\n",
       "      <td>10a RS CASCAVEL</td>\n",
       "      <td>719.0</td>\n",
       "    </tr>\n",
       "    <tr>\n",
       "      <th>3</th>\n",
       "      <td>11a REGIAO</td>\n",
       "      <td>114.0</td>\n",
       "    </tr>\n",
       "    <tr>\n",
       "      <th>4</th>\n",
       "      <td>11a RS CAMPO MOURAO</td>\n",
       "      <td>466.0</td>\n",
       "    </tr>\n",
       "    <tr>\n",
       "      <th>...</th>\n",
       "      <td>...</td>\n",
       "      <td>...</td>\n",
       "    </tr>\n",
       "    <tr>\n",
       "      <th>420</th>\n",
       "      <td>VOTUPORANGA</td>\n",
       "      <td>221.0</td>\n",
       "    </tr>\n",
       "    <tr>\n",
       "      <th>421</th>\n",
       "      <td>XANXERE</td>\n",
       "      <td>216.0</td>\n",
       "    </tr>\n",
       "    <tr>\n",
       "      <th>422</th>\n",
       "      <td>XINGU</td>\n",
       "      <td>366.0</td>\n",
       "    </tr>\n",
       "    <tr>\n",
       "      <th>423</th>\n",
       "      <td>ZE DOCA</td>\n",
       "      <td>314.0</td>\n",
       "    </tr>\n",
       "    <tr>\n",
       "      <th>424</th>\n",
       "      <td>ZONA DA MATA</td>\n",
       "      <td>166.0</td>\n",
       "    </tr>\n",
       "  </tbody>\n",
       "</table>\n",
       "<p>425 rows × 2 columns</p>\n",
       "</div>"
      ],
      "text/plain": [
       "         Regiao de Saude  NU_LEITOS\n",
       "0             10a REGIAO      142.0\n",
       "1    10a REGIAO DE SAUDE       70.0\n",
       "2        10a RS CASCAVEL      719.0\n",
       "3             11a REGIAO      114.0\n",
       "4    11a RS CAMPO MOURAO      466.0\n",
       "..                   ...        ...\n",
       "420          VOTUPORANGA      221.0\n",
       "421              XANXERE      216.0\n",
       "422                XINGU      366.0\n",
       "423              ZE DOCA      314.0\n",
       "424         ZONA DA MATA      166.0\n",
       "\n",
       "[425 rows x 2 columns]"
      ]
     },
     "execution_count": 34,
     "metadata": {},
     "output_type": "execute_result"
    }
   ],
   "source": [
    "df_regiao_leitos = df_new_filtered.groupby('Regiao de Saude')['NU_LEITOS'].sum().reset_index()\n",
    "df_regiao_leitos"
   ]
  },
  {
   "cell_type": "code",
   "execution_count": null,
   "metadata": {},
   "outputs": [
    {
     "data": {
      "application/vnd.plotly.v1+json": {
       "config": {
        "plotlyServerURL": "https://plot.ly"
       },
       "data": [
        {
         "hovertemplate": "Região de Saúde=%{x}<br>Número de Leitos=%{y}<extra></extra>",
         "legendgroup": "",
         "marker": {
          "color": "royalblue",
          "pattern": {
           "shape": ""
          }
         },
         "name": "",
         "orientation": "v",
         "showlegend": false,
         "textposition": "auto",
         "type": "bar",
         "x": [
          "10a REGIAO",
          "10a REGIAO DE SAUDE",
          "10a RS CASCAVEL",
          "11a REGIAO",
          "11a RS CAMPO MOURAO",
          "12a REGIAO",
          "12a RS UMUARAMA",
          "13a REGIAO",
          "13a RS CIANORTE",
          "14a REGIAO",
          "14a RS PARANAVAI",
          "15a REGIAO",
          "15a RS MARINGA",
          "16a REGIAO",
          "16a RS APUCARANA",
          "17a RS LONDRINA",
          "18a RS CORNELIO PROCOPIO",
          "19a RS JACAREZINHO",
          "1a REGIAO DE SAUDE",
          "1a REGIAO DE SAUDE - SAO JOSE DE MIPIBU",
          "1a REGIAO MATA ATLANTICA",
          "1a RS FORTALEZA",
          "1a RS PARANAGUA",
          "20a RS TOLEDO",
          "21a RS TELEMACO BORBA",
          "22a RS IVAIPORA",
          "2a REGIAO",
          "2a REGIAO DE SAUDE",
          "2a REGIAO DE SAUDE - MOSSORO",
          "2a RS CARIRI",
          "2a RS METROPOLITANA",
          "3a REGIAO",
          "3a REGIAO DE SAUDE",
          "3a REGIAO DE SAUDE - JOAO CAMARA",
          "3a RS PONTA GROSSA",
          "3a RS SERTAO CENTRAL",
          "4a REGIAO",
          "4a REGIAO DE SAUDE",
          "4a REGIAO DE SAUDE - CAICO",
          "4a RS IRATI",
          "4a RS LITORAL LESTE JAGUARIBE",
          "5a REGIAO",
          "5a REGIAO DE SAUDE",
          "5a REGIAO DE SAUDE - SANTA CRUZ",
          "5a RS GUARAPUAVA",
          "5a RS SOBRAL",
          "6a REGIAO",
          "6a REGIAO DE SAUDE",
          "6a REGIAO DE SAUDE - PAU DOS FERROS",
          "6a RS UNIAO DA VITORIA",
          "7a REGIAO",
          "7a REGIAO DE SAUDE",
          "7a REGIAO DE SAUDE - METROPOLITANA",
          "7a RS PATO BRANCO",
          "8a REGIAO",
          "8a REGIAO DE SAUDE",
          "8a REGIAO DE SAUDE - ACU",
          "8a RS FRANCISCO BELTRAO",
          "9a REGIAO",
          "9a REGIAO DE SAUDE",
          "9a RS FOZ DO IGUACU",
          "ACAILANDIA",
          "ADAMANTINA",
          "AFOGADOS DA INGAZEIRA",
          "AGUAS FORMOSAS",
          "ALAGOINHAS",
          "ALEM PARAIBA",
          "ALFENAS MACHADO",
          "ALMENARA JACINTO",
          "ALTA ANHANGUERA",
          "ALTA MOGIANA",
          "ALTA PAULISTA",
          "ALTA SOROCABANA",
          "ALTO ACRE",
          "ALTO CAPIVARI",
          "ALTO DO TIETE",
          "ALTO SOLIMOES",
          "ALTO TAPAJOS",
          "ALTO URUGUAI CATARINENSE",
          "ALTO VALE DO ITAJAI",
          "ALTO VALE DO PARAIBA",
          "ALTO VALE DO RIO DO PEIXE",
          "AMOR PERFEITO",
          "AQUIFERO GUARANI",
          "ARACAJU",
          "ARACUAI",
          "ARAGUAIA",
          "ARAGUAIA XINGU",
          "ARARAS",
          "ARAXA",
          "ARCOVERDE",
          "AREA CENTRAL",
          "AREA NORTE",
          "AREA SUDOESTE",
          "ASSIS",
          "BACABAL",
          "BAIA DA ILHA GRANDE",
          "BAIXA MOGIANA",
          "BAIXADA CUIABANA",
          "BAIXADA LITORANEA",
          "BAIXADA SANTISTA",
          "BAIXO ACRE E PURUS",
          "BAIXO AMAZONAS",
          "BAIXO PANTANAL",
          "BALSAS",
          "BARBACENA",
          "BARRA DO CORDA",
          "BARREIRAS",
          "BAURU",
          "BELO HORIZONTE NOVA LIMA SANTA LUZIA",
          "BETIM",
          "BICO DO PAPAGAIO",
          "BOCAIUVA",
          "BOM DESPACHO",
          "BRAGANCA",
          "BRASILIA DE MINAS",
          "BRUMADO",
          "CAFE",
          "CAMACARI",
          "CAMPO BELO",
          "CANTAO",
          "CAPIM DOURADO",
          "CARAJAS",
          "CARANGOLA",
          "CARATINGA",
          "CARBONIFERA",
          "CARNAUBAIS",
          "CARUARU",
          "CASSIA",
          "CATANDUVA",
          "CAXIAS",
          "CENTRAL",
          "CENTRAL DO DRS II",
          "CENTRAL DO DRS III",
          "CENTRO",
          "CENTRO NORTE",
          "CENTRO SUL",
          "CENTRO-SUL",
          "CERRADO TOCANTINS ARAGUAIA",
          "CHAPADA DAS MANGABEIRAS",
          "CHAPADA VALE DO RIO ITAIM",
          "CHAPADINHA",
          "CIRCUITO DA FE E VALE HISTORICO",
          "CIRCUITO DAS AGUAS",
          "COCAIS",
          "CODO",
          "CONE SUL",
          "CONGONHAS",
          "CONSELHEIRO LAFAIETE",
          "CONSORCIOS DO DRS II",
          "CONTAGEM",
          "CORACAO DE JESUS",
          "CORACAO DO DRS III",
          "CORONEL FABRICIANO TIMOTEO",
          "CRUZ DAS ALMAS",
          "CURVELO",
          "DIAMANTINA ITAMARANDIBA",
          "DISTRITO FEDERAL",
          "DIVINOPOLIS",
          "ENTORNO NORTE",
          "ENTORNO SUL",
          "ENTRE RIOS",
          "ESTANCIA",
          "ESTRADA DE FERRO",
          "EXTREMO OESTE",
          "EXTREMO OESTE PAULISTA",
          "EXTREMO SUL CATARINENSE",
          "FEIRA DE SANTANA",
          "FERNANDOPOLIS",
          "FORMIGA",
          "FOZ DO RIO ITAJAI",
          "FRANCISCO SA",
          "FRANCO DA ROCHA",
          "FRUTAL   ITURAMA",
          "GARANHUNS",
          "GARCAS ARAGUAIA",
          "GOIANA",
          "GOVERNADOR VALADARES",
          "GRANDE ABC",
          "GRANDE FLORIANOPOLIS",
          "GUANAMBI",
          "GUANHAES",
          "GUAXUPE",
          "HORIZONTE VERDE",
          "IBOTIRAMA",
          "ILHA DO BANANAL",
          "ILHEUS",
          "IMPERATRIZ",
          "IPATINGA",
          "IRECE",
          "ITABAIANA",
          "ITABERABA",
          "ITABIRA",
          "ITABUNA",
          "ITAJUBA",
          "ITAMBACURI",
          "ITAOBIM",
          "ITAPECURU MIRIM",
          "ITAPETINGA",
          "ITAPETININGA",
          "ITAPEVA",
          "ITAUNA",
          "ITUIUTABA",
          "JACOBINA",
          "JALES",
          "JANAUBA MONTE AZUL",
          "JANUARIA",
          "JAU",
          "JEQUIE",
          "JOAO MONLEVADE",
          "JOAO PINHEIRO",
          "JOSE BONIFACIO",
          "JUAZEIRO",
          "JUIZ DE FORA",
          "JUNDIAI",
          "JURUA E TARAUACA ENVIRA",
          "LAGARTO",
          "LAGO DE TUCURUI",
          "LAGOA DA PRATA SANTO ANTONIO DO MONTE",
          "LAGOS DO DRS II",
          "LAGUNA",
          "LAVRAS",
          "LEOPOLDINA CATAGUASES",
          "LESTE",
          "LIMA DUARTE",
          "LIMEIRA",
          "LIMOEIRO",
          "LINS",
          "LITORAL NORTE",
          "MADEIRA-MAMORE",
          "MANANCIAIS",
          "MANAUS, ENTORNO E ALTO RIO NEGRO",
          "MANGA",
          "MANHUACU",
          "MANTENA",
          "MANTIQUEIRA",
          "MARAJO I",
          "MARAJO II",
          "MARILIA",
          "MEDIO AMAZONAS",
          "MEDIO ARAGUAIA",
          "MEDIO NORTE ARAGUAIA",
          "MEDIO NORTE MATOGROSSENSE",
          "MEDIO PARAIBA",
          "MEDIO VALE DO ITAJAI",
          "MEIO OESTE",
          "METROPOLITANA",
          "METROPOLITANA I",
          "METROPOLITANA II",
          "METROPOLITANA III",
          "MONTES CLAROS",
          "MURIAE",
          "NANUQUE",
          "NORDESTE",
          "NORDESTE I",
          "NORDESTE II",
          "NOROESTE",
          "NOROESTE DO DRS III",
          "NOROESTE MATOGROSSENSE",
          "NORTE",
          "NORTE - BARRETOS",
          "NORTE ARAGUAIA KARAJA",
          "NORTE MATOGROSSENSE",
          "NOSSA SENHORA DA GLORIA",
          "NOSSA SENHORA DO SOCORRO",
          "OESTE",
          "OESTE I",
          "OESTE II",
          "OESTE MATOGROSSENSE",
          "OLIVEIRA SANTO ANTONIO DO AMPARO",
          "OURICURI",
          "OURINHOS",
          "OURO PRETO",
          "PADRE PARAISO",
          "PALMARES",
          "PANTANAL",
          "PARA DE MINAS NOVA SERRANA",
          "PASSOS",
          "PATOS DE MINAS",
          "PATROCINIO MONTE CARMELO",
          "PAULO AFONSO",
          "PECANHA SAO JOAO EVANGELISTA SANTA MARIA DO SUACUI",
          "PEDRA AZUL",
          "PEDREIRAS",
          "PETROLINA",
          "PINHEIRO",
          "PIRACICABA",
          "PIRAPORA",
          "PIRINEUS",
          "PIUMHI",
          "PLANALTO NORTE",
          "PLANICIE LITORANEA",
          "POCOS DE CALDAS",
          "POLO CUESTA",
          "PONTAL DO PARANAPANEMA",
          "PONTE NOVA",
          "PORTO SEGURO",
          "POUSO ALEGRE",
          "PRESIDENTE DUTRA",
          "PROPRIA",
          "RECIFE",
          "REGIAO 01",
          "REGIAO 02",
          "REGIAO 03",
          "REGIAO 04",
          "REGIAO 05",
          "REGIAO 06 - VALE DO PARANHANA E COSTA SERRA",
          "REGIAO 07",
          "REGIAO 08",
          "REGIAO 09",
          "REGIAO 10",
          "REGIAO 11",
          "REGIAO 12",
          "REGIAO 13",
          "REGIAO 14",
          "REGIAO 15 - CAMINHO DAS AGUAS",
          "REGIAO 16",
          "REGIAO 17 - PLANALTO",
          "REGIAO 18",
          "REGIAO 19",
          "REGIAO 20 - ROTA DA PRODUCAO",
          "REGIAO 21",
          "REGIAO 22",
          "REGIAO 23",
          "REGIAO 24",
          "REGIAO 25",
          "REGIAO 26",
          "REGIAO 27",
          "REGIAO 28",
          "REGIAO 29",
          "REGIAO 30",
          "REGIAO METROPOLITANA DE CAMPINAS",
          "REGIONAL JURUA",
          "REGIONAL PURUS",
          "RESPLENDOR",
          "RIBEIRA DO POMBAL",
          "RIO CAETES",
          "RIO CLARO",
          "RIO MADEIRA",
          "RIO NEGRO E SOLIMOES",
          "RIO PARDO",
          "RIO VERMELHO",
          "ROSARIO",
          "ROTA DOS BANDEIRANTES",
          "SALGUEIRO",
          "SALINAS",
          "SALVADOR",
          "SANTA FE DO SUL",
          "SANTA INES",
          "SANTA MARIA DA VITORIA",
          "SANTO ANTONIO DE JESUS",
          "SANTOS DUMONT",
          "SAO FRANCISCO",
          "SAO GOTARDO",
          "SAO JOAO DEL REI",
          "SAO JOAO DOS PATOS",
          "SAO JOAO NEPOMUCENO BICAS",
          "SAO JOSE DO RIO PRETO",
          "SAO LOURENCO",
          "SAO LUIS",
          "SAO PATRICIO I",
          "SAO PATRICIO II",
          "SAO PAULO",
          "SAO SEBASTIAO DO PARAISO",
          "SEABRA",
          "SENHOR DO BONFIM",
          "SERRA CATARINENSE",
          "SERRA DA CAPIVARA",
          "SERRA DA MESA",
          "SERRA TALHADA",
          "SERRANA",
          "SERRINHA",
          "SERRO",
          "SETE LAGOAS",
          "SOROCABA",
          "SUDESTE",
          "SUDOESTE I",
          "SUDOESTE II",
          "SUDOESTE MATOGROSSENSE",
          "SUL",
          "SUL - BARRETOS",
          "SUL FRONTEIRA",
          "SUL MATOGROSSENSE",
          "TABULEIROS DO ALTO PARNAIBA",
          "TAIOBEIRAS",
          "TAPAJOS",
          "TEIXEIRA DE FREITAS",
          "TELES PIRES",
          "TEOFILO OTONI MALACACHETA",
          "TIMON",
          "TOCANTINS",
          "TRES COLINAS",
          "TRES CORACOES",
          "TRES PONTAS",
          "TRIANGULO",
          "TUPA",
          "TURMALINA MINAS NOVAS CAPELINHA",
          "UBA",
          "UBERABA",
          "UBERLANDIA ARAGUARI",
          "UNAI PARACATU",
          "VALE DAS CACHOEIRAS",
          "VALE DO CANINDE",
          "VALE DO GUAPORE",
          "VALE DO ITAPOCU",
          "VALE DO JAMARI",
          "VALE DO JURUMIRIM",
          "VALE DO PARAIBA REGIAO SERRANA",
          "VALE DO PEIXOTO",
          "VALE DO RIBEIRA",
          "VALE DO RIO GUARIBAS",
          "VALE DO SAMBITO",
          "VALE DOS ARINOS",
          "VALE DOS RIOS PIAUI E ITAUEIRAS",
          "VALENCA",
          "VARGINHA",
          "VESPASIANO LAGOA SANTA",
          "VIANA",
          "VICOSA",
          "VITORIA DA CONQUISTA",
          "VOTUPORANGA",
          "XANXERE",
          "XINGU",
          "ZE DOCA",
          "ZONA DA MATA"
         ],
         "xaxis": "x",
         "y": {
          "bdata": "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",
          "dtype": "f8"
         },
         "yaxis": "y"
        }
       ],
       "layout": {
        "bargap": 0.2,
        "barmode": "relative",
        "height": 600,
        "legend": {
         "tracegroupgap": 0
        },
        "template": {
         "data": {
          "bar": [
           {
            "error_x": {
             "color": "#2a3f5f"
            },
            "error_y": {
             "color": "#2a3f5f"
            },
            "marker": {
             "line": {
              "color": "#E5ECF6",
              "width": 0.5
             },
             "pattern": {
              "fillmode": "overlay",
              "size": 10,
              "solidity": 0.2
             }
            },
            "type": "bar"
           }
          ],
          "barpolar": [
           {
            "marker": {
             "line": {
              "color": "#E5ECF6",
              "width": 0.5
             },
             "pattern": {
              "fillmode": "overlay",
              "size": 10,
              "solidity": 0.2
             }
            },
            "type": "barpolar"
           }
          ],
          "carpet": [
           {
            "aaxis": {
             "endlinecolor": "#2a3f5f",
             "gridcolor": "white",
             "linecolor": "white",
             "minorgridcolor": "white",
             "startlinecolor": "#2a3f5f"
            },
            "baxis": {
             "endlinecolor": "#2a3f5f",
             "gridcolor": "white",
             "linecolor": "white",
             "minorgridcolor": "white",
             "startlinecolor": "#2a3f5f"
            },
            "type": "carpet"
           }
          ],
          "choropleth": [
           {
            "colorbar": {
             "outlinewidth": 0,
             "ticks": ""
            },
            "type": "choropleth"
           }
          ],
          "contour": [
           {
            "colorbar": {
             "outlinewidth": 0,
             "ticks": ""
            },
            "colorscale": [
             [
              0,
              "#0d0887"
             ],
             [
              0.1111111111111111,
              "#46039f"
             ],
             [
              0.2222222222222222,
              "#7201a8"
             ],
             [
              0.3333333333333333,
              "#9c179e"
             ],
             [
              0.4444444444444444,
              "#bd3786"
             ],
             [
              0.5555555555555556,
              "#d8576b"
             ],
             [
              0.6666666666666666,
              "#ed7953"
             ],
             [
              0.7777777777777778,
              "#fb9f3a"
             ],
             [
              0.8888888888888888,
              "#fdca26"
             ],
             [
              1,
              "#f0f921"
             ]
            ],
            "type": "contour"
           }
          ],
          "contourcarpet": [
           {
            "colorbar": {
             "outlinewidth": 0,
             "ticks": ""
            },
            "type": "contourcarpet"
           }
          ],
          "heatmap": [
           {
            "colorbar": {
             "outlinewidth": 0,
             "ticks": ""
            },
            "colorscale": [
             [
              0,
              "#0d0887"
             ],
             [
              0.1111111111111111,
              "#46039f"
             ],
             [
              0.2222222222222222,
              "#7201a8"
             ],
             [
              0.3333333333333333,
              "#9c179e"
             ],
             [
              0.4444444444444444,
              "#bd3786"
             ],
             [
              0.5555555555555556,
              "#d8576b"
             ],
             [
              0.6666666666666666,
              "#ed7953"
             ],
             [
              0.7777777777777778,
              "#fb9f3a"
             ],
             [
              0.8888888888888888,
              "#fdca26"
             ],
             [
              1,
              "#f0f921"
             ]
            ],
            "type": "heatmap"
           }
          ],
          "histogram": [
           {
            "marker": {
             "pattern": {
              "fillmode": "overlay",
              "size": 10,
              "solidity": 0.2
             }
            },
            "type": "histogram"
           }
          ],
          "histogram2d": [
           {
            "colorbar": {
             "outlinewidth": 0,
             "ticks": ""
            },
            "colorscale": [
             [
              0,
              "#0d0887"
             ],
             [
              0.1111111111111111,
              "#46039f"
             ],
             [
              0.2222222222222222,
              "#7201a8"
             ],
             [
              0.3333333333333333,
              "#9c179e"
             ],
             [
              0.4444444444444444,
              "#bd3786"
             ],
             [
              0.5555555555555556,
              "#d8576b"
             ],
             [
              0.6666666666666666,
              "#ed7953"
             ],
             [
              0.7777777777777778,
              "#fb9f3a"
             ],
             [
              0.8888888888888888,
              "#fdca26"
             ],
             [
              1,
              "#f0f921"
             ]
            ],
            "type": "histogram2d"
           }
          ],
          "histogram2dcontour": [
           {
            "colorbar": {
             "outlinewidth": 0,
             "ticks": ""
            },
            "colorscale": [
             [
              0,
              "#0d0887"
             ],
             [
              0.1111111111111111,
              "#46039f"
             ],
             [
              0.2222222222222222,
              "#7201a8"
             ],
             [
              0.3333333333333333,
              "#9c179e"
             ],
             [
              0.4444444444444444,
              "#bd3786"
             ],
             [
              0.5555555555555556,
              "#d8576b"
             ],
             [
              0.6666666666666666,
              "#ed7953"
             ],
             [
              0.7777777777777778,
              "#fb9f3a"
             ],
             [
              0.8888888888888888,
              "#fdca26"
             ],
             [
              1,
              "#f0f921"
             ]
            ],
            "type": "histogram2dcontour"
           }
          ],
          "mesh3d": [
           {
            "colorbar": {
             "outlinewidth": 0,
             "ticks": ""
            },
            "type": "mesh3d"
           }
          ],
          "parcoords": [
           {
            "line": {
             "colorbar": {
              "outlinewidth": 0,
              "ticks": ""
             }
            },
            "type": "parcoords"
           }
          ],
          "pie": [
           {
            "automargin": true,
            "type": "pie"
           }
          ],
          "scatter": [
           {
            "fillpattern": {
             "fillmode": "overlay",
             "size": 10,
             "solidity": 0.2
            },
            "type": "scatter"
           }
          ],
          "scatter3d": [
           {
            "line": {
             "colorbar": {
              "outlinewidth": 0,
              "ticks": ""
             }
            },
            "marker": {
             "colorbar": {
              "outlinewidth": 0,
              "ticks": ""
             }
            },
            "type": "scatter3d"
           }
          ],
          "scattercarpet": [
           {
            "marker": {
             "colorbar": {
              "outlinewidth": 0,
              "ticks": ""
             }
            },
            "type": "scattercarpet"
           }
          ],
          "scattergeo": [
           {
            "marker": {
             "colorbar": {
              "outlinewidth": 0,
              "ticks": ""
             }
            },
            "type": "scattergeo"
           }
          ],
          "scattergl": [
           {
            "marker": {
             "colorbar": {
              "outlinewidth": 0,
              "ticks": ""
             }
            },
            "type": "scattergl"
           }
          ],
          "scattermap": [
           {
            "marker": {
             "colorbar": {
              "outlinewidth": 0,
              "ticks": ""
             }
            },
            "type": "scattermap"
           }
          ],
          "scattermapbox": [
           {
            "marker": {
             "colorbar": {
              "outlinewidth": 0,
              "ticks": ""
             }
            },
            "type": "scattermapbox"
           }
          ],
          "scatterpolar": [
           {
            "marker": {
             "colorbar": {
              "outlinewidth": 0,
              "ticks": ""
             }
            },
            "type": "scatterpolar"
           }
          ],
          "scatterpolargl": [
           {
            "marker": {
             "colorbar": {
              "outlinewidth": 0,
              "ticks": ""
             }
            },
            "type": "scatterpolargl"
           }
          ],
          "scatterternary": [
           {
            "marker": {
             "colorbar": {
              "outlinewidth": 0,
              "ticks": ""
             }
            },
            "type": "scatterternary"
           }
          ],
          "surface": [
           {
            "colorbar": {
             "outlinewidth": 0,
             "ticks": ""
            },
            "colorscale": [
             [
              0,
              "#0d0887"
             ],
             [
              0.1111111111111111,
              "#46039f"
             ],
             [
              0.2222222222222222,
              "#7201a8"
             ],
             [
              0.3333333333333333,
              "#9c179e"
             ],
             [
              0.4444444444444444,
              "#bd3786"
             ],
             [
              0.5555555555555556,
              "#d8576b"
             ],
             [
              0.6666666666666666,
              "#ed7953"
             ],
             [
              0.7777777777777778,
              "#fb9f3a"
             ],
             [
              0.8888888888888888,
              "#fdca26"
             ],
             [
              1,
              "#f0f921"
             ]
            ],
            "type": "surface"
           }
          ],
          "table": [
           {
            "cells": {
             "fill": {
              "color": "#EBF0F8"
             },
             "line": {
              "color": "white"
             }
            },
            "header": {
             "fill": {
              "color": "#C8D4E3"
             },
             "line": {
              "color": "white"
             }
            },
            "type": "table"
           }
          ]
         },
         "layout": {
          "annotationdefaults": {
           "arrowcolor": "#2a3f5f",
           "arrowhead": 0,
           "arrowwidth": 1
          },
          "autotypenumbers": "strict",
          "coloraxis": {
           "colorbar": {
            "outlinewidth": 0,
            "ticks": ""
           }
          },
          "colorscale": {
           "diverging": [
            [
             0,
             "#8e0152"
            ],
            [
             0.1,
             "#c51b7d"
            ],
            [
             0.2,
             "#de77ae"
            ],
            [
             0.3,
             "#f1b6da"
            ],
            [
             0.4,
             "#fde0ef"
            ],
            [
             0.5,
             "#f7f7f7"
            ],
            [
             0.6,
             "#e6f5d0"
            ],
            [
             0.7,
             "#b8e186"
            ],
            [
             0.8,
             "#7fbc41"
            ],
            [
             0.9,
             "#4d9221"
            ],
            [
             1,
             "#276419"
            ]
           ],
           "sequential": [
            [
             0,
             "#0d0887"
            ],
            [
             0.1111111111111111,
             "#46039f"
            ],
            [
             0.2222222222222222,
             "#7201a8"
            ],
            [
             0.3333333333333333,
             "#9c179e"
            ],
            [
             0.4444444444444444,
             "#bd3786"
            ],
            [
             0.5555555555555556,
             "#d8576b"
            ],
            [
             0.6666666666666666,
             "#ed7953"
            ],
            [
             0.7777777777777778,
             "#fb9f3a"
            ],
            [
             0.8888888888888888,
             "#fdca26"
            ],
            [
             1,
             "#f0f921"
            ]
           ],
           "sequentialminus": [
            [
             0,
             "#0d0887"
            ],
            [
             0.1111111111111111,
             "#46039f"
            ],
            [
             0.2222222222222222,
             "#7201a8"
            ],
            [
             0.3333333333333333,
             "#9c179e"
            ],
            [
             0.4444444444444444,
             "#bd3786"
            ],
            [
             0.5555555555555556,
             "#d8576b"
            ],
            [
             0.6666666666666666,
             "#ed7953"
            ],
            [
             0.7777777777777778,
             "#fb9f3a"
            ],
            [
             0.8888888888888888,
             "#fdca26"
            ],
            [
             1,
             "#f0f921"
            ]
           ]
          },
          "colorway": [
           "#636efa",
           "#EF553B",
           "#00cc96",
           "#ab63fa",
           "#FFA15A",
           "#19d3f3",
           "#FF6692",
           "#B6E880",
           "#FF97FF",
           "#FECB52"
          ],
          "font": {
           "color": "#2a3f5f"
          },
          "geo": {
           "bgcolor": "white",
           "lakecolor": "white",
           "landcolor": "#E5ECF6",
           "showlakes": true,
           "showland": true,
           "subunitcolor": "white"
          },
          "hoverlabel": {
           "align": "left"
          },
          "hovermode": "closest",
          "mapbox": {
           "style": "light"
          },
          "paper_bgcolor": "white",
          "plot_bgcolor": "#E5ECF6",
          "polar": {
           "angularaxis": {
            "gridcolor": "white",
            "linecolor": "white",
            "ticks": ""
           },
           "bgcolor": "#E5ECF6",
           "radialaxis": {
            "gridcolor": "white",
            "linecolor": "white",
            "ticks": ""
           }
          },
          "scene": {
           "xaxis": {
            "backgroundcolor": "#E5ECF6",
            "gridcolor": "white",
            "gridwidth": 2,
            "linecolor": "white",
            "showbackground": true,
            "ticks": "",
            "zerolinecolor": "white"
           },
           "yaxis": {
            "backgroundcolor": "#E5ECF6",
            "gridcolor": "white",
            "gridwidth": 2,
            "linecolor": "white",
            "showbackground": true,
            "ticks": "",
            "zerolinecolor": "white"
           },
           "zaxis": {
            "backgroundcolor": "#E5ECF6",
            "gridcolor": "white",
            "gridwidth": 2,
            "linecolor": "white",
            "showbackground": true,
            "ticks": "",
            "zerolinecolor": "white"
           }
          },
          "shapedefaults": {
           "line": {
            "color": "#2a3f5f"
           }
          },
          "ternary": {
           "aaxis": {
            "gridcolor": "white",
            "linecolor": "white",
            "ticks": ""
           },
           "baxis": {
            "gridcolor": "white",
            "linecolor": "white",
            "ticks": ""
           },
           "bgcolor": "#E5ECF6",
           "caxis": {
            "gridcolor": "white",
            "linecolor": "white",
            "ticks": ""
           }
          },
          "title": {
           "x": 0.05
          },
          "xaxis": {
           "automargin": true,
           "gridcolor": "white",
           "linecolor": "white",
           "ticks": "",
           "title": {
            "standoff": 15
           },
           "zerolinecolor": "white",
           "zerolinewidth": 2
          },
          "yaxis": {
           "automargin": true,
           "gridcolor": "white",
           "linecolor": "white",
           "ticks": "",
           "title": {
            "standoff": 15
           },
           "zerolinecolor": "white",
           "zerolinewidth": 2
          }
         }
        },
        "title": {
         "text": "Número de Leitos por Região de Saúde"
        },
        "width": 1200,
        "xaxis": {
         "anchor": "y",
         "domain": [
          0,
          1
         ],
         "tickangle": -45,
         "tickfont": {
          "size": 8
         },
         "title": {
          "text": "Região de Saúde"
         }
        },
        "yaxis": {
         "anchor": "x",
         "domain": [
          0,
          1
         ],
         "tickformat": ".",
         "title": {
          "text": "Número de Leitos"
         }
        }
       }
      }
     },
     "metadata": {},
     "output_type": "display_data"
    }
   ],
   "source": [
    "import plotly.express as px\n",
    "\n",
    "fig = px.bar(df_regiao_leitos, \n",
    "             x='Regiao de Saude', \n",
    "             y='NU_LEITOS', \n",
    "             title='Número de Leitos por Região de Saúde',\n",
    "             labels={'Regiao de Saude': 'Região de Saúde', 'NU_LEITOS': 'Número de Leitos'},\n",
    "             color_discrete_sequence=['royalblue'])\n",
    "\n",
    "fig.update_layout(\n",
    "    xaxis_tickangle=-45,  \n",
    "    xaxis=dict(tickfont=dict(size=8)), \n",
    "    yaxis=dict(title_font=dict(size=12), tickformat='.'), \n",
    "    xaxis_title='Região de Saúde',\n",
    "    yaxis_title='Número de Leitos',\n",
    "    height=600, \n",
    "    width=1200,\n",
    "    bargap=0.2,\n",
    ")\n",
    "\n",
    "fig.show()\n"
   ]
  },
  {
   "cell_type": "code",
   "execution_count": 40,
   "metadata": {},
   "outputs": [],
   "source": [
    "df_macro_leitos_tipo = df_new_filtered.groupby(['Macrorregiao de Saude', 'CO_INSTALACAO'])['NU_LEITOS'].sum().reset_index()\n"
   ]
  },
  {
   "cell_type": "code",
   "execution_count": 41,
   "metadata": {},
   "outputs": [
    {
     "data": {
      "text/html": [
       "<div>\n",
       "<style scoped>\n",
       "    .dataframe tbody tr th:only-of-type {\n",
       "        vertical-align: middle;\n",
       "    }\n",
       "\n",
       "    .dataframe tbody tr th {\n",
       "        vertical-align: top;\n",
       "    }\n",
       "\n",
       "    .dataframe thead th {\n",
       "        text-align: right;\n",
       "    }\n",
       "</style>\n",
       "<table border=\"1\" class=\"dataframe\">\n",
       "  <thead>\n",
       "    <tr style=\"text-align: right;\">\n",
       "      <th></th>\n",
       "      <th>Macrorregiao de Saude</th>\n",
       "      <th>CO_INSTALACAO</th>\n",
       "      <th>NU_LEITOS</th>\n",
       "      <th>DS_INSTALACAO</th>\n",
       "    </tr>\n",
       "  </thead>\n",
       "  <tbody>\n",
       "    <tr>\n",
       "      <th>0</th>\n",
       "      <td>1a MACRORREGIAO DE SAUDE</td>\n",
       "      <td>1</td>\n",
       "      <td>20.0</td>\n",
       "      <td>SALA DE ATENDIMENTO PEDIATRICO</td>\n",
       "    </tr>\n",
       "    <tr>\n",
       "      <th>1</th>\n",
       "      <td>1a MACRORREGIAO DE SAUDE</td>\n",
       "      <td>2</td>\n",
       "      <td>6.0</td>\n",
       "      <td>SALA DE ATENDIMENTO FEMININO</td>\n",
       "    </tr>\n",
       "    <tr>\n",
       "      <th>2</th>\n",
       "      <td>1a MACRORREGIAO DE SAUDE</td>\n",
       "      <td>3</td>\n",
       "      <td>6.0</td>\n",
       "      <td>SALA DE ATENDIMENTO MASCULINO</td>\n",
       "    </tr>\n",
       "    <tr>\n",
       "      <th>3</th>\n",
       "      <td>1a MACRORREGIAO DE SAUDE</td>\n",
       "      <td>4</td>\n",
       "      <td>16.0</td>\n",
       "      <td>SALA DE ATENDIMENTO INDIFERENCIADO</td>\n",
       "    </tr>\n",
       "    <tr>\n",
       "      <th>4</th>\n",
       "      <td>1a MACRORREGIAO DE SAUDE</td>\n",
       "      <td>5</td>\n",
       "      <td>39.0</td>\n",
       "      <td>SALA REPOUSO/OBSERVACAO - PEDIATRICA</td>\n",
       "    </tr>\n",
       "  </tbody>\n",
       "</table>\n",
       "</div>"
      ],
      "text/plain": [
       "      Macrorregiao de Saude  CO_INSTALACAO  NU_LEITOS  \\\n",
       "0  1a MACRORREGIAO DE SAUDE              1       20.0   \n",
       "1  1a MACRORREGIAO DE SAUDE              2        6.0   \n",
       "2  1a MACRORREGIAO DE SAUDE              3        6.0   \n",
       "3  1a MACRORREGIAO DE SAUDE              4       16.0   \n",
       "4  1a MACRORREGIAO DE SAUDE              5       39.0   \n",
       "\n",
       "                          DS_INSTALACAO  \n",
       "0        SALA DE ATENDIMENTO PEDIATRICO  \n",
       "1          SALA DE ATENDIMENTO FEMININO  \n",
       "2         SALA DE ATENDIMENTO MASCULINO  \n",
       "3    SALA DE ATENDIMENTO INDIFERENCIADO  \n",
       "4  SALA REPOUSO/OBSERVACAO - PEDIATRICA  "
      ]
     },
     "execution_count": 41,
     "metadata": {},
     "output_type": "execute_result"
    }
   ],
   "source": [
    "df_macro_leitos_tipo = df_macro_leitos_tipo.merge(df_inst[['CO_INSTALACAO', 'DS_INSTALACAO']], on='CO_INSTALACAO', how='left')\n",
    "\n",
    "df_macro_leitos_tipo.head()"
   ]
  },
  {
   "cell_type": "code",
   "execution_count": 44,
   "metadata": {},
   "outputs": [],
   "source": [
    "df_regiao_leitos_tipo = df_new_filtered.groupby(['Regiao de Saude', 'CO_INSTALACAO'])['NU_LEITOS'].sum().reset_index()"
   ]
  },
  {
   "cell_type": "code",
   "execution_count": 45,
   "metadata": {},
   "outputs": [
    {
     "data": {
      "text/html": [
       "<div>\n",
       "<style scoped>\n",
       "    .dataframe tbody tr th:only-of-type {\n",
       "        vertical-align: middle;\n",
       "    }\n",
       "\n",
       "    .dataframe tbody tr th {\n",
       "        vertical-align: top;\n",
       "    }\n",
       "\n",
       "    .dataframe thead th {\n",
       "        text-align: right;\n",
       "    }\n",
       "</style>\n",
       "<table border=\"1\" class=\"dataframe\">\n",
       "  <thead>\n",
       "    <tr style=\"text-align: right;\">\n",
       "      <th></th>\n",
       "      <th>Regiao de Saude</th>\n",
       "      <th>CO_INSTALACAO</th>\n",
       "      <th>NU_LEITOS</th>\n",
       "      <th>DS_INSTALACAO</th>\n",
       "    </tr>\n",
       "  </thead>\n",
       "  <tbody>\n",
       "    <tr>\n",
       "      <th>0</th>\n",
       "      <td>10a REGIAO</td>\n",
       "      <td>4</td>\n",
       "      <td>1.0</td>\n",
       "      <td>SALA DE ATENDIMENTO INDIFERENCIADO</td>\n",
       "    </tr>\n",
       "    <tr>\n",
       "      <th>1</th>\n",
       "      <td>10a REGIAO</td>\n",
       "      <td>8</td>\n",
       "      <td>1.0</td>\n",
       "      <td>SALA REPOUSO/OBSERVACAO - INDIFERENCIADO</td>\n",
       "    </tr>\n",
       "    <tr>\n",
       "      <th>2</th>\n",
       "      <td>10a REGIAO</td>\n",
       "      <td>9</td>\n",
       "      <td>0.0</td>\n",
       "      <td>ODONTOLOGIA</td>\n",
       "    </tr>\n",
       "    <tr>\n",
       "      <th>3</th>\n",
       "      <td>10a REGIAO</td>\n",
       "      <td>10</td>\n",
       "      <td>0.0</td>\n",
       "      <td>SALA DE HIGIENIZACAO</td>\n",
       "    </tr>\n",
       "    <tr>\n",
       "      <th>4</th>\n",
       "      <td>10a REGIAO</td>\n",
       "      <td>12</td>\n",
       "      <td>0.0</td>\n",
       "      <td>SALA DE CURATIVO</td>\n",
       "    </tr>\n",
       "  </tbody>\n",
       "</table>\n",
       "</div>"
      ],
      "text/plain": [
       "  Regiao de Saude  CO_INSTALACAO  NU_LEITOS  \\\n",
       "0      10a REGIAO              4        1.0   \n",
       "1      10a REGIAO              8        1.0   \n",
       "2      10a REGIAO              9        0.0   \n",
       "3      10a REGIAO             10        0.0   \n",
       "4      10a REGIAO             12        0.0   \n",
       "\n",
       "                              DS_INSTALACAO  \n",
       "0        SALA DE ATENDIMENTO INDIFERENCIADO  \n",
       "1  SALA REPOUSO/OBSERVACAO - INDIFERENCIADO  \n",
       "2                               ODONTOLOGIA  \n",
       "3                      SALA DE HIGIENIZACAO  \n",
       "4                          SALA DE CURATIVO  "
      ]
     },
     "execution_count": 45,
     "metadata": {},
     "output_type": "execute_result"
    }
   ],
   "source": [
    "df_regiao_leitos_tipo = df_regiao_leitos_tipo.merge(df_inst[['CO_INSTALACAO', 'DS_INSTALACAO']], on='CO_INSTALACAO', how='left')\n",
    "\n",
    "df_regiao_leitos_tipo.head()"
   ]
  },
  {
   "cell_type": "markdown",
   "metadata": {},
   "source": [
    "### Mapas interativos"
   ]
  },
  {
   "cell_type": "code",
   "execution_count": 17,
   "metadata": {},
   "outputs": [
    {
     "name": "stdout",
     "output_type": "stream",
     "text": [
      "Index(['CD_MUN', 'NM_MUN', 'CD_RGI', 'NM_RGI', 'CD_RGINT', 'NM_RGINT', 'CD_UF',\n",
      "       'NM_UF', 'CD_REGIAO', 'NM_REGIAO', 'CD_CONCURB', 'NM_CONCURB',\n",
      "       'AREA_KM2', 'geometry'],\n",
      "      dtype='object')\n"
     ]
    }
   ],
   "source": [
    "import geopandas as gpd\n",
    "\n",
    "# Carregar o shapefile\n",
    "shapefile_path = r\"C:\\Users\\Carlos\\PainelSaude\\base\\BR_Municipios_2023.shp\"\n",
    "gdf = gpd.read_file(shapefile_path)\n",
    "\n",
    "\n",
    "# Ver quais colunas estão disponíveis\n",
    "print(gdf.columns)\n"
   ]
  },
  {
   "cell_type": "code",
   "execution_count": 18,
   "metadata": {},
   "outputs": [
    {
     "name": "stdout",
     "output_type": "stream",
     "text": [
      "    CD_MUN                 NM_MUN  CD_RGI     NM_RGI CD_RGINT     NM_RGINT  \\\n",
      "0  1100015  Alta Floresta D'Oeste  110005     Cacoal     1102    Ji-Paraná   \n",
      "1  1100023              Ariquemes  110002  Ariquemes     1101  Porto Velho   \n",
      "2  1100031                 Cabixi  110006    Vilhena     1102    Ji-Paraná   \n",
      "3  1100049                 Cacoal  110005     Cacoal     1102    Ji-Paraná   \n",
      "4  1100056             Cerejeiras  110006    Vilhena     1102    Ji-Paraná   \n",
      "\n",
      "  CD_UF     NM_UF CD_REGIAO NM_REGIAO CD_CONCURB NM_CONCURB  AREA_KM2  \\\n",
      "0    11  Rondônia         1     Norte       None       None  7067.127   \n",
      "1    11  Rondônia         1     Norte       None       None  4426.143   \n",
      "2    11  Rondônia         1     Norte       None       None  1314.352   \n",
      "3    11  Rondônia         1     Norte       None       None  3793.000   \n",
      "4    11  Rondônia         1     Norte       None       None  2783.297   \n",
      "\n",
      "                                            geometry  \n",
      "0  POLYGON ((-61.93075 -11.97349, -61.93234 -11.9...  \n",
      "1  POLYGON ((-63.17933 -10.13924, -63.17746 -10.1...  \n",
      "2  POLYGON ((-60.56035 -13.32206, -60.52518 -13.3...  \n",
      "3  POLYGON ((-61.00075 -11.25298, -61.0008 -11.29...  \n",
      "4  POLYGON ((-60.82068 -13.11944, -60.81773 -13.1...  \n"
     ]
    }
   ],
   "source": [
    "print(gdf.head())"
   ]
  },
  {
   "cell_type": "code",
   "execution_count": 19,
   "metadata": {},
   "outputs": [],
   "source": [
    "# # Ensure both columns have the same data type\n",
    "# gdf['NM_MUN'] = gdf['NM_MUN'].astype(str)\n",
    "# df_new_filtered['Municipio'] = df_new_filtered['Municipio'].astype(str)\n",
    "\n",
    "# # Proceed with the merge\n",
    "# brasil = gdf.copy()\n",
    "# brasil = brasil.merge(df_new_filtered, left_on=\"NM_MUN\", right_on=\"Municipio\", how=\"left\")"
   ]
  },
  {
   "cell_type": "code",
   "execution_count": 20,
   "metadata": {},
   "outputs": [],
   "source": [
    "# brasil.head()"
   ]
  },
  {
   "cell_type": "code",
   "execution_count": 21,
   "metadata": {},
   "outputs": [],
   "source": [
    "# brasil['NM_MUN'].value_counts()"
   ]
  },
  {
   "cell_type": "code",
   "execution_count": null,
   "metadata": {},
   "outputs": [
    {
     "ename": "",
     "evalue": "",
     "output_type": "error",
     "traceback": [
      "\u001b[1;31mThe Kernel crashed while executing code in the current cell or a previous cell. \n",
      "\u001b[1;31mPlease review the code in the cell(s) to identify a possible cause of the failure. \n",
      "\u001b[1;31mClick <a href='https://aka.ms/vscodeJupyterKernelCrash'>here</a> for more info. \n",
      "\u001b[1;31mView Jupyter <a href='command:jupyter.viewOutput'>log</a> for further details."
     ]
    }
   ],
   "source": [
    "# brasil.columns"
   ]
  },
  {
   "cell_type": "code",
   "execution_count": null,
   "metadata": {},
   "outputs": [
    {
     "name": "stderr",
     "output_type": "stream",
     "text": [
      "C:\\Users\\Carlos\\AppData\\Local\\Temp\\ipykernel_58548\\2877983569.py:9: SettingWithCopyWarning: \n",
      "A value is trying to be set on a copy of a slice from a DataFrame.\n",
      "Try using .loc[row_indexer,col_indexer] = value instead\n",
      "\n",
      "See the caveats in the documentation: https://pandas.pydata.org/pandas-docs/stable/user_guide/indexing.html#returning-a-view-versus-a-copy\n",
      "  df_new_filtered['Municipio'] = df_new_filtered['Municipio'].astype(str)\n"
     ]
    }
   ],
   "source": [
    "import plotly.express as px\n",
    "import geopandas as gpd\n",
    "\n",
    "# 1. Carregar shapefile (Deve conter os municípios do Brasil)\n",
    "gdf = gpd.read_file(r\"C:\\Users\\Carlos\\PainelSaude\\base\\BR_Municipios_2023.shp\")\n",
    "\n",
    "# 2. Garantir que os identificadores estão no formato correto\n",
    "gdf['NM_MUN'] = gdf['NM_MUN'].astype(str)\n",
    "df_new_filtered['Municipio'] = df_new_filtered['Municipio'].astype(str)\n",
    "\n",
    "# 3. Mesclar os dados dos municípios com os leitos\n",
    "brasil = gdf.merge(df_new_filtered, left_on=\"NM_MUN\", right_on=\"Municipio\", how=\"left\").fillna(0)\n",
    "\n",
    "# 4. Agrupar os dados por Macrorregião de Saúde, somando os leitos\n",
    "df_macro = brasil.dissolve(by=\"Macrorregiao de Saude\", aggfunc={\"NU_LEITOS\": \"sum\"}).reset_index()\n",
    "\n",
    "# 5. Criar o gráfico interativo com Plotly\n",
    "fig = px.choropleth(df_macro,\n",
    "                    geojson=df_macro.geometry.__geo_interface__,  # Usa a geometria das macrorregiões\n",
    "                    locations=df_macro.index,\n",
    "                    color=\"NU_LEITOS\",\n",
    "                    hover_name=\"Macrorregiao de Saude\",  # Nome da Macrorregião ao passar o mouse\n",
    "                    hover_data=[\"NU_LEITOS\"],  # Exibir número de leitos no hover\n",
    "                    color_continuous_scale=\"Reds\",\n",
    "                    labels={'NU_LEITOS': 'Número de Leitos'}\n",
    "                    )\n",
    "\n",
    "# 6. Ajustar layout do gráfico\n",
    "fig.update_geos(fitbounds=\"locations\", visible=False)\n",
    "fig.update_layout(title=\"Distribuição de Leitos por Macrorregião de Saúde no Brasil\", title_x=0.5)\n",
    "\n",
    "# 7. Salvar o gráfico como HTML para abrir no navegador\n",
    "fig.write_html(r\"C:\\Users\\Carlos\\PainelSaude\\mapa_interativo_macrorregiao.html\")\n"
   ]
  },
  {
   "cell_type": "code",
   "execution_count": 29,
   "metadata": {},
   "outputs": [
    {
     "data": {
      "text/html": [
       "<div>\n",
       "<style scoped>\n",
       "    .dataframe tbody tr th:only-of-type {\n",
       "        vertical-align: middle;\n",
       "    }\n",
       "\n",
       "    .dataframe tbody tr th {\n",
       "        vertical-align: top;\n",
       "    }\n",
       "\n",
       "    .dataframe thead th {\n",
       "        text-align: right;\n",
       "    }\n",
       "</style>\n",
       "<table border=\"1\" class=\"dataframe\">\n",
       "  <thead>\n",
       "    <tr style=\"text-align: right;\">\n",
       "      <th></th>\n",
       "      <th>CO_INSTALACAO;\"CO_SUBTIPO_INSTALACAO\";\"DS_INSTALACAO\";\"TP_INSTALACAO\"</th>\n",
       "    </tr>\n",
       "  </thead>\n",
       "  <tbody>\n",
       "    <tr>\n",
       "      <th>0</th>\n",
       "      <td>41;\"99\";\"SALA DE ATENDIMENTO A PACIENTE CRITIC...</td>\n",
       "    </tr>\n",
       "    <tr>\n",
       "      <th>1</th>\n",
       "      <td>42;\"99\";\"SALA DE ACOLHIMENTO COM CLASSIFICACAO...</td>\n",
       "    </tr>\n",
       "    <tr>\n",
       "      <th>2</th>\n",
       "      <td>44;\"04\";\"SALA DE RECEPCAO E INSPECAO\";\"3\"</td>\n",
       "    </tr>\n",
       "    <tr>\n",
       "      <th>3</th>\n",
       "      <td>45;\"04\";\"SALA DE DISTRIBUICAO\";\"3\"</td>\n",
       "    </tr>\n",
       "    <tr>\n",
       "      <th>4</th>\n",
       "      <td>46;\"04\";\"SALA PARA ARMAZENAGEM E CONTROLE\";\"3\"</td>\n",
       "    </tr>\n",
       "    <tr>\n",
       "      <th>5</th>\n",
       "      <td>47;\"04\";\"ALMOXARIFADO\";\"3\"</td>\n",
       "    </tr>\n",
       "    <tr>\n",
       "      <th>6</th>\n",
       "      <td>48;\"05\";\"SALA PARA EQUIP DE GERACAO DE ENERGIA...</td>\n",
       "    </tr>\n",
       "    <tr>\n",
       "      <th>7</th>\n",
       "      <td>49;\"05\";\"CASA DE BOMBAS / MAQUINAS\";\"3\"</td>\n",
       "    </tr>\n",
       "    <tr>\n",
       "      <th>8</th>\n",
       "      <td>01;\"99\";\"SALA DE ATENDIMENTO PEDIATRICO\";\"0\"</td>\n",
       "    </tr>\n",
       "    <tr>\n",
       "      <th>9</th>\n",
       "      <td>02;\"99\";\"SALA DE ATENDIMENTO FEMININO\";\"0\"</td>\n",
       "    </tr>\n",
       "    <tr>\n",
       "      <th>10</th>\n",
       "      <td>03;\"99\";\"SALA DE ATENDIMENTO MASCULINO\";\"0\"</td>\n",
       "    </tr>\n",
       "    <tr>\n",
       "      <th>11</th>\n",
       "      <td>04;\"99\";\"SALA DE ATENDIMENTO INDIFERENCIADO\";\"0\"</td>\n",
       "    </tr>\n",
       "    <tr>\n",
       "      <th>12</th>\n",
       "      <td>05;\"99\";\"SALA REPOUSO/OBSERVACAO - PEDIATRICA\"...</td>\n",
       "    </tr>\n",
       "    <tr>\n",
       "      <th>13</th>\n",
       "      <td>06;\"99\";\"SALA REPOUSO/OBSERVACAO - FEMININO\";\"0\"</td>\n",
       "    </tr>\n",
       "    <tr>\n",
       "      <th>14</th>\n",
       "      <td>07;\"99\";\"SALA REPOUSO/OBSERVACAO - MASCULINO\";\"0\"</td>\n",
       "    </tr>\n",
       "    <tr>\n",
       "      <th>15</th>\n",
       "      <td>08;\"99\";\"SALA REPOUSO/OBSERVACAO - INDIFERENCI...</td>\n",
       "    </tr>\n",
       "    <tr>\n",
       "      <th>16</th>\n",
       "      <td>09;\"99\";\"ODONTOLOGIA\";\"0\"</td>\n",
       "    </tr>\n",
       "    <tr>\n",
       "      <th>17</th>\n",
       "      <td>10;\"99\";\"SALA DE HIGIENIZACAO\";\"0\"</td>\n",
       "    </tr>\n",
       "    <tr>\n",
       "      <th>18</th>\n",
       "      <td>11;\"99\";\"SALA DE GESSO\";\"0\"</td>\n",
       "    </tr>\n",
       "    <tr>\n",
       "      <th>19</th>\n",
       "      <td>12;\"99\";\"SALA DE CURATIVO\";\"0\"</td>\n",
       "    </tr>\n",
       "    <tr>\n",
       "      <th>20</th>\n",
       "      <td>13;\"99\";\"SALA PEQUENA CIRURGIA\";\"0\"</td>\n",
       "    </tr>\n",
       "    <tr>\n",
       "      <th>21</th>\n",
       "      <td>14;\"99\";\"CONSULTORIOS MEDICOS\";\"0\"</td>\n",
       "    </tr>\n",
       "    <tr>\n",
       "      <th>22</th>\n",
       "      <td>15;\"99\";\"CLINICAS BASICAS\";\"1\"</td>\n",
       "    </tr>\n",
       "    <tr>\n",
       "      <th>23</th>\n",
       "      <td>16;\"99\";\"CLINICAS ESPECIALIZADAS\";\"1\"</td>\n",
       "    </tr>\n",
       "    <tr>\n",
       "      <th>24</th>\n",
       "      <td>17;\"99\";\"CLINICAS INDIFERENCIADO\";\"1\"</td>\n",
       "    </tr>\n",
       "    <tr>\n",
       "      <th>25</th>\n",
       "      <td>18;\"99\";\"OUTROS CONSULTORIOS NAO MEDICOS\";\"1\"</td>\n",
       "    </tr>\n",
       "    <tr>\n",
       "      <th>26</th>\n",
       "      <td>19;\"99\";\"SALA REPOUSO/OBSERVACAO - FEMININO\";\"1\"</td>\n",
       "    </tr>\n",
       "    <tr>\n",
       "      <th>27</th>\n",
       "      <td>20;\"99\";\"SALA REPOUSO/OBSERVACAO - MASCULINO\";\"1\"</td>\n",
       "    </tr>\n",
       "    <tr>\n",
       "      <th>28</th>\n",
       "      <td>21;\"99\";\"SALA REPOUSO/OBSERVACAO - PEDIATRICA\"...</td>\n",
       "    </tr>\n",
       "    <tr>\n",
       "      <th>29</th>\n",
       "      <td>22;\"99\";\"SALA DE REPOUSO/OBSERVACAO - INDIFERE...</td>\n",
       "    </tr>\n",
       "    <tr>\n",
       "      <th>30</th>\n",
       "      <td>23;\"99\";\"ODONTOLOGIA\";\"1\"</td>\n",
       "    </tr>\n",
       "    <tr>\n",
       "      <th>31</th>\n",
       "      <td>24;\"99\";\"SALA DE PEQUENA CIRURGIA\";\"1\"</td>\n",
       "    </tr>\n",
       "    <tr>\n",
       "      <th>32</th>\n",
       "      <td>25;\"99\";\"SALA DE ENFERMAGEM (SERVICOS)\";\"1\"</td>\n",
       "    </tr>\n",
       "    <tr>\n",
       "      <th>33</th>\n",
       "      <td>26;\"99\";\"SALA DE IMUNIZACAO\";\"1\"</td>\n",
       "    </tr>\n",
       "    <tr>\n",
       "      <th>34</th>\n",
       "      <td>27;\"99\";\"SALA DE NEBULIZACAO\";\"1\"</td>\n",
       "    </tr>\n",
       "    <tr>\n",
       "      <th>35</th>\n",
       "      <td>28;\"99\";\"SALA DE GESSO\";\"1\"</td>\n",
       "    </tr>\n",
       "    <tr>\n",
       "      <th>36</th>\n",
       "      <td>29;\"99\";\"SALA DE CURATIVO\";\"1\"</td>\n",
       "    </tr>\n",
       "    <tr>\n",
       "      <th>37</th>\n",
       "      <td>30;\"99\";\"SALA DE CIRURGIA AMBULATORIAL\";\"1\"</td>\n",
       "    </tr>\n",
       "    <tr>\n",
       "      <th>38</th>\n",
       "      <td>31;\"01\";\"SALA DE CIRURGIA\";\"2\"</td>\n",
       "    </tr>\n",
       "    <tr>\n",
       "      <th>39</th>\n",
       "      <td>32;\"01\";\"SALA DE RECUPERACAO\";\"2\"</td>\n",
       "    </tr>\n",
       "    <tr>\n",
       "      <th>40</th>\n",
       "      <td>33;\"01\";\"SALA DE CIRURGIA AMBULATORIAL\";\"2\"</td>\n",
       "    </tr>\n",
       "    <tr>\n",
       "      <th>41</th>\n",
       "      <td>34;\"02\";\"SALA DE PRE-PARTO\";\"2\"</td>\n",
       "    </tr>\n",
       "    <tr>\n",
       "      <th>42</th>\n",
       "      <td>35;\"02\";\"SALA DE PARTO NORMAL\";\"2\"</td>\n",
       "    </tr>\n",
       "    <tr>\n",
       "      <th>43</th>\n",
       "      <td>36;\"02\";\"SALA DE CURETAGEM\";\"2\"</td>\n",
       "    </tr>\n",
       "    <tr>\n",
       "      <th>44</th>\n",
       "      <td>37;\"02\";\"SALA DE CIRURGIA\";\"2\"</td>\n",
       "    </tr>\n",
       "    <tr>\n",
       "      <th>45</th>\n",
       "      <td>38;\"03\";\"LEITOS RN NORMAL\";\"2\"</td>\n",
       "    </tr>\n",
       "    <tr>\n",
       "      <th>46</th>\n",
       "      <td>39;\"03\";\"LEITOS RN PATOLOGICO\";\"2\"</td>\n",
       "    </tr>\n",
       "    <tr>\n",
       "      <th>47</th>\n",
       "      <td>40;\"03\";\"LEITOS DE ALOJAMENTO CONJUNTO\";\"2\"</td>\n",
       "    </tr>\n",
       "    <tr>\n",
       "      <th>48</th>\n",
       "      <td>43;\"00\";\"BRINQUEDOTECA\";\"2\"</td>\n",
       "    </tr>\n",
       "    <tr>\n",
       "      <th>49</th>\n",
       "      <td>50;\"99\";\"SALA DE TELESSAUDE\";\"1\"</td>\n",
       "    </tr>\n",
       "    <tr>\n",
       "      <th>50</th>\n",
       "      <td>51;\"99\";\"SALA DE APOIO AO TELEDIAGNOSTICO\";\"1\"</td>\n",
       "    </tr>\n",
       "  </tbody>\n",
       "</table>\n",
       "</div>"
      ],
      "text/plain": [
       "   CO_INSTALACAO;\"CO_SUBTIPO_INSTALACAO\";\"DS_INSTALACAO\";\"TP_INSTALACAO\"\n",
       "0   41;\"99\";\"SALA DE ATENDIMENTO A PACIENTE CRITIC...                   \n",
       "1   42;\"99\";\"SALA DE ACOLHIMENTO COM CLASSIFICACAO...                   \n",
       "2           44;\"04\";\"SALA DE RECEPCAO E INSPECAO\";\"3\"                   \n",
       "3                  45;\"04\";\"SALA DE DISTRIBUICAO\";\"3\"                   \n",
       "4      46;\"04\";\"SALA PARA ARMAZENAGEM E CONTROLE\";\"3\"                   \n",
       "5                          47;\"04\";\"ALMOXARIFADO\";\"3\"                   \n",
       "6   48;\"05\";\"SALA PARA EQUIP DE GERACAO DE ENERGIA...                   \n",
       "7             49;\"05\";\"CASA DE BOMBAS / MAQUINAS\";\"3\"                   \n",
       "8        01;\"99\";\"SALA DE ATENDIMENTO PEDIATRICO\";\"0\"                   \n",
       "9          02;\"99\";\"SALA DE ATENDIMENTO FEMININO\";\"0\"                   \n",
       "10        03;\"99\";\"SALA DE ATENDIMENTO MASCULINO\";\"0\"                   \n",
       "11   04;\"99\";\"SALA DE ATENDIMENTO INDIFERENCIADO\";\"0\"                   \n",
       "12  05;\"99\";\"SALA REPOUSO/OBSERVACAO - PEDIATRICA\"...                   \n",
       "13   06;\"99\";\"SALA REPOUSO/OBSERVACAO - FEMININO\";\"0\"                   \n",
       "14  07;\"99\";\"SALA REPOUSO/OBSERVACAO - MASCULINO\";\"0\"                   \n",
       "15  08;\"99\";\"SALA REPOUSO/OBSERVACAO - INDIFERENCI...                   \n",
       "16                          09;\"99\";\"ODONTOLOGIA\";\"0\"                   \n",
       "17                 10;\"99\";\"SALA DE HIGIENIZACAO\";\"0\"                   \n",
       "18                        11;\"99\";\"SALA DE GESSO\";\"0\"                   \n",
       "19                     12;\"99\";\"SALA DE CURATIVO\";\"0\"                   \n",
       "20                13;\"99\";\"SALA PEQUENA CIRURGIA\";\"0\"                   \n",
       "21                 14;\"99\";\"CONSULTORIOS MEDICOS\";\"0\"                   \n",
       "22                     15;\"99\";\"CLINICAS BASICAS\";\"1\"                   \n",
       "23              16;\"99\";\"CLINICAS ESPECIALIZADAS\";\"1\"                   \n",
       "24              17;\"99\";\"CLINICAS INDIFERENCIADO\";\"1\"                   \n",
       "25      18;\"99\";\"OUTROS CONSULTORIOS NAO MEDICOS\";\"1\"                   \n",
       "26   19;\"99\";\"SALA REPOUSO/OBSERVACAO - FEMININO\";\"1\"                   \n",
       "27  20;\"99\";\"SALA REPOUSO/OBSERVACAO - MASCULINO\";\"1\"                   \n",
       "28  21;\"99\";\"SALA REPOUSO/OBSERVACAO - PEDIATRICA\"...                   \n",
       "29  22;\"99\";\"SALA DE REPOUSO/OBSERVACAO - INDIFERE...                   \n",
       "30                          23;\"99\";\"ODONTOLOGIA\";\"1\"                   \n",
       "31             24;\"99\";\"SALA DE PEQUENA CIRURGIA\";\"1\"                   \n",
       "32        25;\"99\";\"SALA DE ENFERMAGEM (SERVICOS)\";\"1\"                   \n",
       "33                   26;\"99\";\"SALA DE IMUNIZACAO\";\"1\"                   \n",
       "34                  27;\"99\";\"SALA DE NEBULIZACAO\";\"1\"                   \n",
       "35                        28;\"99\";\"SALA DE GESSO\";\"1\"                   \n",
       "36                     29;\"99\";\"SALA DE CURATIVO\";\"1\"                   \n",
       "37        30;\"99\";\"SALA DE CIRURGIA AMBULATORIAL\";\"1\"                   \n",
       "38                     31;\"01\";\"SALA DE CIRURGIA\";\"2\"                   \n",
       "39                  32;\"01\";\"SALA DE RECUPERACAO\";\"2\"                   \n",
       "40        33;\"01\";\"SALA DE CIRURGIA AMBULATORIAL\";\"2\"                   \n",
       "41                    34;\"02\";\"SALA DE PRE-PARTO\";\"2\"                   \n",
       "42                 35;\"02\";\"SALA DE PARTO NORMAL\";\"2\"                   \n",
       "43                    36;\"02\";\"SALA DE CURETAGEM\";\"2\"                   \n",
       "44                     37;\"02\";\"SALA DE CIRURGIA\";\"2\"                   \n",
       "45                     38;\"03\";\"LEITOS RN NORMAL\";\"2\"                   \n",
       "46                 39;\"03\";\"LEITOS RN PATOLOGICO\";\"2\"                   \n",
       "47        40;\"03\";\"LEITOS DE ALOJAMENTO CONJUNTO\";\"2\"                   \n",
       "48                        43;\"00\";\"BRINQUEDOTECA\";\"2\"                   \n",
       "49                   50;\"99\";\"SALA DE TELESSAUDE\";\"1\"                   \n",
       "50     51;\"99\";\"SALA DE APOIO AO TELEDIAGNOSTICO\";\"1\"                   "
      ]
     },
     "execution_count": 29,
     "metadata": {},
     "output_type": "execute_result"
    }
   ],
   "source": [
    "df_instal = pd.read_csv(r\"C:\\Users\\Carlos\\PainelSaude\\base\\tbInstalFisicaParaAssist202502.csv\")\n",
    "df_instal"
   ]
  },
  {
   "cell_type": "code",
   "execution_count": 17,
   "metadata": {},
   "outputs": [
    {
     "data": {
      "text/html": [
       "<div>\n",
       "<style scoped>\n",
       "    .dataframe tbody tr th:only-of-type {\n",
       "        vertical-align: middle;\n",
       "    }\n",
       "\n",
       "    .dataframe tbody tr th {\n",
       "        vertical-align: top;\n",
       "    }\n",
       "\n",
       "    .dataframe thead th {\n",
       "        text-align: right;\n",
       "    }\n",
       "</style>\n",
       "<table border=\"1\" class=\"dataframe\">\n",
       "  <thead>\n",
       "    <tr style=\"text-align: right;\">\n",
       "      <th></th>\n",
       "      <th>CO_NATUREZA_JUR</th>\n",
       "      <th>DS_NATUREZA_JUR</th>\n",
       "    </tr>\n",
       "  </thead>\n",
       "  <tbody>\n",
       "    <tr>\n",
       "      <th>0</th>\n",
       "      <td>1228</td>\n",
       "      <td>CONSORCIO PUBLICO DE DIREITO PRIVADO</td>\n",
       "    </tr>\n",
       "    <tr>\n",
       "      <th>1</th>\n",
       "      <td>1236</td>\n",
       "      <td>ESTADO OU DISTRITO FEDERAL</td>\n",
       "    </tr>\n",
       "    <tr>\n",
       "      <th>2</th>\n",
       "      <td>1244</td>\n",
       "      <td>MUNICIPIO</td>\n",
       "    </tr>\n",
       "    <tr>\n",
       "      <th>3</th>\n",
       "      <td>1252</td>\n",
       "      <td>FUNDACAO PUBLICA DE DIREITO PRIVADO FEDERAL</td>\n",
       "    </tr>\n",
       "    <tr>\n",
       "      <th>4</th>\n",
       "      <td>1260</td>\n",
       "      <td>FUNDACAO PUBLICA DE DIREITO PRIVADO ESTADUAL O...</td>\n",
       "    </tr>\n",
       "    <tr>\n",
       "      <th>...</th>\n",
       "      <td>...</td>\n",
       "      <td>...</td>\n",
       "    </tr>\n",
       "    <tr>\n",
       "      <th>95</th>\n",
       "      <td>3310</td>\n",
       "      <td>DEMAIS CONDOMINIOS</td>\n",
       "    </tr>\n",
       "    <tr>\n",
       "      <th>96</th>\n",
       "      <td>8885</td>\n",
       "      <td>NATUREZA JURIDICA INVALIDA</td>\n",
       "    </tr>\n",
       "    <tr>\n",
       "      <th>97</th>\n",
       "      <td>2100</td>\n",
       "      <td>SOCIEDADE MERCANTIL DE CAPITAL E INDUSTRIA</td>\n",
       "    </tr>\n",
       "    <tr>\n",
       "      <th>98</th>\n",
       "      <td>2321</td>\n",
       "      <td>SOCIEDADE UNIPESSOAL DE ADVOGADOS</td>\n",
       "    </tr>\n",
       "    <tr>\n",
       "      <th>99</th>\n",
       "      <td>2330</td>\n",
       "      <td>COOPERATIVAS DE CONSUMO</td>\n",
       "    </tr>\n",
       "  </tbody>\n",
       "</table>\n",
       "<p>100 rows × 2 columns</p>\n",
       "</div>"
      ],
      "text/plain": [
       "    CO_NATUREZA_JUR                                    DS_NATUREZA_JUR\n",
       "0              1228               CONSORCIO PUBLICO DE DIREITO PRIVADO\n",
       "1              1236                         ESTADO OU DISTRITO FEDERAL\n",
       "2              1244                                          MUNICIPIO\n",
       "3              1252        FUNDACAO PUBLICA DE DIREITO PRIVADO FEDERAL\n",
       "4              1260  FUNDACAO PUBLICA DE DIREITO PRIVADO ESTADUAL O...\n",
       "..              ...                                                ...\n",
       "95             3310                                 DEMAIS CONDOMINIOS\n",
       "96             8885                         NATUREZA JURIDICA INVALIDA\n",
       "97             2100         SOCIEDADE MERCANTIL DE CAPITAL E INDUSTRIA\n",
       "98             2321                  SOCIEDADE UNIPESSOAL DE ADVOGADOS\n",
       "99             2330                            COOPERATIVAS DE CONSUMO\n",
       "\n",
       "[100 rows x 2 columns]"
      ]
     },
     "execution_count": 17,
     "metadata": {},
     "output_type": "execute_result"
    }
   ],
   "source": [
    "df_uni = pd.read_csv(r\"C:\\Users\\Carlos\\PainelSaude\\tiposUnidades.csv\", encoding='latin1', sep=';')\n",
    "df_uni"
   ]
  },
  {
   "cell_type": "code",
   "execution_count": 19,
   "metadata": {},
   "outputs": [
    {
     "data": {
      "text/plain": [
       "array(['CONSORCIO PUBLICO DE DIREITO PRIVADO',\n",
       "       'ESTADO OU DISTRITO FEDERAL', 'MUNICIPIO',\n",
       "       'FUNDACAO PUBLICA DE DIREITO PRIVADO FEDERAL',\n",
       "       'FUNDACAO PUBLICA DE DIREITO PRIVADO ESTADUAL OU DO DISTRITO FEDERAL',\n",
       "       'FUNDACAO PUBLICA DE DIREITO PRIVADO MUNICIPAL',\n",
       "       'COMITE FINANCEIRO DE PARTIDO POLITICO',\n",
       "       'FRENTE PLEBISCITARIA OU REFERENDARIA',\n",
       "       'EMPRESA INDIVIDUAL DE RESPONSABILIDADE LIMITADA (DE NATUREZA EMPRESARIA)',\n",
       "       'EMPRESA INDIVIDUAL DE RESPONSABILIDADE LIMITADA (DE NATUREZA SIMPLES)',\n",
       "       'ORGANIZAÇÃO SOCIAL (OS)', 'PRODUTOR RURAL (PESSOA FISICA)',\n",
       "       'ORGAO DE DIRECAO LOCAL DE PARTIDO POLITICO',\n",
       "       'ORGAO DE DIRECAO REGIONAL DE PARTIDO POLITICO',\n",
       "       'ORGAO DE DIRECAO NACIONAL DE PARTIDO POLITICO', 'PESSOA FISICA',\n",
       "       'ORGAO PUBLICO DO PODER EXECUTIVO FEDERAL',\n",
       "       'ORGAO PUBLICO DO PODER EXECUTIVO ESTADUAL OU DO DISTRITO FEDERAL',\n",
       "       'ORGAO PUBLICO DO PODER EXECUTIVO MUNICIPAL',\n",
       "       'ORGAO PUBLICO DO PODER LEGISLATIVO FEDERAL',\n",
       "       'ORGAO PUBLICO DO PODER LEGISLATIVO ESTADUAL OU DO DISTRITO FEDERAL',\n",
       "       'ORGAO PUBLICO DO PODER LEGISLATIVO MUNICIPAL',\n",
       "       'ORGAO PUBLICO DO PODER JUDICIARIO FEDERAL',\n",
       "       'ORGAO PUBLICO DO PODER JUDICIARIO ESTADUAL', 'AUTARQUIA FEDERAL',\n",
       "       'AUTARQUIA ESTADUAL OU DO DISTRITO FEDERAL', 'AUTARQUIA MUNICIPAL',\n",
       "       'FUNDACAO FEDERAL', 'FUNDACAO ESTADUAL OU DO DISTRITO FEDERAL',\n",
       "       'FUNDACAO MUNICIPAL', 'ORGAO PUBLICO AUTONOMO FEDERAL',\n",
       "       'ORGAO PUBLICO AUTONOMO ESTADUAL OU DO DISTRITO FEDERAL',\n",
       "       'ORGAO PUBLICO AUTONOMO MUNICIPAL', 'COMISSAO POLINACIONAL',\n",
       "       'FUNDO PUBLICO', 'ASSOCIACAO PUBLICA', 'EMPRESA PUBLICA',\n",
       "       'SOCIEDADE DE ECONOMIA MISTA', 'SOCIEDADE ANONIMA ABERTA',\n",
       "       'SOCIEDADE ANONIMA FECHADA', 'SOCIEDADE EMPRESARIA LIMITADA',\n",
       "       'SOCIEDADE EMPRESARIA EM NOME COLETIVO',\n",
       "       'SOCIEDADE EMPRESARIA EM COMANDITA SIMPLES',\n",
       "       'SOCIEDADE EMPRESARIA EM COMANDITA POR ACOES',\n",
       "       'SOCIEDADE EM CONTA DE PARTICIPACAO', 'EMPRESARIO (INDIVIDUAL)',\n",
       "       'COOPERATIVA', 'CONSORCIO DE SOCIEDADES', 'GRUPO DE SOCIEDADES',\n",
       "       'ESTABELECIMENTO, NO BRASIL, DE SOCIEDADE ESTRANGEIRA',\n",
       "       'ESTABELECIMENTO, NO BRASIL, DE EMPRESA BINACIONAL ARGENTINO BRASILEIRA',\n",
       "       'EMPRESA DOMICILIADA NO EXTERIOR', 'CLUBEFUNDO DE INVESTIMENTO',\n",
       "       'SOCIEDADE SIMPLES PURA', 'SOCIEDADE SIMPLES LIMITADA',\n",
       "       'SOCIEDADE SIMPLES EM NOME COLETIVO',\n",
       "       'SOCIEDADE SIMPLES EM COMANDITA SIMPLES', 'EMPRESA BINACIONAL',\n",
       "       'CONSORCIO DE EMPREGADORES', 'CONSORCIO SIMPLES',\n",
       "       'SERVICO NOTARIAL E REGISTRAL (CARTORIO)', 'FUNDACAO PRIVADA',\n",
       "       'SERVICO SOCIAL AUTONOMO', 'CONDOMINIO EDILICIO',\n",
       "       'COMISSAO DE CONCILIACAO PREVIA',\n",
       "       'ENTIDADE DE MEDIACAO E ARBITRAGEM', 'PARTIDO POLITICO',\n",
       "       'ENTIDADE SINDICAL',\n",
       "       'ESTABELECIMENTO, NO BRASIL, DE FUNDACAO OU ASSOCIACAO ESTRANGEIRAS',\n",
       "       'FUNDACAO OU ASSOCIACAO DOMICILIADA NO EXTERIOR',\n",
       "       'ORGANIZACAO RELIGIOSA', 'COMUNIDADE INDIGENA', 'FUNDO PRIVADO',\n",
       "       'ASSOCIACAO PRIVADA', 'EMPRESA INDIVIDUAL IMOBILIARIA',\n",
       "       'SEGURADO ESPECIAL', 'CONTRIBUINTE INDIVIDUAL',\n",
       "       'CANDIDATO A CARGO POLITICO ELETIVO', 'LEILOEIRO',\n",
       "       'ORGANIZACAO INTERNACIONAL',\n",
       "       'REPRESENTACAO DIPLOMATICA ESTRANGEIRA',\n",
       "       'OUTRAS INSTITUICOES EXTRATERRITORIAIS',\n",
       "       'EMPRESA SIMPLES DE INOVACAO (INOVA SIMPLES)',\n",
       "       'INVESTIDOR NAO RESIDENTE',\n",
       "       'PLANO DE BENEFICIOS DE PREVIDENCIA COMPLEMENTAR FECHADA',\n",
       "       'ADMINISTRACAO PUBLICA', 'ENTIDADE EMPRESARIAIS',\n",
       "       'ENTIDADES SEM FINS LUCRATIVOS',\n",
       "       'FUNDO PUBLICO DA ADMINISTRAÇÃO INDIRETA FEDERAL',\n",
       "       'FUNDO PUBLICO DA ADMINISTRAÇÃO INDIRETA ESTADUAL OU DO DISTRITO FEDERAL',\n",
       "       'FUNDO PUBLICO DA ADMINISTRAÇÃO INDIRETA MUNICIPAL',\n",
       "       'FUNDO PUBLICO DA ADMINISTRAÇÃO DIRETA FEDERAL',\n",
       "       'FUNDO PUBLICO DA ADMINISTRAÇÃO DIRETA ESTADUAL OU DO DISTRITO FEDERAL',\n",
       "       'FUNDO PUBLICO DA ADMINISTRAÇÃO DIRETA MUNICIPAL', 'UNIAO',\n",
       "       'DEMAIS CONDOMINIOS', 'NATUREZA JURIDICA INVALIDA',\n",
       "       'SOCIEDADE MERCANTIL DE CAPITAL E INDUSTRIA',\n",
       "       'SOCIEDADE UNIPESSOAL DE ADVOGADOS', 'COOPERATIVAS DE CONSUMO'],\n",
       "      dtype=object)"
      ]
     },
     "execution_count": 19,
     "metadata": {},
     "output_type": "execute_result"
    }
   ],
   "source": [
    "df_uni[\"DS_NATUREZA_JUR\"].unique()"
   ]
  },
  {
   "cell_type": "code",
   "execution_count": null,
   "metadata": {},
   "outputs": [],
   "source": []
  }
 ],
 "metadata": {
  "kernelspec": {
   "display_name": "venv",
   "language": "python",
   "name": "python3"
  },
  "language_info": {
   "codemirror_mode": {
    "name": "ipython",
    "version": 3
   },
   "file_extension": ".py",
   "mimetype": "text/x-python",
   "name": "python",
   "nbconvert_exporter": "python",
   "pygments_lexer": "ipython3",
   "version": "3.11.9"
  }
 },
 "nbformat": 4,
 "nbformat_minor": 2
}
